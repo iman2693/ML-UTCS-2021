{
 "cells": [
  {
   "cell_type": "markdown",
   "id": "195df603",
   "metadata": {},
   "source": [
    "# Iman Kianian - 2nd Assignment of Machine Learning Course - Winter 2022"
   ]
  },
  {
   "cell_type": "code",
   "execution_count": 1,
   "id": "f3e3b552",
   "metadata": {},
   "outputs": [],
   "source": [
    "import warnings\n",
    "warnings.filterwarnings('ignore')"
   ]
  },
  {
   "cell_type": "markdown",
   "id": "af2923d2",
   "metadata": {},
   "source": [
    "#### Import Necessary Packages"
   ]
  },
  {
   "cell_type": "code",
   "execution_count": 2,
   "id": "1597299e",
   "metadata": {},
   "outputs": [],
   "source": [
    "import pandas as pd\n",
    "import numpy as np\n",
    "from sklearn.model_selection import train_test_split\n",
    "from sklearn.tree import DecisionTreeClassifier\n",
    "from sklearn import metrics,svm\n",
    "from sklearn.model_selection import cross_val_score,KFold\n",
    "from sklearn.ensemble import RandomForestClassifier\n",
    "import xgboost as xgb\n",
    "from sklearn.multiclass import OneVsRestClassifier\n",
    "from sklearn.preprocessing import StandardScaler\n",
    "import matplotlib.pyplot as plt\n",
    "from sklearn.preprocessing import MinMaxScaler\n"
   ]
  },
  {
   "cell_type": "markdown",
   "id": "3120e5cf",
   "metadata": {},
   "source": [
    "<hr><br>\n",
    "\n",
    "# Import and preprocessing"
   ]
  },
  {
   "cell_type": "markdown",
   "id": "4455cd96",
   "metadata": {},
   "source": [
    "#### Import Data"
   ]
  },
  {
   "cell_type": "code",
   "execution_count": 3,
   "id": "352f46aa",
   "metadata": {},
   "outputs": [],
   "source": [
    "df = pd.read_csv (r'pd_speech_features.csv')\n",
    "df.columns = df.iloc[0,:]\n",
    "df = df.iloc[1:,1:]"
   ]
  },
  {
   "cell_type": "code",
   "execution_count": 4,
   "id": "51a7d551",
   "metadata": {},
   "outputs": [
    {
     "data": {
      "text/html": [
       "<div>\n",
       "<style scoped>\n",
       "    .dataframe tbody tr th:only-of-type {\n",
       "        vertical-align: middle;\n",
       "    }\n",
       "\n",
       "    .dataframe tbody tr th {\n",
       "        vertical-align: top;\n",
       "    }\n",
       "\n",
       "    .dataframe thead th {\n",
       "        text-align: right;\n",
       "    }\n",
       "</style>\n",
       "<table border=\"1\" class=\"dataframe\">\n",
       "  <thead>\n",
       "    <tr style=\"text-align: right;\">\n",
       "      <th></th>\n",
       "      <th>gender</th>\n",
       "      <th>PPE</th>\n",
       "      <th>DFA</th>\n",
       "      <th>RPDE</th>\n",
       "      <th>numPulses</th>\n",
       "      <th>numPeriodsPulses</th>\n",
       "      <th>meanPeriodPulses</th>\n",
       "      <th>stdDevPeriodPulses</th>\n",
       "      <th>locPctJitter</th>\n",
       "      <th>locAbsJitter</th>\n",
       "      <th>...</th>\n",
       "      <th>tqwt_kurtosisValue_dec_28</th>\n",
       "      <th>tqwt_kurtosisValue_dec_29</th>\n",
       "      <th>tqwt_kurtosisValue_dec_30</th>\n",
       "      <th>tqwt_kurtosisValue_dec_31</th>\n",
       "      <th>tqwt_kurtosisValue_dec_32</th>\n",
       "      <th>tqwt_kurtosisValue_dec_33</th>\n",
       "      <th>tqwt_kurtosisValue_dec_34</th>\n",
       "      <th>tqwt_kurtosisValue_dec_35</th>\n",
       "      <th>tqwt_kurtosisValue_dec_36</th>\n",
       "      <th>class</th>\n",
       "    </tr>\n",
       "  </thead>\n",
       "  <tbody>\n",
       "    <tr>\n",
       "      <th>1</th>\n",
       "      <td>1</td>\n",
       "      <td>0.85247</td>\n",
       "      <td>0.71826</td>\n",
       "      <td>0.57227</td>\n",
       "      <td>240</td>\n",
       "      <td>239</td>\n",
       "      <td>0.00806353</td>\n",
       "      <td>8.68E-05</td>\n",
       "      <td>0.00218</td>\n",
       "      <td>1.76E-05</td>\n",
       "      <td>...</td>\n",
       "      <td>1.562</td>\n",
       "      <td>2.6445</td>\n",
       "      <td>3.8686</td>\n",
       "      <td>4.2105</td>\n",
       "      <td>5.1221</td>\n",
       "      <td>4.4625</td>\n",
       "      <td>2.6202</td>\n",
       "      <td>3.0004</td>\n",
       "      <td>18.9405</td>\n",
       "      <td>1</td>\n",
       "    </tr>\n",
       "    <tr>\n",
       "      <th>2</th>\n",
       "      <td>1</td>\n",
       "      <td>0.76686</td>\n",
       "      <td>0.69481</td>\n",
       "      <td>0.53966</td>\n",
       "      <td>234</td>\n",
       "      <td>233</td>\n",
       "      <td>0.008258256</td>\n",
       "      <td>7.31E-05</td>\n",
       "      <td>0.00195</td>\n",
       "      <td>1.61E-05</td>\n",
       "      <td>...</td>\n",
       "      <td>1.5589</td>\n",
       "      <td>3.6107</td>\n",
       "      <td>23.5155</td>\n",
       "      <td>14.1962</td>\n",
       "      <td>11.0261</td>\n",
       "      <td>9.5082</td>\n",
       "      <td>6.5245</td>\n",
       "      <td>6.3431</td>\n",
       "      <td>45.178</td>\n",
       "      <td>1</td>\n",
       "    </tr>\n",
       "    <tr>\n",
       "      <th>3</th>\n",
       "      <td>1</td>\n",
       "      <td>0.85083</td>\n",
       "      <td>0.67604</td>\n",
       "      <td>0.58982</td>\n",
       "      <td>232</td>\n",
       "      <td>231</td>\n",
       "      <td>0.00833959</td>\n",
       "      <td>6.04E-05</td>\n",
       "      <td>0.00176</td>\n",
       "      <td>1.47E-05</td>\n",
       "      <td>...</td>\n",
       "      <td>1.5643</td>\n",
       "      <td>2.3308</td>\n",
       "      <td>9.4959</td>\n",
       "      <td>10.7458</td>\n",
       "      <td>11.0177</td>\n",
       "      <td>4.8066</td>\n",
       "      <td>2.9199</td>\n",
       "      <td>3.1495</td>\n",
       "      <td>4.7666</td>\n",
       "      <td>1</td>\n",
       "    </tr>\n",
       "    <tr>\n",
       "      <th>4</th>\n",
       "      <td>0</td>\n",
       "      <td>0.41121</td>\n",
       "      <td>0.79672</td>\n",
       "      <td>0.59257</td>\n",
       "      <td>178</td>\n",
       "      <td>177</td>\n",
       "      <td>0.010857733</td>\n",
       "      <td>0.000182739</td>\n",
       "      <td>0.00419</td>\n",
       "      <td>4.55E-05</td>\n",
       "      <td>...</td>\n",
       "      <td>3.7805</td>\n",
       "      <td>3.5664</td>\n",
       "      <td>5.2558</td>\n",
       "      <td>14.0403</td>\n",
       "      <td>4.2235</td>\n",
       "      <td>4.6857</td>\n",
       "      <td>4.846</td>\n",
       "      <td>6.265</td>\n",
       "      <td>4.0603</td>\n",
       "      <td>1</td>\n",
       "    </tr>\n",
       "    <tr>\n",
       "      <th>5</th>\n",
       "      <td>0</td>\n",
       "      <td>0.3279</td>\n",
       "      <td>0.79782</td>\n",
       "      <td>0.53028</td>\n",
       "      <td>236</td>\n",
       "      <td>235</td>\n",
       "      <td>0.008161574</td>\n",
       "      <td>0.002668863</td>\n",
       "      <td>0.00535</td>\n",
       "      <td>4.37E-05</td>\n",
       "      <td>...</td>\n",
       "      <td>6.1727</td>\n",
       "      <td>5.8416</td>\n",
       "      <td>6.0805</td>\n",
       "      <td>5.7621</td>\n",
       "      <td>7.7817</td>\n",
       "      <td>11.6891</td>\n",
       "      <td>8.2103</td>\n",
       "      <td>5.0559</td>\n",
       "      <td>6.1164</td>\n",
       "      <td>1</td>\n",
       "    </tr>\n",
       "    <tr>\n",
       "      <th>...</th>\n",
       "      <td>...</td>\n",
       "      <td>...</td>\n",
       "      <td>...</td>\n",
       "      <td>...</td>\n",
       "      <td>...</td>\n",
       "      <td>...</td>\n",
       "      <td>...</td>\n",
       "      <td>...</td>\n",
       "      <td>...</td>\n",
       "      <td>...</td>\n",
       "      <td>...</td>\n",
       "      <td>...</td>\n",
       "      <td>...</td>\n",
       "      <td>...</td>\n",
       "      <td>...</td>\n",
       "      <td>...</td>\n",
       "      <td>...</td>\n",
       "      <td>...</td>\n",
       "      <td>...</td>\n",
       "      <td>...</td>\n",
       "      <td>...</td>\n",
       "    </tr>\n",
       "    <tr>\n",
       "      <th>752</th>\n",
       "      <td>0</td>\n",
       "      <td>0.80903</td>\n",
       "      <td>0.56355</td>\n",
       "      <td>0.28385</td>\n",
       "      <td>417</td>\n",
       "      <td>416</td>\n",
       "      <td>0.004626942</td>\n",
       "      <td>5.22E-05</td>\n",
       "      <td>0.00064</td>\n",
       "      <td>2.97E-06</td>\n",
       "      <td>...</td>\n",
       "      <td>3.0706</td>\n",
       "      <td>3.019</td>\n",
       "      <td>3.1212</td>\n",
       "      <td>2.4921</td>\n",
       "      <td>3.5844</td>\n",
       "      <td>3.54</td>\n",
       "      <td>3.3805</td>\n",
       "      <td>3.2003</td>\n",
       "      <td>6.8671</td>\n",
       "      <td>0</td>\n",
       "    </tr>\n",
       "    <tr>\n",
       "      <th>753</th>\n",
       "      <td>0</td>\n",
       "      <td>0.16084</td>\n",
       "      <td>0.56499</td>\n",
       "      <td>0.59194</td>\n",
       "      <td>415</td>\n",
       "      <td>413</td>\n",
       "      <td>0.004549703</td>\n",
       "      <td>0.000219994</td>\n",
       "      <td>0.00143</td>\n",
       "      <td>6.50E-06</td>\n",
       "      <td>...</td>\n",
       "      <td>1.9704</td>\n",
       "      <td>1.7451</td>\n",
       "      <td>1.8277</td>\n",
       "      <td>2.4976</td>\n",
       "      <td>5.2981</td>\n",
       "      <td>4.2616</td>\n",
       "      <td>6.3042</td>\n",
       "      <td>10.9058</td>\n",
       "      <td>28.417</td>\n",
       "      <td>0</td>\n",
       "    </tr>\n",
       "    <tr>\n",
       "      <th>754</th>\n",
       "      <td>0</td>\n",
       "      <td>0.88389</td>\n",
       "      <td>0.72335</td>\n",
       "      <td>0.46815</td>\n",
       "      <td>381</td>\n",
       "      <td>380</td>\n",
       "      <td>0.005069271</td>\n",
       "      <td>0.000102654</td>\n",
       "      <td>0.00076</td>\n",
       "      <td>3.87E-06</td>\n",
       "      <td>...</td>\n",
       "      <td>51.5607</td>\n",
       "      <td>44.4641</td>\n",
       "      <td>26.1586</td>\n",
       "      <td>6.3076</td>\n",
       "      <td>2.8601</td>\n",
       "      <td>2.5361</td>\n",
       "      <td>3.5377</td>\n",
       "      <td>3.3545</td>\n",
       "      <td>5.0424</td>\n",
       "      <td>0</td>\n",
       "    </tr>\n",
       "    <tr>\n",
       "      <th>755</th>\n",
       "      <td>0</td>\n",
       "      <td>0.83782</td>\n",
       "      <td>0.7489</td>\n",
       "      <td>0.49823</td>\n",
       "      <td>340</td>\n",
       "      <td>339</td>\n",
       "      <td>0.005679019</td>\n",
       "      <td>5.51E-05</td>\n",
       "      <td>0.00092</td>\n",
       "      <td>5.24E-06</td>\n",
       "      <td>...</td>\n",
       "      <td>19.1607</td>\n",
       "      <td>12.8312</td>\n",
       "      <td>8.9434</td>\n",
       "      <td>2.2044</td>\n",
       "      <td>1.9496</td>\n",
       "      <td>1.9664</td>\n",
       "      <td>2.6801</td>\n",
       "      <td>2.8332</td>\n",
       "      <td>3.7131</td>\n",
       "      <td>0</td>\n",
       "    </tr>\n",
       "    <tr>\n",
       "      <th>756</th>\n",
       "      <td>0</td>\n",
       "      <td>0.81304</td>\n",
       "      <td>0.76471</td>\n",
       "      <td>0.46374</td>\n",
       "      <td>340</td>\n",
       "      <td>339</td>\n",
       "      <td>0.005675776</td>\n",
       "      <td>3.71E-05</td>\n",
       "      <td>0.00078</td>\n",
       "      <td>4.40E-06</td>\n",
       "      <td>...</td>\n",
       "      <td>62.9927</td>\n",
       "      <td>21.8152</td>\n",
       "      <td>9.2457</td>\n",
       "      <td>4.8555</td>\n",
       "      <td>3.0551</td>\n",
       "      <td>3.0415</td>\n",
       "      <td>4.0116</td>\n",
       "      <td>2.6217</td>\n",
       "      <td>3.1527</td>\n",
       "      <td>0</td>\n",
       "    </tr>\n",
       "  </tbody>\n",
       "</table>\n",
       "<p>756 rows × 754 columns</p>\n",
       "</div>"
      ],
      "text/plain": [
       "0   gender      PPE      DFA     RPDE numPulses numPeriodsPulses  \\\n",
       "1        1  0.85247  0.71826  0.57227       240              239   \n",
       "2        1  0.76686  0.69481  0.53966       234              233   \n",
       "3        1  0.85083  0.67604  0.58982       232              231   \n",
       "4        0  0.41121  0.79672  0.59257       178              177   \n",
       "5        0   0.3279  0.79782  0.53028       236              235   \n",
       "..     ...      ...      ...      ...       ...              ...   \n",
       "752      0  0.80903  0.56355  0.28385       417              416   \n",
       "753      0  0.16084  0.56499  0.59194       415              413   \n",
       "754      0  0.88389  0.72335  0.46815       381              380   \n",
       "755      0  0.83782   0.7489  0.49823       340              339   \n",
       "756      0  0.81304  0.76471  0.46374       340              339   \n",
       "\n",
       "0   meanPeriodPulses stdDevPeriodPulses locPctJitter locAbsJitter  ...  \\\n",
       "1         0.00806353           8.68E-05      0.00218     1.76E-05  ...   \n",
       "2        0.008258256           7.31E-05      0.00195     1.61E-05  ...   \n",
       "3         0.00833959           6.04E-05      0.00176     1.47E-05  ...   \n",
       "4        0.010857733        0.000182739      0.00419     4.55E-05  ...   \n",
       "5        0.008161574        0.002668863      0.00535     4.37E-05  ...   \n",
       "..               ...                ...          ...          ...  ...   \n",
       "752      0.004626942           5.22E-05      0.00064     2.97E-06  ...   \n",
       "753      0.004549703        0.000219994      0.00143     6.50E-06  ...   \n",
       "754      0.005069271        0.000102654      0.00076     3.87E-06  ...   \n",
       "755      0.005679019           5.51E-05      0.00092     5.24E-06  ...   \n",
       "756      0.005675776           3.71E-05      0.00078     4.40E-06  ...   \n",
       "\n",
       "0   tqwt_kurtosisValue_dec_28 tqwt_kurtosisValue_dec_29  \\\n",
       "1                       1.562                    2.6445   \n",
       "2                      1.5589                    3.6107   \n",
       "3                      1.5643                    2.3308   \n",
       "4                      3.7805                    3.5664   \n",
       "5                      6.1727                    5.8416   \n",
       "..                        ...                       ...   \n",
       "752                    3.0706                     3.019   \n",
       "753                    1.9704                    1.7451   \n",
       "754                   51.5607                   44.4641   \n",
       "755                   19.1607                   12.8312   \n",
       "756                   62.9927                   21.8152   \n",
       "\n",
       "0   tqwt_kurtosisValue_dec_30 tqwt_kurtosisValue_dec_31  \\\n",
       "1                      3.8686                    4.2105   \n",
       "2                     23.5155                   14.1962   \n",
       "3                      9.4959                   10.7458   \n",
       "4                      5.2558                   14.0403   \n",
       "5                      6.0805                    5.7621   \n",
       "..                        ...                       ...   \n",
       "752                    3.1212                    2.4921   \n",
       "753                    1.8277                    2.4976   \n",
       "754                   26.1586                    6.3076   \n",
       "755                    8.9434                    2.2044   \n",
       "756                    9.2457                    4.8555   \n",
       "\n",
       "0   tqwt_kurtosisValue_dec_32 tqwt_kurtosisValue_dec_33  \\\n",
       "1                      5.1221                    4.4625   \n",
       "2                     11.0261                    9.5082   \n",
       "3                     11.0177                    4.8066   \n",
       "4                      4.2235                    4.6857   \n",
       "5                      7.7817                   11.6891   \n",
       "..                        ...                       ...   \n",
       "752                    3.5844                      3.54   \n",
       "753                    5.2981                    4.2616   \n",
       "754                    2.8601                    2.5361   \n",
       "755                    1.9496                    1.9664   \n",
       "756                    3.0551                    3.0415   \n",
       "\n",
       "0   tqwt_kurtosisValue_dec_34 tqwt_kurtosisValue_dec_35  \\\n",
       "1                      2.6202                    3.0004   \n",
       "2                      6.5245                    6.3431   \n",
       "3                      2.9199                    3.1495   \n",
       "4                       4.846                     6.265   \n",
       "5                      8.2103                    5.0559   \n",
       "..                        ...                       ...   \n",
       "752                    3.3805                    3.2003   \n",
       "753                    6.3042                   10.9058   \n",
       "754                    3.5377                    3.3545   \n",
       "755                    2.6801                    2.8332   \n",
       "756                    4.0116                    2.6217   \n",
       "\n",
       "0   tqwt_kurtosisValue_dec_36 class  \n",
       "1                     18.9405     1  \n",
       "2                      45.178     1  \n",
       "3                      4.7666     1  \n",
       "4                      4.0603     1  \n",
       "5                      6.1164     1  \n",
       "..                        ...   ...  \n",
       "752                    6.8671     0  \n",
       "753                    28.417     0  \n",
       "754                    5.0424     0  \n",
       "755                    3.7131     0  \n",
       "756                    3.1527     0  \n",
       "\n",
       "[756 rows x 754 columns]"
      ]
     },
     "execution_count": 4,
     "metadata": {},
     "output_type": "execute_result"
    }
   ],
   "source": [
    "df"
   ]
  },
  {
   "cell_type": "code",
   "execution_count": 5,
   "id": "b62e2b44",
   "metadata": {},
   "outputs": [],
   "source": [
    "X = df.iloc[:,0:-1]\n",
    "y = df.iloc[:,-1]\n",
    "X = X.astype('float')\n",
    "y = y.astype('int')"
   ]
  },
  {
   "cell_type": "code",
   "execution_count": 6,
   "id": "ffb3353f",
   "metadata": {},
   "outputs": [
    {
     "data": {
      "text/html": [
       "<div>\n",
       "<style scoped>\n",
       "    .dataframe tbody tr th:only-of-type {\n",
       "        vertical-align: middle;\n",
       "    }\n",
       "\n",
       "    .dataframe tbody tr th {\n",
       "        vertical-align: top;\n",
       "    }\n",
       "\n",
       "    .dataframe thead th {\n",
       "        text-align: right;\n",
       "    }\n",
       "</style>\n",
       "<table border=\"1\" class=\"dataframe\">\n",
       "  <thead>\n",
       "    <tr style=\"text-align: right;\">\n",
       "      <th></th>\n",
       "      <th>gender</th>\n",
       "      <th>PPE</th>\n",
       "      <th>DFA</th>\n",
       "      <th>RPDE</th>\n",
       "      <th>numPulses</th>\n",
       "      <th>numPeriodsPulses</th>\n",
       "      <th>meanPeriodPulses</th>\n",
       "      <th>stdDevPeriodPulses</th>\n",
       "      <th>locPctJitter</th>\n",
       "      <th>locAbsJitter</th>\n",
       "      <th>...</th>\n",
       "      <th>tqwt_kurtosisValue_dec_27</th>\n",
       "      <th>tqwt_kurtosisValue_dec_28</th>\n",
       "      <th>tqwt_kurtosisValue_dec_29</th>\n",
       "      <th>tqwt_kurtosisValue_dec_30</th>\n",
       "      <th>tqwt_kurtosisValue_dec_31</th>\n",
       "      <th>tqwt_kurtosisValue_dec_32</th>\n",
       "      <th>tqwt_kurtosisValue_dec_33</th>\n",
       "      <th>tqwt_kurtosisValue_dec_34</th>\n",
       "      <th>tqwt_kurtosisValue_dec_35</th>\n",
       "      <th>tqwt_kurtosisValue_dec_36</th>\n",
       "    </tr>\n",
       "  </thead>\n",
       "  <tbody>\n",
       "    <tr>\n",
       "      <th>1</th>\n",
       "      <td>1.0</td>\n",
       "      <td>0.85247</td>\n",
       "      <td>0.71826</td>\n",
       "      <td>0.57227</td>\n",
       "      <td>240.0</td>\n",
       "      <td>239.0</td>\n",
       "      <td>0.008064</td>\n",
       "      <td>0.000087</td>\n",
       "      <td>0.00218</td>\n",
       "      <td>0.000018</td>\n",
       "      <td>...</td>\n",
       "      <td>1.5466</td>\n",
       "      <td>1.5620</td>\n",
       "      <td>2.6445</td>\n",
       "      <td>3.8686</td>\n",
       "      <td>4.2105</td>\n",
       "      <td>5.1221</td>\n",
       "      <td>4.4625</td>\n",
       "      <td>2.6202</td>\n",
       "      <td>3.0004</td>\n",
       "      <td>18.9405</td>\n",
       "    </tr>\n",
       "    <tr>\n",
       "      <th>2</th>\n",
       "      <td>1.0</td>\n",
       "      <td>0.76686</td>\n",
       "      <td>0.69481</td>\n",
       "      <td>0.53966</td>\n",
       "      <td>234.0</td>\n",
       "      <td>233.0</td>\n",
       "      <td>0.008258</td>\n",
       "      <td>0.000073</td>\n",
       "      <td>0.00195</td>\n",
       "      <td>0.000016</td>\n",
       "      <td>...</td>\n",
       "      <td>1.5530</td>\n",
       "      <td>1.5589</td>\n",
       "      <td>3.6107</td>\n",
       "      <td>23.5155</td>\n",
       "      <td>14.1962</td>\n",
       "      <td>11.0261</td>\n",
       "      <td>9.5082</td>\n",
       "      <td>6.5245</td>\n",
       "      <td>6.3431</td>\n",
       "      <td>45.1780</td>\n",
       "    </tr>\n",
       "    <tr>\n",
       "      <th>3</th>\n",
       "      <td>1.0</td>\n",
       "      <td>0.85083</td>\n",
       "      <td>0.67604</td>\n",
       "      <td>0.58982</td>\n",
       "      <td>232.0</td>\n",
       "      <td>231.0</td>\n",
       "      <td>0.008340</td>\n",
       "      <td>0.000060</td>\n",
       "      <td>0.00176</td>\n",
       "      <td>0.000015</td>\n",
       "      <td>...</td>\n",
       "      <td>1.5399</td>\n",
       "      <td>1.5643</td>\n",
       "      <td>2.3308</td>\n",
       "      <td>9.4959</td>\n",
       "      <td>10.7458</td>\n",
       "      <td>11.0177</td>\n",
       "      <td>4.8066</td>\n",
       "      <td>2.9199</td>\n",
       "      <td>3.1495</td>\n",
       "      <td>4.7666</td>\n",
       "    </tr>\n",
       "    <tr>\n",
       "      <th>4</th>\n",
       "      <td>0.0</td>\n",
       "      <td>0.41121</td>\n",
       "      <td>0.79672</td>\n",
       "      <td>0.59257</td>\n",
       "      <td>178.0</td>\n",
       "      <td>177.0</td>\n",
       "      <td>0.010858</td>\n",
       "      <td>0.000183</td>\n",
       "      <td>0.00419</td>\n",
       "      <td>0.000046</td>\n",
       "      <td>...</td>\n",
       "      <td>6.9761</td>\n",
       "      <td>3.7805</td>\n",
       "      <td>3.5664</td>\n",
       "      <td>5.2558</td>\n",
       "      <td>14.0403</td>\n",
       "      <td>4.2235</td>\n",
       "      <td>4.6857</td>\n",
       "      <td>4.8460</td>\n",
       "      <td>6.2650</td>\n",
       "      <td>4.0603</td>\n",
       "    </tr>\n",
       "    <tr>\n",
       "      <th>5</th>\n",
       "      <td>0.0</td>\n",
       "      <td>0.32790</td>\n",
       "      <td>0.79782</td>\n",
       "      <td>0.53028</td>\n",
       "      <td>236.0</td>\n",
       "      <td>235.0</td>\n",
       "      <td>0.008162</td>\n",
       "      <td>0.002669</td>\n",
       "      <td>0.00535</td>\n",
       "      <td>0.000044</td>\n",
       "      <td>...</td>\n",
       "      <td>7.8832</td>\n",
       "      <td>6.1727</td>\n",
       "      <td>5.8416</td>\n",
       "      <td>6.0805</td>\n",
       "      <td>5.7621</td>\n",
       "      <td>7.7817</td>\n",
       "      <td>11.6891</td>\n",
       "      <td>8.2103</td>\n",
       "      <td>5.0559</td>\n",
       "      <td>6.1164</td>\n",
       "    </tr>\n",
       "    <tr>\n",
       "      <th>...</th>\n",
       "      <td>...</td>\n",
       "      <td>...</td>\n",
       "      <td>...</td>\n",
       "      <td>...</td>\n",
       "      <td>...</td>\n",
       "      <td>...</td>\n",
       "      <td>...</td>\n",
       "      <td>...</td>\n",
       "      <td>...</td>\n",
       "      <td>...</td>\n",
       "      <td>...</td>\n",
       "      <td>...</td>\n",
       "      <td>...</td>\n",
       "      <td>...</td>\n",
       "      <td>...</td>\n",
       "      <td>...</td>\n",
       "      <td>...</td>\n",
       "      <td>...</td>\n",
       "      <td>...</td>\n",
       "      <td>...</td>\n",
       "      <td>...</td>\n",
       "    </tr>\n",
       "    <tr>\n",
       "      <th>752</th>\n",
       "      <td>0.0</td>\n",
       "      <td>0.80903</td>\n",
       "      <td>0.56355</td>\n",
       "      <td>0.28385</td>\n",
       "      <td>417.0</td>\n",
       "      <td>416.0</td>\n",
       "      <td>0.004627</td>\n",
       "      <td>0.000052</td>\n",
       "      <td>0.00064</td>\n",
       "      <td>0.000003</td>\n",
       "      <td>...</td>\n",
       "      <td>3.4394</td>\n",
       "      <td>3.0706</td>\n",
       "      <td>3.0190</td>\n",
       "      <td>3.1212</td>\n",
       "      <td>2.4921</td>\n",
       "      <td>3.5844</td>\n",
       "      <td>3.5400</td>\n",
       "      <td>3.3805</td>\n",
       "      <td>3.2003</td>\n",
       "      <td>6.8671</td>\n",
       "    </tr>\n",
       "    <tr>\n",
       "      <th>753</th>\n",
       "      <td>0.0</td>\n",
       "      <td>0.16084</td>\n",
       "      <td>0.56499</td>\n",
       "      <td>0.59194</td>\n",
       "      <td>415.0</td>\n",
       "      <td>413.0</td>\n",
       "      <td>0.004550</td>\n",
       "      <td>0.000220</td>\n",
       "      <td>0.00143</td>\n",
       "      <td>0.000006</td>\n",
       "      <td>...</td>\n",
       "      <td>19.6733</td>\n",
       "      <td>1.9704</td>\n",
       "      <td>1.7451</td>\n",
       "      <td>1.8277</td>\n",
       "      <td>2.4976</td>\n",
       "      <td>5.2981</td>\n",
       "      <td>4.2616</td>\n",
       "      <td>6.3042</td>\n",
       "      <td>10.9058</td>\n",
       "      <td>28.4170</td>\n",
       "    </tr>\n",
       "    <tr>\n",
       "      <th>754</th>\n",
       "      <td>0.0</td>\n",
       "      <td>0.88389</td>\n",
       "      <td>0.72335</td>\n",
       "      <td>0.46815</td>\n",
       "      <td>381.0</td>\n",
       "      <td>380.0</td>\n",
       "      <td>0.005069</td>\n",
       "      <td>0.000103</td>\n",
       "      <td>0.00076</td>\n",
       "      <td>0.000004</td>\n",
       "      <td>...</td>\n",
       "      <td>137.3126</td>\n",
       "      <td>51.5607</td>\n",
       "      <td>44.4641</td>\n",
       "      <td>26.1586</td>\n",
       "      <td>6.3076</td>\n",
       "      <td>2.8601</td>\n",
       "      <td>2.5361</td>\n",
       "      <td>3.5377</td>\n",
       "      <td>3.3545</td>\n",
       "      <td>5.0424</td>\n",
       "    </tr>\n",
       "    <tr>\n",
       "      <th>755</th>\n",
       "      <td>0.0</td>\n",
       "      <td>0.83782</td>\n",
       "      <td>0.74890</td>\n",
       "      <td>0.49823</td>\n",
       "      <td>340.0</td>\n",
       "      <td>339.0</td>\n",
       "      <td>0.005679</td>\n",
       "      <td>0.000055</td>\n",
       "      <td>0.00092</td>\n",
       "      <td>0.000005</td>\n",
       "      <td>...</td>\n",
       "      <td>5.4425</td>\n",
       "      <td>19.1607</td>\n",
       "      <td>12.8312</td>\n",
       "      <td>8.9434</td>\n",
       "      <td>2.2044</td>\n",
       "      <td>1.9496</td>\n",
       "      <td>1.9664</td>\n",
       "      <td>2.6801</td>\n",
       "      <td>2.8332</td>\n",
       "      <td>3.7131</td>\n",
       "    </tr>\n",
       "    <tr>\n",
       "      <th>756</th>\n",
       "      <td>0.0</td>\n",
       "      <td>0.81304</td>\n",
       "      <td>0.76471</td>\n",
       "      <td>0.46374</td>\n",
       "      <td>340.0</td>\n",
       "      <td>339.0</td>\n",
       "      <td>0.005676</td>\n",
       "      <td>0.000037</td>\n",
       "      <td>0.00078</td>\n",
       "      <td>0.000004</td>\n",
       "      <td>...</td>\n",
       "      <td>11.1487</td>\n",
       "      <td>62.9927</td>\n",
       "      <td>21.8152</td>\n",
       "      <td>9.2457</td>\n",
       "      <td>4.8555</td>\n",
       "      <td>3.0551</td>\n",
       "      <td>3.0415</td>\n",
       "      <td>4.0116</td>\n",
       "      <td>2.6217</td>\n",
       "      <td>3.1527</td>\n",
       "    </tr>\n",
       "  </tbody>\n",
       "</table>\n",
       "<p>756 rows × 753 columns</p>\n",
       "</div>"
      ],
      "text/plain": [
       "0    gender      PPE      DFA     RPDE  numPulses  numPeriodsPulses  \\\n",
       "1       1.0  0.85247  0.71826  0.57227      240.0             239.0   \n",
       "2       1.0  0.76686  0.69481  0.53966      234.0             233.0   \n",
       "3       1.0  0.85083  0.67604  0.58982      232.0             231.0   \n",
       "4       0.0  0.41121  0.79672  0.59257      178.0             177.0   \n",
       "5       0.0  0.32790  0.79782  0.53028      236.0             235.0   \n",
       "..      ...      ...      ...      ...        ...               ...   \n",
       "752     0.0  0.80903  0.56355  0.28385      417.0             416.0   \n",
       "753     0.0  0.16084  0.56499  0.59194      415.0             413.0   \n",
       "754     0.0  0.88389  0.72335  0.46815      381.0             380.0   \n",
       "755     0.0  0.83782  0.74890  0.49823      340.0             339.0   \n",
       "756     0.0  0.81304  0.76471  0.46374      340.0             339.0   \n",
       "\n",
       "0    meanPeriodPulses  stdDevPeriodPulses  locPctJitter  locAbsJitter  ...  \\\n",
       "1            0.008064            0.000087       0.00218      0.000018  ...   \n",
       "2            0.008258            0.000073       0.00195      0.000016  ...   \n",
       "3            0.008340            0.000060       0.00176      0.000015  ...   \n",
       "4            0.010858            0.000183       0.00419      0.000046  ...   \n",
       "5            0.008162            0.002669       0.00535      0.000044  ...   \n",
       "..                ...                 ...           ...           ...  ...   \n",
       "752          0.004627            0.000052       0.00064      0.000003  ...   \n",
       "753          0.004550            0.000220       0.00143      0.000006  ...   \n",
       "754          0.005069            0.000103       0.00076      0.000004  ...   \n",
       "755          0.005679            0.000055       0.00092      0.000005  ...   \n",
       "756          0.005676            0.000037       0.00078      0.000004  ...   \n",
       "\n",
       "0    tqwt_kurtosisValue_dec_27  tqwt_kurtosisValue_dec_28  \\\n",
       "1                       1.5466                     1.5620   \n",
       "2                       1.5530                     1.5589   \n",
       "3                       1.5399                     1.5643   \n",
       "4                       6.9761                     3.7805   \n",
       "5                       7.8832                     6.1727   \n",
       "..                         ...                        ...   \n",
       "752                     3.4394                     3.0706   \n",
       "753                    19.6733                     1.9704   \n",
       "754                   137.3126                    51.5607   \n",
       "755                     5.4425                    19.1607   \n",
       "756                    11.1487                    62.9927   \n",
       "\n",
       "0    tqwt_kurtosisValue_dec_29  tqwt_kurtosisValue_dec_30  \\\n",
       "1                       2.6445                     3.8686   \n",
       "2                       3.6107                    23.5155   \n",
       "3                       2.3308                     9.4959   \n",
       "4                       3.5664                     5.2558   \n",
       "5                       5.8416                     6.0805   \n",
       "..                         ...                        ...   \n",
       "752                     3.0190                     3.1212   \n",
       "753                     1.7451                     1.8277   \n",
       "754                    44.4641                    26.1586   \n",
       "755                    12.8312                     8.9434   \n",
       "756                    21.8152                     9.2457   \n",
       "\n",
       "0    tqwt_kurtosisValue_dec_31  tqwt_kurtosisValue_dec_32  \\\n",
       "1                       4.2105                     5.1221   \n",
       "2                      14.1962                    11.0261   \n",
       "3                      10.7458                    11.0177   \n",
       "4                      14.0403                     4.2235   \n",
       "5                       5.7621                     7.7817   \n",
       "..                         ...                        ...   \n",
       "752                     2.4921                     3.5844   \n",
       "753                     2.4976                     5.2981   \n",
       "754                     6.3076                     2.8601   \n",
       "755                     2.2044                     1.9496   \n",
       "756                     4.8555                     3.0551   \n",
       "\n",
       "0    tqwt_kurtosisValue_dec_33  tqwt_kurtosisValue_dec_34  \\\n",
       "1                       4.4625                     2.6202   \n",
       "2                       9.5082                     6.5245   \n",
       "3                       4.8066                     2.9199   \n",
       "4                       4.6857                     4.8460   \n",
       "5                      11.6891                     8.2103   \n",
       "..                         ...                        ...   \n",
       "752                     3.5400                     3.3805   \n",
       "753                     4.2616                     6.3042   \n",
       "754                     2.5361                     3.5377   \n",
       "755                     1.9664                     2.6801   \n",
       "756                     3.0415                     4.0116   \n",
       "\n",
       "0    tqwt_kurtosisValue_dec_35  tqwt_kurtosisValue_dec_36  \n",
       "1                       3.0004                    18.9405  \n",
       "2                       6.3431                    45.1780  \n",
       "3                       3.1495                     4.7666  \n",
       "4                       6.2650                     4.0603  \n",
       "5                       5.0559                     6.1164  \n",
       "..                         ...                        ...  \n",
       "752                     3.2003                     6.8671  \n",
       "753                    10.9058                    28.4170  \n",
       "754                     3.3545                     5.0424  \n",
       "755                     2.8332                     3.7131  \n",
       "756                     2.6217                     3.1527  \n",
       "\n",
       "[756 rows x 753 columns]"
      ]
     },
     "execution_count": 6,
     "metadata": {},
     "output_type": "execute_result"
    }
   ],
   "source": [
    "X"
   ]
  },
  {
   "cell_type": "code",
   "execution_count": 7,
   "id": "99fb7075",
   "metadata": {},
   "outputs": [
    {
     "data": {
      "text/plain": [
       "1      1\n",
       "2      1\n",
       "3      1\n",
       "4      1\n",
       "5      1\n",
       "      ..\n",
       "752    0\n",
       "753    0\n",
       "754    0\n",
       "755    0\n",
       "756    0\n",
       "Name: class, Length: 756, dtype: int32"
      ]
     },
     "execution_count": 7,
     "metadata": {},
     "output_type": "execute_result"
    }
   ],
   "source": [
    "y"
   ]
  },
  {
   "cell_type": "code",
   "execution_count": 8,
   "id": "eb4d2e1a",
   "metadata": {},
   "outputs": [],
   "source": [
    "X = X.to_numpy()\n",
    "y = y.to_numpy()"
   ]
  },
  {
   "cell_type": "markdown",
   "id": "226b11f4",
   "metadata": {},
   "source": [
    "#### Split dataset Into Train and test data (90/10)"
   ]
  },
  {
   "cell_type": "code",
   "execution_count": 9,
   "id": "71a97f8e",
   "metadata": {},
   "outputs": [],
   "source": [
    "X_Train , X_Test , Y_Train , Y_Test = train_test_split(X,y, test_size=0.1,random_state=0)"
   ]
  },
  {
   "cell_type": "markdown",
   "id": "40f67ef5",
   "metadata": {},
   "source": [
    "#### Standardization Data"
   ]
  },
  {
   "cell_type": "code",
   "execution_count": 10,
   "id": "6a777a74",
   "metadata": {},
   "outputs": [],
   "source": [
    "scaler = StandardScaler()\n",
    "scaler.fit(X_Train)\n",
    "X_Train = scaler.transform(X_Train)\n",
    "X_Test = scaler.transform(X_Test)"
   ]
  },
  {
   "cell_type": "markdown",
   "id": "f2ae1a36",
   "metadata": {},
   "source": [
    "#### MinMax"
   ]
  },
  {
   "cell_type": "code",
   "execution_count": 11,
   "id": "b66acc71",
   "metadata": {},
   "outputs": [],
   "source": [
    "scaler = MinMaxScaler()\n",
    "scaler.fit(X_Train)\n",
    "X_Train = scaler.transform(X_Train)\n",
    "X_Test = scaler.transform(X_Test)"
   ]
  },
  {
   "cell_type": "markdown",
   "id": "a16aa7f9",
   "metadata": {},
   "source": [
    "<br><hr><br>"
   ]
  },
  {
   "cell_type": "markdown",
   "id": "de44bd0f",
   "metadata": {},
   "source": [
    "## Section 1"
   ]
  },
  {
   "cell_type": "markdown",
   "id": "c2b035c2",
   "metadata": {},
   "source": [
    "### Decision Tree Classification"
   ]
  },
  {
   "cell_type": "markdown",
   "id": "a32efa65",
   "metadata": {},
   "source": [
    "#### Training Data"
   ]
  },
  {
   "cell_type": "code",
   "execution_count": 12,
   "id": "54ebf070",
   "metadata": {},
   "outputs": [],
   "source": [
    "# Create Decision Tree classifer object\n",
    "dtclf = DecisionTreeClassifier(criterion=\"entropy\",random_state=0)\n",
    "# Train Decision Tree Classifer\n",
    "dtclf = dtclf.fit(X_Train,Y_Train)"
   ]
  },
  {
   "cell_type": "code",
   "execution_count": 13,
   "id": "92976d15",
   "metadata": {},
   "outputs": [
    {
     "name": "stdout",
     "output_type": "stream",
     "text": [
      "Accuracy: 1.0\n"
     ]
    }
   ],
   "source": [
    "y_pred = dtclf.predict(X_Train)\n",
    "#Predict the response for test dataset\n",
    "print(\"Accuracy:\",metrics.accuracy_score(Y_Train, y_pred))"
   ]
  },
  {
   "cell_type": "code",
   "execution_count": 14,
   "id": "9b4cb9ec",
   "metadata": {},
   "outputs": [
    {
     "data": {
      "text/plain": [
       "array([[175,   0],\n",
       "       [  0, 505]], dtype=int64)"
      ]
     },
     "execution_count": 14,
     "metadata": {},
     "output_type": "execute_result"
    },
    {
     "data": {
      "image/png": "[encoded data removed]",
      "text/plain": [
       "<Figure size 432x288 with 2 Axes>"
      ]
     },
     "metadata": {
      "needs_background": "light"
     },
     "output_type": "display_data"
    }
   ],
   "source": [
    "disp = metrics.ConfusionMatrixDisplay.from_estimator(\n",
    "    dtclf,\n",
    "    X_Train,\n",
    "    Y_Train,\n",
    "    display_labels=[0,1],\n",
    ")\n",
    "disp.ax_.set_title('Confusion Matrix')\n",
    "disp.confusion_matrix"
   ]
  },
  {
   "cell_type": "code",
   "execution_count": 15,
   "id": "9086b84a",
   "metadata": {
    "scrolled": true
   },
   "outputs": [
    {
     "name": "stdout",
     "output_type": "stream",
     "text": [
      "              precision    recall  f1-score   support\n",
      "\n",
      "     Class 0       1.00      1.00      1.00       175\n",
      "     Class 1       1.00      1.00      1.00       505\n",
      "\n",
      "    accuracy                           1.00       680\n",
      "   macro avg       1.00      1.00      1.00       680\n",
      "weighted avg       1.00      1.00      1.00       680\n",
      "\n"
     ]
    }
   ],
   "source": [
    "print(metrics.classification_report(Y_Train, y_pred, target_names=['Class 0','Class 1']))"
   ]
  },
  {
   "cell_type": "markdown",
   "id": "404d077c",
   "metadata": {},
   "source": [
    "#### Test Data"
   ]
  },
  {
   "cell_type": "code",
   "execution_count": 16,
   "id": "ab0892d0",
   "metadata": {},
   "outputs": [
    {
     "name": "stdout",
     "output_type": "stream",
     "text": [
      "Accuracy: 0.7763157894736842\n"
     ]
    }
   ],
   "source": [
    "y_pred = dtclf.predict(X_Test)\n",
    "print(\"Accuracy:\",metrics.accuracy_score(Y_Test, y_pred))"
   ]
  },
  {
   "cell_type": "code",
   "execution_count": 17,
   "id": "94d3a938",
   "metadata": {},
   "outputs": [
    {
     "data": {
      "text/plain": [
       "array([[11,  6],\n",
       "       [11, 48]], dtype=int64)"
      ]
     },
     "execution_count": 17,
     "metadata": {},
     "output_type": "execute_result"
    },
    {
     "data": {
      "image/png": "[encoded data removed]",
      "text/plain": [
       "<Figure size 432x288 with 2 Axes>"
      ]
     },
     "metadata": {
      "needs_background": "light"
     },
     "output_type": "display_data"
    }
   ],
   "source": [
    "disp = metrics.ConfusionMatrixDisplay.from_estimator(\n",
    "    dtclf,\n",
    "    X_Test,\n",
    "    Y_Test,\n",
    "    display_labels=[0,1],\n",
    ")\n",
    "disp.ax_.set_title('Confusion Matrix')\n",
    "disp.confusion_matrix"
   ]
  },
  {
   "cell_type": "code",
   "execution_count": 18,
   "id": "2535c85c",
   "metadata": {},
   "outputs": [
    {
     "name": "stdout",
     "output_type": "stream",
     "text": [
      "              precision    recall  f1-score   support\n",
      "\n",
      "     Class 0       0.50      0.65      0.56        17\n",
      "     Class 1       0.89      0.81      0.85        59\n",
      "\n",
      "    accuracy                           0.78        76\n",
      "   macro avg       0.69      0.73      0.71        76\n",
      "weighted avg       0.80      0.78      0.79        76\n",
      "\n"
     ]
    }
   ],
   "source": [
    "print(metrics.classification_report(Y_Test, y_pred, target_names=['Class 0','Class 1']))"
   ]
  },
  {
   "cell_type": "markdown",
   "id": "daf50850",
   "metadata": {},
   "source": [
    "#### 5-Fold Cross Validation"
   ]
  },
  {
   "cell_type": "code",
   "execution_count": 19,
   "id": "ccda1ce1",
   "metadata": {},
   "outputs": [
    {
     "name": "stdout",
     "output_type": "stream",
     "text": [
      "0.7911764705882353\n"
     ]
    }
   ],
   "source": [
    "kfcv = KFold(n_splits=5, random_state=0, shuffle=True)\n",
    "scores = cross_val_score(dtclf, X_Train, Y_Train, scoring='accuracy', cv=kfcv, n_jobs=-1)\n",
    "print(np.mean(scores))"
   ]
  },
  {
   "cell_type": "markdown",
   "id": "ebc61de2",
   "metadata": {},
   "source": [
    "<hr>"
   ]
  },
  {
   "cell_type": "markdown",
   "id": "dded173c",
   "metadata": {},
   "source": [
    "### Random Forest Classification"
   ]
  },
  {
   "cell_type": "markdown",
   "id": "4fb95376",
   "metadata": {},
   "source": [
    "#### Training Data"
   ]
  },
  {
   "cell_type": "code",
   "execution_count": 20,
   "id": "4463df0b",
   "metadata": {},
   "outputs": [],
   "source": [
    "rfclf=RandomForestClassifier(n_estimators=100,criterion=\"entropy\",random_state=0)\n",
    "\n",
    "rfclf = rfclf.fit(X_Train,Y_Train)"
   ]
  },
  {
   "cell_type": "code",
   "execution_count": 21,
   "id": "c4413a39",
   "metadata": {},
   "outputs": [
    {
     "name": "stdout",
     "output_type": "stream",
     "text": [
      "Accuracy: 1.0\n"
     ]
    }
   ],
   "source": [
    "y_pred = rfclf.predict(X_Train)\n",
    "print(\"Accuracy:\",metrics.accuracy_score(Y_Train, y_pred))"
   ]
  },
  {
   "cell_type": "code",
   "execution_count": 22,
   "id": "ec76a56c",
   "metadata": {},
   "outputs": [
    {
     "data": {
      "text/plain": [
       "array([[175,   0],\n",
       "       [  0, 505]], dtype=int64)"
      ]
     },
     "execution_count": 22,
     "metadata": {},
     "output_type": "execute_result"
    },
    {
     "data": {
      "image/png": "[encoded data removed]",
      "text/plain": [
       "<Figure size 432x288 with 2 Axes>"
      ]
     },
     "metadata": {
      "needs_background": "light"
     },
     "output_type": "display_data"
    }
   ],
   "source": [
    "disp = metrics.ConfusionMatrixDisplay.from_estimator(\n",
    "    rfclf,\n",
    "    X_Train,\n",
    "    Y_Train,\n",
    "    display_labels=[0,1],\n",
    ")\n",
    "disp.ax_.set_title('Confusion Matrix')\n",
    "disp.confusion_matrix"
   ]
  },
  {
   "cell_type": "code",
   "execution_count": 23,
   "id": "0fb16bd9",
   "metadata": {
    "scrolled": true
   },
   "outputs": [
    {
     "name": "stdout",
     "output_type": "stream",
     "text": [
      "              precision    recall  f1-score   support\n",
      "\n",
      "     Class 0       1.00      1.00      1.00       175\n",
      "     Class 1       1.00      1.00      1.00       505\n",
      "\n",
      "    accuracy                           1.00       680\n",
      "   macro avg       1.00      1.00      1.00       680\n",
      "weighted avg       1.00      1.00      1.00       680\n",
      "\n"
     ]
    }
   ],
   "source": [
    "print(metrics.classification_report(Y_Train, y_pred, target_names=['Class 0','Class 1']))"
   ]
  },
  {
   "cell_type": "markdown",
   "id": "d5279aab",
   "metadata": {},
   "source": [
    "#### Test Data"
   ]
  },
  {
   "cell_type": "code",
   "execution_count": 24,
   "id": "be0f6ff1",
   "metadata": {},
   "outputs": [
    {
     "name": "stdout",
     "output_type": "stream",
     "text": [
      "Accuracy: 0.8947368421052632\n"
     ]
    }
   ],
   "source": [
    "y_pred = rfclf.predict(X_Test)\n",
    "print(\"Accuracy:\",metrics.accuracy_score(Y_Test, y_pred))"
   ]
  },
  {
   "cell_type": "code",
   "execution_count": 25,
   "id": "93ef1c70",
   "metadata": {},
   "outputs": [
    {
     "data": {
      "text/plain": [
       "array([[11,  6],\n",
       "       [ 2, 57]], dtype=int64)"
      ]
     },
     "execution_count": 25,
     "metadata": {},
     "output_type": "execute_result"
    },
    {
     "data": {
      "image/png": "[encoded data removed]",
      "text/plain": [
       "<Figure size 432x288 with 2 Axes>"
      ]
     },
     "metadata": {
      "needs_background": "light"
     },
     "output_type": "display_data"
    }
   ],
   "source": [
    "disp = metrics.ConfusionMatrixDisplay.from_estimator(\n",
    "    rfclf,\n",
    "    X_Test,\n",
    "    Y_Test,\n",
    "    display_labels=[0,1],\n",
    ")\n",
    "disp.ax_.set_title('Confusion Matrix')\n",
    "disp.confusion_matrix"
   ]
  },
  {
   "cell_type": "code",
   "execution_count": 26,
   "id": "853d1471",
   "metadata": {},
   "outputs": [
    {
     "name": "stdout",
     "output_type": "stream",
     "text": [
      "              precision    recall  f1-score   support\n",
      "\n",
      "     Class 0       0.85      0.65      0.73        17\n",
      "     Class 1       0.90      0.97      0.93        59\n",
      "\n",
      "    accuracy                           0.89        76\n",
      "   macro avg       0.88      0.81      0.83        76\n",
      "weighted avg       0.89      0.89      0.89        76\n",
      "\n"
     ]
    }
   ],
   "source": [
    "print(metrics.classification_report(Y_Test, y_pred, target_names=['Class 0','Class 1']))"
   ]
  },
  {
   "cell_type": "markdown",
   "id": "3086c996",
   "metadata": {},
   "source": [
    "#### 5-Fold Cross Validation"
   ]
  },
  {
   "cell_type": "code",
   "execution_count": 27,
   "id": "c667876b",
   "metadata": {},
   "outputs": [
    {
     "name": "stdout",
     "output_type": "stream",
     "text": [
      "0.8691176470588236\n"
     ]
    }
   ],
   "source": [
    "kfcv = KFold(n_splits=5, random_state=0, shuffle=True)\n",
    "scores = cross_val_score(rfclf, X_Train, Y_Train, scoring='accuracy', cv=kfcv, n_jobs=-1)\n",
    "print(np.mean(scores))"
   ]
  },
  {
   "cell_type": "markdown",
   "id": "8cba26cb",
   "metadata": {},
   "source": [
    "<hr>"
   ]
  },
  {
   "cell_type": "markdown",
   "id": "bd1e5e08",
   "metadata": {},
   "source": [
    "### XGBoost Classification"
   ]
  },
  {
   "cell_type": "markdown",
   "id": "f8473f17",
   "metadata": {},
   "source": [
    "#### Training Data"
   ]
  },
  {
   "cell_type": "code",
   "execution_count": 28,
   "id": "a279c958",
   "metadata": {},
   "outputs": [
    {
     "name": "stdout",
     "output_type": "stream",
     "text": [
      "[23:17:01] WARNING: C:/Users/Administrator/workspace/xgboost-win64_release_1.5.1/src/learner.cc:1115: Starting in XGBoost 1.3.0, the default evaluation metric used with the objective 'binary:logistic' was changed from 'error' to 'logloss'. Explicitly set eval_metric if you'd like to restore the old behavior.\n"
     ]
    },
    {
     "data": {
      "text/plain": [
       "XGBClassifier(base_score=0.5, booster='gbtree', colsample_bylevel=1,\n",
       "              colsample_bynode=1, colsample_bytree=1, enable_categorical=False,\n",
       "              gamma=0, gpu_id=-1, importance_type=None,\n",
       "              interaction_constraints='', learning_rate=0.300000012,\n",
       "              max_delta_step=0, max_depth=6, min_child_weight=1, missing=nan,\n",
       "              monotone_constraints='()', n_estimators=100, n_jobs=8,\n",
       "              num_parallel_tree=1, predictor='auto', random_state=0,\n",
       "              reg_alpha=0, reg_lambda=1, scale_pos_weight=1, subsample=1,\n",
       "              tree_method='exact', validate_parameters=1, verbosity=None)"
      ]
     },
     "execution_count": 28,
     "metadata": {},
     "output_type": "execute_result"
    }
   ],
   "source": [
    "xgbclf = xgb.XGBClassifier(objective=\"binary:logistic\", random_state=0)\n",
    "xgbclf.fit(X_Train, Y_Train)"
   ]
  },
  {
   "cell_type": "code",
   "execution_count": 29,
   "id": "be7aecb3",
   "metadata": {},
   "outputs": [
    {
     "name": "stdout",
     "output_type": "stream",
     "text": [
      "Accuracy: 1.0\n"
     ]
    }
   ],
   "source": [
    "y_pred = xgbclf.predict(X_Train)\n",
    "print(\"Accuracy:\",metrics.accuracy_score(Y_Train, y_pred))"
   ]
  },
  {
   "cell_type": "code",
   "execution_count": 30,
   "id": "06c14171",
   "metadata": {},
   "outputs": [
    {
     "data": {
      "text/plain": [
       "array([[175,   0],\n",
       "       [  0, 505]], dtype=int64)"
      ]
     },
     "execution_count": 30,
     "metadata": {},
     "output_type": "execute_result"
    },
    {
     "data": {
      "image/png": "[encoded data removed]",
      "text/plain": [
       "<Figure size 432x288 with 2 Axes>"
      ]
     },
     "metadata": {
      "needs_background": "light"
     },
     "output_type": "display_data"
    }
   ],
   "source": [
    "disp = metrics.ConfusionMatrixDisplay.from_estimator(\n",
    "    xgbclf,\n",
    "    X_Train,\n",
    "    Y_Train,\n",
    "    display_labels=[0,1],\n",
    ")\n",
    "disp.ax_.set_title('Confusion Matrix')\n",
    "disp.confusion_matrix"
   ]
  },
  {
   "cell_type": "code",
   "execution_count": 31,
   "id": "95d30b44",
   "metadata": {},
   "outputs": [
    {
     "name": "stdout",
     "output_type": "stream",
     "text": [
      "              precision    recall  f1-score   support\n",
      "\n",
      "     Class 0       1.00      1.00      1.00       175\n",
      "     Class 1       1.00      1.00      1.00       505\n",
      "\n",
      "    accuracy                           1.00       680\n",
      "   macro avg       1.00      1.00      1.00       680\n",
      "weighted avg       1.00      1.00      1.00       680\n",
      "\n"
     ]
    }
   ],
   "source": [
    "print(metrics.classification_report(Y_Train, y_pred, target_names=['Class 0','Class 1']))"
   ]
  },
  {
   "cell_type": "markdown",
   "id": "c9a22bd9",
   "metadata": {},
   "source": [
    "#### Test Data"
   ]
  },
  {
   "cell_type": "code",
   "execution_count": 32,
   "id": "3841e436",
   "metadata": {},
   "outputs": [
    {
     "name": "stdout",
     "output_type": "stream",
     "text": [
      "Accuracy: 0.9210526315789473\n"
     ]
    }
   ],
   "source": [
    "y_pred = xgbclf.predict(X_Test)\n",
    "print(\"Accuracy:\",metrics.accuracy_score(Y_Test, y_pred))"
   ]
  },
  {
   "cell_type": "code",
   "execution_count": 33,
   "id": "15339ac7",
   "metadata": {},
   "outputs": [
    {
     "data": {
      "text/plain": [
       "array([[12,  5],\n",
       "       [ 1, 58]], dtype=int64)"
      ]
     },
     "execution_count": 33,
     "metadata": {},
     "output_type": "execute_result"
    },
    {
     "data": {
      "image/png": "[encoded data removed]",
      "text/plain": [
       "<Figure size 432x288 with 2 Axes>"
      ]
     },
     "metadata": {
      "needs_background": "light"
     },
     "output_type": "display_data"
    }
   ],
   "source": [
    "disp = metrics.ConfusionMatrixDisplay.from_estimator(\n",
    "    xgbclf,\n",
    "    X_Test,\n",
    "    Y_Test,\n",
    "    display_labels=[0,1],\n",
    ")\n",
    "disp.ax_.set_title('Confusion Matrix')\n",
    "disp.confusion_matrix"
   ]
  },
  {
   "cell_type": "code",
   "execution_count": 34,
   "id": "a2cef781",
   "metadata": {},
   "outputs": [
    {
     "name": "stdout",
     "output_type": "stream",
     "text": [
      "              precision    recall  f1-score   support\n",
      "\n",
      "     Class 0       0.92      0.71      0.80        17\n",
      "     Class 1       0.92      0.98      0.95        59\n",
      "\n",
      "    accuracy                           0.92        76\n",
      "   macro avg       0.92      0.84      0.88        76\n",
      "weighted avg       0.92      0.92      0.92        76\n",
      "\n"
     ]
    }
   ],
   "source": [
    "print(metrics.classification_report(Y_Test, y_pred, target_names=['Class 0','Class 1']))"
   ]
  },
  {
   "cell_type": "markdown",
   "id": "a78c0a9d",
   "metadata": {},
   "source": [
    "#### 5-Fold-Cross-Validation"
   ]
  },
  {
   "cell_type": "code",
   "execution_count": 35,
   "id": "30c3eb3c",
   "metadata": {},
   "outputs": [
    {
     "name": "stdout",
     "output_type": "stream",
     "text": [
      "0.8823529411764707\n"
     ]
    }
   ],
   "source": [
    "kfcv = KFold(n_splits=5, random_state=0, shuffle=True)\n",
    "scores = cross_val_score(xgbclf, X_Train, Y_Train, scoring='accuracy', cv=kfcv, n_jobs=-1)\n",
    "print(np.mean(scores))"
   ]
  },
  {
   "cell_type": "markdown",
   "id": "20489a85",
   "metadata": {},
   "source": [
    "<hr>"
   ]
  },
  {
   "cell_type": "markdown",
   "id": "8ae46aa3",
   "metadata": {},
   "source": [
    "### SVM Classification"
   ]
  },
  {
   "cell_type": "markdown",
   "id": "05b44fd3",
   "metadata": {},
   "source": [
    "#### Training Data"
   ]
  },
  {
   "cell_type": "code",
   "execution_count": 103,
   "id": "04e03270",
   "metadata": {},
   "outputs": [
    {
     "data": {
      "text/plain": [
       "SVC(kernel='linear', random_state=0)"
      ]
     },
     "execution_count": 103,
     "metadata": {},
     "output_type": "execute_result"
    }
   ],
   "source": [
    "svmclf = svm.SVC(kernel=\"linear\",random_state=0)\n",
    "svmclf.fit(X_Train, Y_Train)"
   ]
  },
  {
   "cell_type": "code",
   "execution_count": 104,
   "id": "74b51090",
   "metadata": {},
   "outputs": [
    {
     "name": "stdout",
     "output_type": "stream",
     "text": [
      "Accuracy: 0.9691176470588235\n"
     ]
    }
   ],
   "source": [
    "y_pred = svmclf.predict(X_Train)\n",
    "print(\"Accuracy:\",metrics.accuracy_score(Y_Train, y_pred))"
   ]
  },
  {
   "cell_type": "code",
   "execution_count": 105,
   "id": "2171c80c",
   "metadata": {},
   "outputs": [
    {
     "data": {
      "text/plain": [
       "array([[159,  16],\n",
       "       [  5, 500]], dtype=int64)"
      ]
     },
     "execution_count": 105,
     "metadata": {},
     "output_type": "execute_result"
    },
    {
     "data": {
      "image/png": "[encoded data removed]",
      "text/plain": [
       "<Figure size 432x288 with 2 Axes>"
      ]
     },
     "metadata": {
      "needs_background": "light"
     },
     "output_type": "display_data"
    }
   ],
   "source": [
    "disp = metrics.ConfusionMatrixDisplay.from_estimator(\n",
    "    svmclf,\n",
    "    X_Train,\n",
    "    Y_Train,\n",
    "    display_labels=[0,1],\n",
    ")\n",
    "disp.ax_.set_title('Confusion Matrix')\n",
    "disp.confusion_matrix"
   ]
  },
  {
   "cell_type": "code",
   "execution_count": 106,
   "id": "19673e88",
   "metadata": {},
   "outputs": [
    {
     "name": "stdout",
     "output_type": "stream",
     "text": [
      "              precision    recall  f1-score   support\n",
      "\n",
      "     Class 0       0.97      0.91      0.94       175\n",
      "     Class 1       0.97      0.99      0.98       505\n",
      "\n",
      "    accuracy                           0.97       680\n",
      "   macro avg       0.97      0.95      0.96       680\n",
      "weighted avg       0.97      0.97      0.97       680\n",
      "\n"
     ]
    }
   ],
   "source": [
    "print(metrics.classification_report(Y_Train, y_pred, target_names=['Class 0','Class 1']))"
   ]
  },
  {
   "cell_type": "markdown",
   "id": "ca498e80",
   "metadata": {},
   "source": [
    "#### Test Data"
   ]
  },
  {
   "cell_type": "code",
   "execution_count": 107,
   "id": "9a99183b",
   "metadata": {},
   "outputs": [
    {
     "name": "stdout",
     "output_type": "stream",
     "text": [
      "Accuracy: 0.8947368421052632\n"
     ]
    }
   ],
   "source": [
    "y_pred = svmclf.predict(X_Test)\n",
    "print(\"Accuracy:\",metrics.accuracy_score(Y_Test, y_pred))"
   ]
  },
  {
   "cell_type": "code",
   "execution_count": 108,
   "id": "65007619",
   "metadata": {},
   "outputs": [
    {
     "data": {
      "text/plain": [
       "array([[14,  3],\n",
       "       [ 5, 54]], dtype=int64)"
      ]
     },
     "execution_count": 108,
     "metadata": {},
     "output_type": "execute_result"
    },
    {
     "data": {
      "image/png": "[encoded data removed]",
      "text/plain": [
       "<Figure size 432x288 with 2 Axes>"
      ]
     },
     "metadata": {
      "needs_background": "light"
     },
     "output_type": "display_data"
    }
   ],
   "source": [
    "disp = metrics.ConfusionMatrixDisplay.from_estimator(\n",
    "    svmclf,\n",
    "    X_Test,\n",
    "    Y_Test,\n",
    "    display_labels=[0,1],\n",
    ")\n",
    "disp.ax_.set_title('Confusion Matrix')\n",
    "disp.confusion_matrix"
   ]
  },
  {
   "cell_type": "code",
   "execution_count": 109,
   "id": "4e4d6d66",
   "metadata": {},
   "outputs": [
    {
     "name": "stdout",
     "output_type": "stream",
     "text": [
      "              precision    recall  f1-score   support\n",
      "\n",
      "     Class 0       0.74      0.82      0.78        17\n",
      "     Class 1       0.95      0.92      0.93        59\n",
      "\n",
      "    accuracy                           0.89        76\n",
      "   macro avg       0.84      0.87      0.85        76\n",
      "weighted avg       0.90      0.89      0.90        76\n",
      "\n"
     ]
    }
   ],
   "source": [
    "print(metrics.classification_report(Y_Test, y_pred, target_names=['Class 0','Class 1']))"
   ]
  },
  {
   "cell_type": "markdown",
   "id": "8ac10523",
   "metadata": {},
   "source": [
    "#### 5 Fold Cross Validation"
   ]
  },
  {
   "cell_type": "code",
   "execution_count": 95,
   "id": "20b7a647",
   "metadata": {},
   "outputs": [
    {
     "name": "stdout",
     "output_type": "stream",
     "text": [
      "0.8470588235294118\n"
     ]
    }
   ],
   "source": [
    "kfcv = KFold(n_splits=5, random_state=0, shuffle=True)\n",
    "scores = cross_val_score(svmclf, X_Train, Y_Train, scoring='accuracy', cv=kfcv, n_jobs=-1)\n",
    "print(np.mean(scores))"
   ]
  },
  {
   "cell_type": "markdown",
   "id": "cc41af0e",
   "metadata": {},
   "source": [
    "<br><hr><br>"
   ]
  },
  {
   "cell_type": "markdown",
   "id": "42d2c19c",
   "metadata": {},
   "source": [
    "## Section 2"
   ]
  },
  {
   "cell_type": "markdown",
   "id": "c80ceaba",
   "metadata": {},
   "source": [
    "#### Import New Libraries"
   ]
  },
  {
   "cell_type": "code",
   "execution_count": 48,
   "id": "34bc39dd",
   "metadata": {},
   "outputs": [],
   "source": [
    "from sklearn.neural_network import MLPClassifier\n",
    "from sklearn.preprocessing import OneHotEncoder\n",
    "import math\n",
    "import tensorflow as tf\n",
    "import kerastuner.tuners as kt\n",
    "import matplotlib.pyplot as plt\n",
    "from tensorflow.keras import Model\n",
    "from tensorflow.keras import Sequential\n",
    "from sklearn.preprocessing import StandardScaler\n",
    "from tensorflow.keras.layers import Dense, Dropout\n",
    "from sklearn.model_selection import train_test_split\n",
    "from tensorflow.keras.losses import MeanSquaredLogarithmicError\n",
    "from keras.layers import Input, Dense\n",
    "from keras.models import Model"
   ]
  },
  {
   "cell_type": "markdown",
   "id": "f5762b67",
   "metadata": {},
   "source": [
    "### MLP Tests - Different situations with (max_iter = 300 , Activation = relu , Solver = adam , alpha = 0.01)"
   ]
  },
  {
   "cell_type": "markdown",
   "id": "c5f27f7c",
   "metadata": {},
   "source": [
    "#### Test #1"
   ]
  },
  {
   "cell_type": "code",
   "execution_count": 296,
   "id": "db4e7d66",
   "metadata": {},
   "outputs": [
    {
     "name": "stdout",
     "output_type": "stream",
     "text": [
      "Accuracy On Training Data  = 0.9264705882352942\n",
      "Accuracy On Test Data  = 0.9210526315789473\n"
     ]
    },
    {
     "data": {
      "image/png": "[encoded data removed]",
      "text/plain": [
       "<Figure size 432x288 with 1 Axes>"
      ]
     },
     "metadata": {
      "needs_background": "light"
     },
     "output_type": "display_data"
    }
   ],
   "source": [
    "clf = MLPClassifier(hidden_layer_sizes=(10,5),max_iter=300,activation = 'relu',solver = 'adam',alpha=0.01,random_state=0).fit(X_Train, Y_Train)\n",
    "print(f'Accuracy On Training Data  = {clf.score(X_Train, Y_Train)}\\nAccuracy On Test Data  = {clf.score(X_Test, Y_Test)}')\n",
    "plt.plot(clf.loss_curve_)\n",
    "plt.xlabel('Iteration')\n",
    "plt.ylabel('Loss')\n",
    "plt.show()"
   ]
  },
  {
   "cell_type": "code",
   "execution_count": 297,
   "id": "5a092b49",
   "metadata": {},
   "outputs": [
    {
     "name": "stdout",
     "output_type": "stream",
     "text": [
      "0.8426470588235293\n"
     ]
    }
   ],
   "source": [
    "kfcv = KFold(n_splits=5, random_state=0, shuffle=True)\n",
    "scores = cross_val_score(clf, X_Train, Y_Train, scoring='accuracy', cv=kfcv, n_jobs=-1)\n",
    "print(np.mean(scores))"
   ]
  },
  {
   "cell_type": "code",
   "execution_count": 298,
   "id": "0dbea42e",
   "metadata": {},
   "outputs": [
    {
     "data": {
      "text/plain": [
       "array([[12,  5],\n",
       "       [ 1, 58]], dtype=int64)"
      ]
     },
     "execution_count": 298,
     "metadata": {},
     "output_type": "execute_result"
    },
    {
     "data": {
      "image/png": "[encoded data removed]",
      "text/plain": [
       "<Figure size 432x288 with 2 Axes>"
      ]
     },
     "metadata": {
      "needs_background": "light"
     },
     "output_type": "display_data"
    }
   ],
   "source": [
    "disp = metrics.ConfusionMatrixDisplay.from_estimator(\n",
    "    clf,\n",
    "    X_Test,\n",
    "    Y_Test,\n",
    "    display_labels=[1,0],\n",
    ")\n",
    "disp.ax_.set_title('Confusion Matrix')\n",
    "disp.confusion_matrix"
   ]
  },
  {
   "cell_type": "code",
   "execution_count": 299,
   "id": "ecaf7906",
   "metadata": {},
   "outputs": [
    {
     "name": "stdout",
     "output_type": "stream",
     "text": [
      "              precision    recall  f1-score   support\n",
      "\n",
      "     Class 0       1.00      0.71      0.83       175\n",
      "     Class 1       0.91      1.00      0.95       505\n",
      "\n",
      "    accuracy                           0.93       680\n",
      "   macro avg       0.95      0.86      0.89       680\n",
      "weighted avg       0.93      0.93      0.92       680\n",
      "\n"
     ]
    }
   ],
   "source": [
    "y_pred = clf.predict(X_Train)\n",
    "print(metrics.classification_report(Y_Train, y_pred, target_names=['Class 0','Class 1']))"
   ]
  },
  {
   "cell_type": "code",
   "execution_count": 300,
   "id": "759e8251",
   "metadata": {},
   "outputs": [
    {
     "name": "stdout",
     "output_type": "stream",
     "text": [
      "              precision    recall  f1-score   support\n",
      "\n",
      "     Class 0       0.92      0.71      0.80        17\n",
      "     Class 1       0.92      0.98      0.95        59\n",
      "\n",
      "    accuracy                           0.92        76\n",
      "   macro avg       0.92      0.84      0.88        76\n",
      "weighted avg       0.92      0.92      0.92        76\n",
      "\n"
     ]
    }
   ],
   "source": [
    "y_pred = clf.predict(X_Test)\n",
    "print(metrics.classification_report(Y_Test, y_pred, target_names=['Class 0','Class 1']))"
   ]
  },
  {
   "cell_type": "markdown",
   "id": "a7bea6c6",
   "metadata": {},
   "source": [
    "<hr>"
   ]
  },
  {
   "cell_type": "markdown",
   "id": "e256fea9",
   "metadata": {},
   "source": [
    "#### Test #2 -  Apply PCA to Data"
   ]
  },
  {
   "cell_type": "code",
   "execution_count": 328,
   "id": "41bca489",
   "metadata": {
    "scrolled": true
   },
   "outputs": [
    {
     "name": "stdout",
     "output_type": "stream",
     "text": [
      "Accuracy On Training Data  = 1.0\n",
      "Accuracy On Test Data  = 0.9342105263157895\n"
     ]
    },
    {
     "data": {
      "image/png": "[encoded data removed]",
      "text/plain": [
       "<Figure size 432x288 with 1 Axes>"
      ]
     },
     "metadata": {
      "needs_background": "light"
     },
     "output_type": "display_data"
    }
   ],
   "source": [
    "from sklearn.decomposition import PCA\n",
    "pca = PCA(n_components=70,random_state=0)   # Number of PCs = 70\n",
    "pca.fit(X_Train)\n",
    "clf = MLPClassifier(hidden_layer_sizes=(10,5),max_iter=300,activation = 'relu',solver = 'adam',alpha=0.01,random_state=0).fit(pca.transform(X_Train), Y_Train)\n",
    "print(f'Accuracy On Training Data  = {clf.score(pca.transform(X_Train), Y_Train)}\\nAccuracy On Test Data  = {clf.score(pca.transform(X_Test), Y_Test)}')\n",
    "plt.plot(clf.loss_curve_)\n",
    "plt.xlabel('Iteration')\n",
    "plt.ylabel('Loss')\n",
    "plt.show()"
   ]
  },
  {
   "cell_type": "code",
   "execution_count": 329,
   "id": "3abb8e77",
   "metadata": {},
   "outputs": [
    {
     "name": "stdout",
     "output_type": "stream",
     "text": [
      "0.8705882352941176\n"
     ]
    }
   ],
   "source": [
    "kfcv = KFold(n_splits=5, random_state=0, shuffle=True)\n",
    "scores = cross_val_score(clf, pca.transform(X_Train), Y_Train, scoring='accuracy', cv=kfcv, n_jobs=-1)\n",
    "print(np.mean(scores))"
   ]
  },
  {
   "cell_type": "code",
   "execution_count": 289,
   "id": "96ef4700",
   "metadata": {},
   "outputs": [
    {
     "data": {
      "text/plain": [
       "array([[14,  3],\n",
       "       [ 2, 57]], dtype=int64)"
      ]
     },
     "execution_count": 289,
     "metadata": {},
     "output_type": "execute_result"
    },
    {
     "data": {
      "image/png": "[encoded data removed]",
      "text/plain": [
       "<Figure size 432x288 with 2 Axes>"
      ]
     },
     "metadata": {
      "needs_background": "light"
     },
     "output_type": "display_data"
    }
   ],
   "source": [
    "disp = metrics.ConfusionMatrixDisplay.from_estimator(\n",
    "    clf,\n",
    "    pca.transform(X_Test),\n",
    "    Y_Test,\n",
    "    display_labels=[1,0],\n",
    ")\n",
    "disp.ax_.set_title('Confusion Matrix')\n",
    "disp.confusion_matrix"
   ]
  },
  {
   "cell_type": "code",
   "execution_count": 290,
   "id": "a2166420",
   "metadata": {},
   "outputs": [
    {
     "name": "stdout",
     "output_type": "stream",
     "text": [
      "              precision    recall  f1-score   support\n",
      "\n",
      "     Class 0       1.00      1.00      1.00       175\n",
      "     Class 1       1.00      1.00      1.00       505\n",
      "\n",
      "    accuracy                           1.00       680\n",
      "   macro avg       1.00      1.00      1.00       680\n",
      "weighted avg       1.00      1.00      1.00       680\n",
      "\n"
     ]
    }
   ],
   "source": [
    "y_pred = clf.predict(pca.transform(X_Train))\n",
    "print(metrics.classification_report(Y_Train, y_pred, target_names=['Class 0','Class 1']))"
   ]
  },
  {
   "cell_type": "code",
   "execution_count": 291,
   "id": "2aeb59a1",
   "metadata": {},
   "outputs": [
    {
     "name": "stdout",
     "output_type": "stream",
     "text": [
      "              precision    recall  f1-score   support\n",
      "\n",
      "     Class 0       0.88      0.82      0.85        17\n",
      "     Class 1       0.95      0.97      0.96        59\n",
      "\n",
      "    accuracy                           0.93        76\n",
      "   macro avg       0.91      0.89      0.90        76\n",
      "weighted avg       0.93      0.93      0.93        76\n",
      "\n"
     ]
    }
   ],
   "source": [
    "y_pred = clf.predict(pca.transform(X_Test))\n",
    "print(metrics.classification_report(Y_Test, y_pred, target_names=['Class 0','Class 1']))"
   ]
  },
  {
   "cell_type": "markdown",
   "id": "9f6c91d5",
   "metadata": {},
   "source": [
    "<hr>"
   ]
  },
  {
   "cell_type": "markdown",
   "id": "b934d17d",
   "metadata": {},
   "source": [
    "#### Test 3 - PCA and MLP (3,3)"
   ]
  },
  {
   "cell_type": "code",
   "execution_count": 346,
   "id": "f03bdf62",
   "metadata": {},
   "outputs": [
    {
     "name": "stdout",
     "output_type": "stream",
     "text": [
      "Accuracy On Training Data  = 0.9426470588235294\n",
      "Accuracy On Test Data  = 0.9473684210526315\n"
     ]
    },
    {
     "data": {
      "image/png": "[encoded data removed]",
      "text/plain": [
       "<Figure size 432x288 with 1 Axes>"
      ]
     },
     "metadata": {
      "needs_background": "light"
     },
     "output_type": "display_data"
    }
   ],
   "source": [
    "from sklearn.decomposition import PCA\n",
    "pca = PCA(n_components=70,random_state=0)   # Number of PCs = 70\n",
    "pca.fit(X_Train)\n",
    "clf = MLPClassifier(hidden_layer_sizes=(3,3),max_iter=300,activation = 'relu',solver = 'adam',alpha=0.01,random_state=0).fit(pca.transform(X_Train), Y_Train)\n",
    "print(f'Accuracy On Training Data  = {clf.score(pca.transform(X_Train), Y_Train)}\\nAccuracy On Test Data  = {clf.score(pca.transform(X_Test), Y_Test)}')\n",
    "plt.plot(clf.loss_curve_)\n",
    "plt.xlabel('Iteration')\n",
    "plt.ylabel('Loss')\n",
    "plt.show()"
   ]
  },
  {
   "cell_type": "code",
   "execution_count": 347,
   "id": "ab2fa9ae",
   "metadata": {},
   "outputs": [
    {
     "name": "stdout",
     "output_type": "stream",
     "text": [
      "0.848529411764706\n"
     ]
    }
   ],
   "source": [
    "kfcv = KFold(n_splits=5, random_state=0, shuffle=True)\n",
    "scores = cross_val_score(clf, pca.transform(X_Train), Y_Train, scoring='accuracy', cv=kfcv, n_jobs=-1)\n",
    "print(np.mean(scores))"
   ]
  },
  {
   "cell_type": "code",
   "execution_count": 348,
   "id": "ad12065a",
   "metadata": {},
   "outputs": [
    {
     "data": {
      "text/plain": [
       "array([[15,  2],\n",
       "       [ 2, 57]], dtype=int64)"
      ]
     },
     "execution_count": 348,
     "metadata": {},
     "output_type": "execute_result"
    },
    {
     "data": {
      "image/png": "[encoded data removed]",
      "text/plain": [
       "<Figure size 432x288 with 2 Axes>"
      ]
     },
     "metadata": {
      "needs_background": "light"
     },
     "output_type": "display_data"
    }
   ],
   "source": [
    "disp = metrics.ConfusionMatrixDisplay.from_estimator(\n",
    "    clf,\n",
    "    pca.transform(X_Test),\n",
    "    Y_Test,\n",
    "    display_labels=[1,0],\n",
    ")\n",
    "disp.ax_.set_title('Confusion Matrix')\n",
    "disp.confusion_matrix"
   ]
  },
  {
   "cell_type": "code",
   "execution_count": 340,
   "id": "1aa6adc3",
   "metadata": {},
   "outputs": [
    {
     "name": "stdout",
     "output_type": "stream",
     "text": [
      "              precision    recall  f1-score   support\n",
      "\n",
      "     Class 0       0.93      0.84      0.88       175\n",
      "     Class 1       0.95      0.98      0.96       505\n",
      "\n",
      "    accuracy                           0.94       680\n",
      "   macro avg       0.94      0.91      0.92       680\n",
      "weighted avg       0.94      0.94      0.94       680\n",
      "\n"
     ]
    }
   ],
   "source": [
    "y_pred = clf.predict(pca.transform(X_Train))\n",
    "print(metrics.classification_report(Y_Train, y_pred, target_names=['Class 0','Class 1']))"
   ]
  },
  {
   "cell_type": "code",
   "execution_count": 341,
   "id": "210acc29",
   "metadata": {},
   "outputs": [
    {
     "name": "stdout",
     "output_type": "stream",
     "text": [
      "              precision    recall  f1-score   support\n",
      "\n",
      "     Class 0       0.88      0.88      0.88        17\n",
      "     Class 1       0.97      0.97      0.97        59\n",
      "\n",
      "    accuracy                           0.95        76\n",
      "   macro avg       0.92      0.92      0.92        76\n",
      "weighted avg       0.95      0.95      0.95        76\n",
      "\n"
     ]
    }
   ],
   "source": [
    "y_pred = clf.predict(pca.transform(X_Test))\n",
    "print(metrics.classification_report(Y_Test, y_pred, target_names=['Class 0','Class 1']))"
   ]
  },
  {
   "cell_type": "markdown",
   "id": "f4ff6513",
   "metadata": {},
   "source": [
    "<hr>"
   ]
  },
  {
   "cell_type": "markdown",
   "id": "8697c967",
   "metadata": {},
   "source": [
    "#### Test 4 - So bad ( very bad Underfitting)"
   ]
  },
  {
   "cell_type": "code",
   "execution_count": 293,
   "id": "b3adf82c",
   "metadata": {},
   "outputs": [
    {
     "name": "stdout",
     "output_type": "stream",
     "text": [
      "Accuracy On Training Data  = 0.7426470588235294\n",
      "Accuracy On Test Data  = 0.7763157894736842\n"
     ]
    }
   ],
   "source": [
    "clf = MLPClassifier(hidden_layer_sizes=(10,2),max_iter=300,activation = 'relu',solver = 'adam',alpha=0.01,random_state=0).fit(X_Train, Y_Train)\n",
    "print(f'Accuracy On Training Data  = {clf.score(X_Train, Y_Train)}\\nAccuracy On Test Data  = {clf.score(X_Test, Y_Test)}')"
   ]
  },
  {
   "cell_type": "code",
   "execution_count": 294,
   "id": "4dbe376f",
   "metadata": {},
   "outputs": [
    {
     "name": "stdout",
     "output_type": "stream",
     "text": [
      "              precision    recall  f1-score   support\n",
      "\n",
      "     Class 0       0.00      0.00      0.00       175\n",
      "     Class 1       0.74      1.00      0.85       505\n",
      "\n",
      "    accuracy                           0.74       680\n",
      "   macro avg       0.37      0.50      0.43       680\n",
      "weighted avg       0.55      0.74      0.63       680\n",
      "\n"
     ]
    }
   ],
   "source": [
    "y_pred = clf.predict(X_Train)\n",
    "print(metrics.classification_report(Y_Train, y_pred, target_names=['Class 0','Class 1']))"
   ]
  },
  {
   "cell_type": "code",
   "execution_count": 295,
   "id": "2756de02",
   "metadata": {},
   "outputs": [
    {
     "name": "stdout",
     "output_type": "stream",
     "text": [
      "              precision    recall  f1-score   support\n",
      "\n",
      "     Class 0       0.00      0.00      0.00        17\n",
      "     Class 1       0.78      1.00      0.87        59\n",
      "\n",
      "    accuracy                           0.78        76\n",
      "   macro avg       0.39      0.50      0.44        76\n",
      "weighted avg       0.60      0.78      0.68        76\n",
      "\n"
     ]
    }
   ],
   "source": [
    "y_pred = clf.predict(X_Test)\n",
    "print(metrics.classification_report(Y_Test, y_pred, target_names=['Class 0','Class 1']))"
   ]
  },
  {
   "cell_type": "markdown",
   "id": "5941de0c",
   "metadata": {},
   "source": [
    "#### Test 5 - Simple Model - good but a bit Underfitting"
   ]
  },
  {
   "cell_type": "code",
   "execution_count": 239,
   "id": "0acb73cc",
   "metadata": {},
   "outputs": [
    {
     "name": "stdout",
     "output_type": "stream",
     "text": [
      "Accuracy On Training Data  = 0.9220588235294118\n",
      "Accuracy On Test Data  = 0.881578947368421\n"
     ]
    }
   ],
   "source": [
    "clf = MLPClassifier(hidden_layer_sizes=(2),max_iter=300,activation = 'relu',solver = 'adam',alpha=0.01,random_state=0).fit(X_Train, Y_Train)\n",
    "print(f'Accuracy On Training Data  = {clf.score(X_Train, Y_Train)}\\nAccuracy On Test Data  = {clf.score(X_Test, Y_Test)}')"
   ]
  },
  {
   "cell_type": "code",
   "execution_count": 240,
   "id": "5d856af2",
   "metadata": {},
   "outputs": [
    {
     "name": "stdout",
     "output_type": "stream",
     "text": [
      "              precision    recall  f1-score   support\n",
      "\n",
      "     Class 0       0.92      0.76      0.83       175\n",
      "     Class 1       0.92      0.98      0.95       505\n",
      "\n",
      "    accuracy                           0.92       680\n",
      "   macro avg       0.92      0.87      0.89       680\n",
      "weighted avg       0.92      0.92      0.92       680\n",
      "\n"
     ]
    }
   ],
   "source": [
    "y_pred = clf.predict(X_Train)\n",
    "print(metrics.classification_report(Y_Train, y_pred, target_names=['Class 0','Class 1']))"
   ]
  },
  {
   "cell_type": "code",
   "execution_count": 241,
   "id": "b2d5fe72",
   "metadata": {
    "scrolled": true
   },
   "outputs": [
    {
     "name": "stdout",
     "output_type": "stream",
     "text": [
      "              precision    recall  f1-score   support\n",
      "\n",
      "     Class 0       0.75      0.71      0.73        17\n",
      "     Class 1       0.92      0.93      0.92        59\n",
      "\n",
      "    accuracy                           0.88        76\n",
      "   macro avg       0.83      0.82      0.83        76\n",
      "weighted avg       0.88      0.88      0.88        76\n",
      "\n"
     ]
    }
   ],
   "source": [
    "y_pred = clf.predict(X_Test)\n",
    "print(metrics.classification_report(Y_Test, y_pred, target_names=['Class 0','Class 1']))"
   ]
  },
  {
   "cell_type": "markdown",
   "id": "10efa50b",
   "metadata": {},
   "source": [
    "#### Test 6 - Complex Model - overfitting"
   ]
  },
  {
   "cell_type": "code",
   "execution_count": 235,
   "id": "b745e267",
   "metadata": {},
   "outputs": [
    {
     "name": "stdout",
     "output_type": "stream",
     "text": [
      "Accuracy On Training Data  = 0.9632352941176471\n",
      "Accuracy On Test Data  = 0.8947368421052632\n"
     ]
    }
   ],
   "source": [
    "clf = MLPClassifier(hidden_layer_sizes=(100),max_iter=300,activation = 'relu',solver = 'adam',alpha=0.01,random_state=0).fit(X_Train, Y_Train)\n",
    "print(f'Accuracy On Training Data  = {clf.score(X_Train, Y_Train)}\\nAccuracy On Test Data  = {clf.score(X_Test, Y_Test)}')"
   ]
  },
  {
   "cell_type": "code",
   "execution_count": 236,
   "id": "49cbbe21",
   "metadata": {},
   "outputs": [
    {
     "name": "stdout",
     "output_type": "stream",
     "text": [
      "              precision    recall  f1-score   support\n",
      "\n",
      "     Class 0       0.94      0.91      0.93       175\n",
      "     Class 1       0.97      0.98      0.98       505\n",
      "\n",
      "    accuracy                           0.96       680\n",
      "   macro avg       0.96      0.95      0.95       680\n",
      "weighted avg       0.96      0.96      0.96       680\n",
      "\n"
     ]
    }
   ],
   "source": [
    "y_pred = clf.predict(X_Train)\n",
    "print(metrics.classification_report(Y_Train, y_pred, target_names=['Class 0','Class 1']))"
   ]
  },
  {
   "cell_type": "code",
   "execution_count": 237,
   "id": "f2e98647",
   "metadata": {},
   "outputs": [
    {
     "name": "stdout",
     "output_type": "stream",
     "text": [
      "              precision    recall  f1-score   support\n",
      "\n",
      "     Class 0       0.74      0.82      0.78        17\n",
      "     Class 1       0.95      0.92      0.93        59\n",
      "\n",
      "    accuracy                           0.89        76\n",
      "   macro avg       0.84      0.87      0.85        76\n",
      "weighted avg       0.90      0.89      0.90        76\n",
      "\n"
     ]
    }
   ],
   "source": [
    "y_pred = clf.predict(X_Test)\n",
    "print(metrics.classification_report(Y_Test, y_pred, target_names=['Class 0','Class 1']))"
   ]
  },
  {
   "cell_type": "markdown",
   "id": "61797344",
   "metadata": {},
   "source": [
    "#### Test 7 - Overfitting"
   ]
  },
  {
   "cell_type": "code",
   "execution_count": 247,
   "id": "e62e0e9d",
   "metadata": {},
   "outputs": [
    {
     "name": "stdout",
     "output_type": "stream",
     "text": [
      "Accuracy On Training Data  = 0.9382352941176471\n",
      "Accuracy On Test Data  = 0.881578947368421\n"
     ]
    }
   ],
   "source": [
    "clf = MLPClassifier(hidden_layer_sizes=(20,5),max_iter=300,activation = 'relu',solver = 'adam',alpha=0.01,random_state=0).fit(X_Train, Y_Train)\n",
    "print(f'Accuracy On Training Data  = {clf.score(X_Train, Y_Train)}\\nAccuracy On Test Data  = {clf.score(X_Test, Y_Test)}')"
   ]
  },
  {
   "cell_type": "code",
   "execution_count": 248,
   "id": "e729fdad",
   "metadata": {},
   "outputs": [
    {
     "name": "stdout",
     "output_type": "stream",
     "text": [
      "              precision    recall  f1-score   support\n",
      "\n",
      "     Class 0       0.86      0.91      0.88       175\n",
      "     Class 1       0.97      0.95      0.96       505\n",
      "\n",
      "    accuracy                           0.94       680\n",
      "   macro avg       0.91      0.93      0.92       680\n",
      "weighted avg       0.94      0.94      0.94       680\n",
      "\n"
     ]
    }
   ],
   "source": [
    "y_pred = clf.predict(X_Train)\n",
    "print(metrics.classification_report(Y_Train, y_pred, target_names=['Class 0','Class 1']))"
   ]
  },
  {
   "cell_type": "code",
   "execution_count": 249,
   "id": "30cf38d9",
   "metadata": {},
   "outputs": [
    {
     "name": "stdout",
     "output_type": "stream",
     "text": [
      "              precision    recall  f1-score   support\n",
      "\n",
      "     Class 0       0.70      0.82      0.76        17\n",
      "     Class 1       0.95      0.90      0.92        59\n",
      "\n",
      "    accuracy                           0.88        76\n",
      "   macro avg       0.82      0.86      0.84        76\n",
      "weighted avg       0.89      0.88      0.88        76\n",
      "\n"
     ]
    }
   ],
   "source": [
    "y_pred = clf.predict(X_Test)\n",
    "print(metrics.classification_report(Y_Test, y_pred, target_names=['Class 0','Class 1']))"
   ]
  },
  {
   "cell_type": "markdown",
   "id": "2a18069a",
   "metadata": {},
   "source": [
    "#### Test 8 - Overfitting"
   ]
  },
  {
   "cell_type": "code",
   "execution_count": 170,
   "id": "4dfd860d",
   "metadata": {},
   "outputs": [
    {
     "name": "stdout",
     "output_type": "stream",
     "text": [
      "Accuracy On Training Data  = 0.9529411764705882\n",
      "Accuracy On Test Data  = 0.9078947368421053\n"
     ]
    }
   ],
   "source": [
    "clf = MLPClassifier(hidden_layer_sizes=(10,3),max_iter=300,activation = 'relu',solver = 'adam',alpha=0.01,random_state=0).fit(X_Train, Y_Train)\n",
    "print(f'Accuracy On Training Data  = {clf.score(X_Train, Y_Train)}\\nAccuracy On Test Data  = {clf.score(X_Test, Y_Test)}')"
   ]
  },
  {
   "cell_type": "code",
   "execution_count": 251,
   "id": "75a45b96",
   "metadata": {},
   "outputs": [
    {
     "name": "stdout",
     "output_type": "stream",
     "text": [
      "              precision    recall  f1-score   support\n",
      "\n",
      "     Class 0       0.86      0.91      0.88       175\n",
      "     Class 1       0.97      0.95      0.96       505\n",
      "\n",
      "    accuracy                           0.94       680\n",
      "   macro avg       0.91      0.93      0.92       680\n",
      "weighted avg       0.94      0.94      0.94       680\n",
      "\n"
     ]
    }
   ],
   "source": [
    "y_pred = clf.predict(X_Train)\n",
    "print(metrics.classification_report(Y_Train, y_pred, target_names=['Class 0','Class 1']))"
   ]
  },
  {
   "cell_type": "code",
   "execution_count": 252,
   "id": "cd924b89",
   "metadata": {},
   "outputs": [
    {
     "name": "stdout",
     "output_type": "stream",
     "text": [
      "              precision    recall  f1-score   support\n",
      "\n",
      "     Class 0       0.70      0.82      0.76        17\n",
      "     Class 1       0.95      0.90      0.92        59\n",
      "\n",
      "    accuracy                           0.88        76\n",
      "   macro avg       0.82      0.86      0.84        76\n",
      "weighted avg       0.89      0.88      0.88        76\n",
      "\n"
     ]
    }
   ],
   "source": [
    "y_pred = clf.predict(X_Test)\n",
    "print(metrics.classification_report(Y_Test, y_pred, target_names=['Class 0','Class 1']))"
   ]
  },
  {
   "cell_type": "markdown",
   "id": "c825087b",
   "metadata": {},
   "source": [
    "#### Test 9 - Underfitting"
   ]
  },
  {
   "cell_type": "code",
   "execution_count": 254,
   "id": "0d93f578",
   "metadata": {},
   "outputs": [
    {
     "name": "stdout",
     "output_type": "stream",
     "text": [
      "Accuracy On Training Data  = 0.9\n",
      "Accuracy On Test Data  = 0.9078947368421053\n"
     ]
    }
   ],
   "source": [
    "clf = MLPClassifier(hidden_layer_sizes=(4,2),max_iter=300,activation = 'relu',solver = 'adam',alpha=0.01,random_state=0).fit(X_Train, Y_Train)\n",
    "print(f'Accuracy On Training Data  = {clf.score(X_Train, Y_Train)}\\nAccuracy On Test Data  = {clf.score(X_Test, Y_Test)}')"
   ]
  },
  {
   "cell_type": "code",
   "execution_count": 255,
   "id": "cbeb1f1d",
   "metadata": {},
   "outputs": [
    {
     "name": "stdout",
     "output_type": "stream",
     "text": [
      "              precision    recall  f1-score   support\n",
      "\n",
      "     Class 0       0.90      0.69      0.78       175\n",
      "     Class 1       0.90      0.97      0.94       505\n",
      "\n",
      "    accuracy                           0.90       680\n",
      "   macro avg       0.90      0.83      0.86       680\n",
      "weighted avg       0.90      0.90      0.90       680\n",
      "\n"
     ]
    }
   ],
   "source": [
    "y_pred = clf.predict(X_Train)\n",
    "print(metrics.classification_report(Y_Train, y_pred, target_names=['Class 0','Class 1']))"
   ]
  },
  {
   "cell_type": "code",
   "execution_count": 256,
   "id": "849c13ec",
   "metadata": {},
   "outputs": [
    {
     "name": "stdout",
     "output_type": "stream",
     "text": [
      "              precision    recall  f1-score   support\n",
      "\n",
      "     Class 0       0.81      0.76      0.79        17\n",
      "     Class 1       0.93      0.95      0.94        59\n",
      "\n",
      "    accuracy                           0.91        76\n",
      "   macro avg       0.87      0.86      0.86        76\n",
      "weighted avg       0.91      0.91      0.91        76\n",
      "\n"
     ]
    }
   ],
   "source": [
    "y_pred = clf.predict(X_Test)\n",
    "print(metrics.classification_report(Y_Test, y_pred, target_names=['Class 0','Class 1']))"
   ]
  },
  {
   "cell_type": "markdown",
   "id": "4c7204fa",
   "metadata": {},
   "source": [
    "### ELM"
   ]
  },
  {
   "cell_type": "code",
   "execution_count": 453,
   "id": "8c096fdb",
   "metadata": {},
   "outputs": [],
   "source": [
    "class ELM():\n",
    "    def __init__(self,X,Y,hidden_size,random_state=1):\n",
    "        self.X = X\n",
    "        self.Y = Y\n",
    "        self.hidden_size = hidden_size\n",
    "        onehotencoder = OneHotEncoder()\n",
    "        self.y = onehotencoder.fit_transform(Y.reshape(-1,1)).toarray()\n",
    "        self.input_size = self.X.shape[1]\n",
    "        if random_state==0:\n",
    "            np.random.seed(0)\n",
    "        self.input_weights = np.random.normal(size=[self.input_size,self.hidden_size])\n",
    "        self.biases = np.random.normal(size=[self.hidden_size])\n",
    "        self.output_weights = np.dot(np.linalg.pinv(self.hidden_nodes(self.X)), self.y)\n",
    "    def get_params(self):\n",
    "        return (self.X,self.Y,self.hidden_size)\n",
    "    def fit(self,X,Y):    \n",
    "        pass\n",
    "    def relu(self,x):\n",
    "        return np.maximum(x, 0, x)\n",
    "    \n",
    "    def hidden_nodes(self,X):\n",
    "        G = np.dot(X, self.input_weights)\n",
    "        G = G + self.biases\n",
    "        H = self.relu(G)\n",
    "        return H\n",
    "    \n",
    "    def prediction(self,X):\n",
    "        out = self.hidden_nodes(X)\n",
    "        out = np.dot(out, self.output_weights)\n",
    "        return out\n",
    "    \n",
    "    def predict(self,X):\n",
    "        total = X.shape[0]\n",
    "        prediction = self.prediction(X)\n",
    "        pred_list = []\n",
    "        for i in range(total):\n",
    "            predicted = np.argmax(prediction[i])\n",
    "            pred_list.append(predicted)\n",
    "        return np.array(pred_list)\n",
    "        \n",
    "    def accuracy(self,X,Y):\n",
    "        onehotencoder = OneHotEncoder()\n",
    "        Y = onehotencoder.fit_transform(Y.reshape(-1,1)).toarray()\n",
    "        prediction = self.prediction(X)\n",
    "        correct = 0\n",
    "        total = X.shape[0]\n",
    "        pred_list = []\n",
    "        for i in range(total):\n",
    "            predicted = np.argmax(prediction[i])\n",
    "            pred_list.append(predicted)\n",
    "            actual = np.argmax(Y[i])\n",
    "            correct += 1 if predicted == actual else 0\n",
    "        accuracy = correct/total\n",
    "        return accuracy\n",
    "    "
   ]
  },
  {
   "cell_type": "markdown",
   "id": "367f0bb7",
   "metadata": {},
   "source": [
    "#### Test #1 - ELM with 80 neurons -- Too few Neurons"
   ]
  },
  {
   "cell_type": "code",
   "execution_count": 601,
   "id": "4cb1c35e",
   "metadata": {},
   "outputs": [
    {
     "name": "stdout",
     "output_type": "stream",
     "text": [
      "Accuracy On Training Data  = 0.8470588235294118\n",
      "Accuracy On Test Data  = 0.8289473684210527\n"
     ]
    }
   ],
   "source": [
    "elm = ELM(X_Train,Y_Train,80,random_state=0)\n",
    "print(f'Accuracy On Training Data  = {elm.accuracy(X_Train,Y_Train)}\\nAccuracy On Test Data  = {elm.accuracy(X_Test,Y_Test)}')\n"
   ]
  },
  {
   "cell_type": "code",
   "execution_count": 602,
   "id": "899f4220",
   "metadata": {},
   "outputs": [
    {
     "data": {
      "text/plain": [
       "0.8117647058823529"
      ]
     },
     "execution_count": 602,
     "metadata": {},
     "output_type": "execute_result"
    }
   ],
   "source": [
    "# Splits dataset into k consecutive folds (without shuffling by default).\n",
    "accuracy_list=[]\n",
    "kfolds = KFold(n_splits=5, random_state=0, shuffle=True)   \n",
    "for train_index, test_index in kfolds.split(X_Train, Y_Train):\n",
    "    X_train_folds, X_test_folds = X_Train[train_index], X_Train[test_index]\n",
    "    y_train_folds, y_test_folds = Y_Train[train_index], Y_Train[test_index]\n",
    "    elmk = ELM(X_train_folds,y_train_folds,80,random_state=0)\n",
    "    # put all code in the for loop so that for every set of (X_train_folds, y_train_folds), the model is fitted.\n",
    "    # call predict() for corresponding set of X_test_folds\n",
    "    accuracy = elmk.accuracy(X_test_folds,y_test_folds)\n",
    "    accuracy_list.append(accuracy)\n",
    "np.mean(accuracy_list)"
   ]
  },
  {
   "cell_type": "code",
   "execution_count": 603,
   "id": "fc8897ca",
   "metadata": {},
   "outputs": [
    {
     "data": {
      "image/png": "[encoded data removed]",
      "text/plain": [
       "<Figure size 432x288 with 2 Axes>"
      ]
     },
     "metadata": {
      "needs_background": "light"
     },
     "output_type": "display_data"
    }
   ],
   "source": [
    "pred_list = elm.predict(X_Test)\n",
    "cm = metrics.confusion_matrix(Y_Test, pred_list, labels=[0,1])\n",
    "disp = metrics.ConfusionMatrixDisplay(confusion_matrix=cm,display_labels=['Class 0','Class 1'])\n",
    "disp.plot()\n",
    "plt.show()"
   ]
  },
  {
   "cell_type": "code",
   "execution_count": 604,
   "id": "d7bc819a",
   "metadata": {},
   "outputs": [
    {
     "name": "stdout",
     "output_type": "stream",
     "text": [
      "              precision    recall  f1-score   support\n",
      "\n",
      "     Class 0       0.80      0.54      0.64       175\n",
      "     Class 1       0.86      0.95      0.90       505\n",
      "\n",
      "    accuracy                           0.85       680\n",
      "   macro avg       0.83      0.75      0.77       680\n",
      "weighted avg       0.84      0.85      0.84       680\n",
      "\n"
     ]
    }
   ],
   "source": [
    "y_pred = elm.predict(X_Train)\n",
    "print(metrics.classification_report(Y_Train, y_pred, target_names=['Class 0','Class 1']))"
   ]
  },
  {
   "cell_type": "code",
   "execution_count": 605,
   "id": "18e4e3c5",
   "metadata": {},
   "outputs": [
    {
     "name": "stdout",
     "output_type": "stream",
     "text": [
      "              precision    recall  f1-score   support\n",
      "\n",
      "     Class 0       0.67      0.47      0.55        17\n",
      "     Class 1       0.86      0.93      0.89        59\n",
      "\n",
      "    accuracy                           0.83        76\n",
      "   macro avg       0.76      0.70      0.72        76\n",
      "weighted avg       0.82      0.83      0.82        76\n",
      "\n"
     ]
    }
   ],
   "source": [
    "y_pred = elm.predict(X_Test)\n",
    "print(metrics.classification_report(Y_Test, y_pred, target_names=['Class 0','Class 1']))"
   ]
  },
  {
   "cell_type": "markdown",
   "id": "043b7a1b",
   "metadata": {},
   "source": [
    "#### Test 2  - Overfitting - Too many neurons"
   ]
  },
  {
   "cell_type": "code",
   "execution_count": 587,
   "id": "f70d3168",
   "metadata": {},
   "outputs": [
    {
     "name": "stdout",
     "output_type": "stream",
     "text": [
      "Accuracy On Training Data  = 1.0\n",
      "Accuracy On Test Data  = 0.6842105263157895\n"
     ]
    }
   ],
   "source": [
    "elm = ELM(X_Train,Y_Train,1000,random_state=0)\n",
    "print(f'Accuracy On Training Data  = {elm.accuracy(X_Train,Y_Train)}\\nAccuracy On Test Data  = {elm.accuracy(X_Test,Y_Test)}')"
   ]
  },
  {
   "cell_type": "code",
   "execution_count": 588,
   "id": "57fdc4f9",
   "metadata": {},
   "outputs": [
    {
     "data": {
      "text/plain": [
       "0.6779411764705883"
      ]
     },
     "execution_count": 588,
     "metadata": {},
     "output_type": "execute_result"
    }
   ],
   "source": [
    "# Splits dataset into k consecutive folds (without shuffling by default).\n",
    "accuracy_list=[]\n",
    "kfolds = KFold(n_splits=5, random_state=0, shuffle=True)   \n",
    "for train_index, test_index in kfolds.split(X_Train, Y_Train):\n",
    "    X_train_folds, X_test_folds = X_Train[train_index], X_Train[test_index]\n",
    "    y_train_folds, y_test_folds = Y_Train[train_index], Y_Train[test_index]\n",
    "    elmk = ELM(X_train_folds,y_train_folds,1000,random_state=0)\n",
    "    # put all code in the for loop so that for every set of (X_train_folds, y_train_folds), the model is fitted.\n",
    "    # call predict() for corresponding set of X_test_folds\n",
    "    accuracy = elmk.accuracy(X_test_folds,y_test_folds)\n",
    "    accuracy_list.append(accuracy)\n",
    "np.mean(accuracy_list)"
   ]
  },
  {
   "cell_type": "code",
   "execution_count": 589,
   "id": "ae6b70c4",
   "metadata": {},
   "outputs": [
    {
     "data": {
      "image/png": "[encoded data removed]",
      "text/plain": [
       "<Figure size 432x288 with 2 Axes>"
      ]
     },
     "metadata": {
      "needs_background": "light"
     },
     "output_type": "display_data"
    }
   ],
   "source": [
    "pred_list = elm.predict(X_Test)\n",
    "cm = metrics.confusion_matrix(Y_Test, pred_list, labels=[0,1])\n",
    "disp = metrics.ConfusionMatrixDisplay(confusion_matrix=cm,display_labels=['Class 0','Class 1'])\n",
    "disp.plot()\n",
    "plt.show()"
   ]
  },
  {
   "cell_type": "code",
   "execution_count": 590,
   "id": "9501f24c",
   "metadata": {},
   "outputs": [
    {
     "name": "stdout",
     "output_type": "stream",
     "text": [
      "              precision    recall  f1-score   support\n",
      "\n",
      "     Class 0       1.00      1.00      1.00       175\n",
      "     Class 1       1.00      1.00      1.00       505\n",
      "\n",
      "    accuracy                           1.00       680\n",
      "   macro avg       1.00      1.00      1.00       680\n",
      "weighted avg       1.00      1.00      1.00       680\n",
      "\n"
     ]
    }
   ],
   "source": [
    "y_pred = elm.predict(X_Train)\n",
    "print(metrics.classification_report(Y_Train, y_pred, target_names=['Class 0','Class 1']))"
   ]
  },
  {
   "cell_type": "code",
   "execution_count": 591,
   "id": "0d8a9da4",
   "metadata": {},
   "outputs": [
    {
     "name": "stdout",
     "output_type": "stream",
     "text": [
      "              precision    recall  f1-score   support\n",
      "\n",
      "     Class 0       0.38      0.65      0.48        17\n",
      "     Class 1       0.87      0.69      0.77        59\n",
      "\n",
      "    accuracy                           0.68        76\n",
      "   macro avg       0.63      0.67      0.63        76\n",
      "weighted avg       0.76      0.68      0.71        76\n",
      "\n"
     ]
    }
   ],
   "source": [
    "y_pred = elm.predict(X_Test)\n",
    "print(metrics.classification_report(Y_Test, y_pred, target_names=['Class 0','Class 1']))"
   ]
  },
  {
   "cell_type": "markdown",
   "id": "a18e675a",
   "metadata": {},
   "source": [
    "#### Test 3 - Good choice - No overfitting - a bit underfitting"
   ]
  },
  {
   "cell_type": "code",
   "execution_count": 559,
   "id": "8f1f2b8b",
   "metadata": {},
   "outputs": [
    {
     "name": "stdout",
     "output_type": "stream",
     "text": [
      "Accuracy On Training Data  = 0.9235294117647059\n",
      "Accuracy On Test Data  = 0.868421052631579\n"
     ]
    }
   ],
   "source": [
    "elm = ELM(X_Train,Y_Train,210,random_state=0)\n",
    "print(f'Accuracy On Training Data  = {elm.accuracy(X_Train,Y_Train)}\\nAccuracy On Test Data  = {elm.accuracy(X_Test,Y_Test)}')\n"
   ]
  },
  {
   "cell_type": "code",
   "execution_count": 560,
   "id": "05984f6d",
   "metadata": {},
   "outputs": [
    {
     "data": {
      "text/plain": [
       "0.8367647058823529"
      ]
     },
     "execution_count": 560,
     "metadata": {},
     "output_type": "execute_result"
    }
   ],
   "source": [
    "# Splits dataset into k consecutive folds (without shuffling by default).\n",
    "accuracy_list=[]\n",
    "kfolds = KFold(n_splits=5, random_state=0, shuffle=True)   \n",
    "for train_index, test_index in kfolds.split(X_Train, Y_Train):\n",
    "    X_train_folds, X_test_folds = X_Train[train_index], X_Train[test_index]\n",
    "    y_train_folds, y_test_folds = Y_Train[train_index], Y_Train[test_index]\n",
    "    elmk = ELM(X_train_folds,y_train_folds,210,random_state=0)\n",
    "    # put all code in the for loop so that for every set of (X_train_folds, y_train_folds), the model is fitted.\n",
    "    # call predict() for corresponding set of X_test_folds\n",
    "    accuracy = elmk.accuracy(X_test_folds,y_test_folds)\n",
    "    accuracy_list.append(accuracy)\n",
    "np.mean(accuracy_list)"
   ]
  },
  {
   "cell_type": "code",
   "execution_count": 561,
   "id": "af052312",
   "metadata": {},
   "outputs": [
    {
     "data": {
      "image/png": "[encoded data removed]",
      "text/plain": [
       "<Figure size 432x288 with 2 Axes>"
      ]
     },
     "metadata": {
      "needs_background": "light"
     },
     "output_type": "display_data"
    }
   ],
   "source": [
    "pred_list = elm.predict(X_Test)\n",
    "cm = metrics.confusion_matrix(Y_Test, pred_list, labels=[0,1])\n",
    "disp = metrics.ConfusionMatrixDisplay(confusion_matrix=cm,display_labels=['Class 0','Class 1'])\n",
    "disp.plot()\n",
    "plt.show()"
   ]
  },
  {
   "cell_type": "code",
   "execution_count": 562,
   "id": "9a9f638c",
   "metadata": {},
   "outputs": [
    {
     "name": "stdout",
     "output_type": "stream",
     "text": [
      "              precision    recall  f1-score   support\n",
      "\n",
      "     Class 0       0.91      0.78      0.84       175\n",
      "     Class 1       0.93      0.97      0.95       505\n",
      "\n",
      "    accuracy                           0.92       680\n",
      "   macro avg       0.92      0.88      0.89       680\n",
      "weighted avg       0.92      0.92      0.92       680\n",
      "\n"
     ]
    }
   ],
   "source": [
    "y_pred = elm.predict(X_Train)\n",
    "print(metrics.classification_report(Y_Train, y_pred, target_names=['Class 0','Class 1']))"
   ]
  },
  {
   "cell_type": "code",
   "execution_count": 563,
   "id": "343778ce",
   "metadata": {},
   "outputs": [
    {
     "name": "stdout",
     "output_type": "stream",
     "text": [
      "              precision    recall  f1-score   support\n",
      "\n",
      "     Class 0       0.73      0.65      0.69        17\n",
      "     Class 1       0.90      0.93      0.92        59\n",
      "\n",
      "    accuracy                           0.87        76\n",
      "   macro avg       0.82      0.79      0.80        76\n",
      "weighted avg       0.86      0.87      0.87        76\n",
      "\n"
     ]
    }
   ],
   "source": [
    "y_pred = elm.predict(X_Test)\n",
    "print(metrics.classification_report(Y_Test, y_pred, target_names=['Class 0','Class 1']))"
   ]
  },
  {
   "cell_type": "markdown",
   "id": "74d5d26f",
   "metadata": {},
   "source": [
    "#### Test 4 -  good choice - low overfit....????"
   ]
  },
  {
   "cell_type": "code",
   "execution_count": 569,
   "id": "0229ea03",
   "metadata": {},
   "outputs": [
    {
     "name": "stdout",
     "output_type": "stream",
     "text": [
      "Accuracy On Training Data  = 1.0\n",
      "Accuracy On Test Data  = 0.8947368421052632\n"
     ]
    }
   ],
   "source": [
    "elm = ELM(X_Train,Y_Train,5000,random_state=0)\n",
    "print(f'Accuracy On Training Data  = {elm.accuracy(X_Train,Y_Train)}\\nAccuracy On Test Data  = {elm.accuracy(X_Test,Y_Test)}')\n"
   ]
  },
  {
   "cell_type": "code",
   "execution_count": 570,
   "id": "0ff4c884",
   "metadata": {},
   "outputs": [
    {
     "data": {
      "text/plain": [
       "0.8514705882352942"
      ]
     },
     "execution_count": 570,
     "metadata": {},
     "output_type": "execute_result"
    }
   ],
   "source": [
    "# Splits dataset into k consecutive folds (without shuffling by default).\n",
    "accuracy_list=[]\n",
    "kfolds = KFold(n_splits=5, random_state=0, shuffle=True)   \n",
    "for train_index, test_index in kfolds.split(X_Train, Y_Train):\n",
    "    X_train_folds, X_test_folds = X_Train[train_index], X_Train[test_index]\n",
    "    y_train_folds, y_test_folds = Y_Train[train_index], Y_Train[test_index]\n",
    "    elmk = ELM(X_train_folds,y_train_folds,5000,random_state=0)\n",
    "    # put all code in the for loop so that for every set of (X_train_folds, y_train_folds), the model is fitted.\n",
    "    # call predict() for corresponding set of X_test_folds\n",
    "    accuracy = elmk.accuracy(X_test_folds,y_test_folds)\n",
    "    accuracy_list.append(accuracy)\n",
    "np.mean(accuracy_list)"
   ]
  },
  {
   "cell_type": "code",
   "execution_count": 571,
   "id": "53476f1f",
   "metadata": {},
   "outputs": [
    {
     "name": "stdout",
     "output_type": "stream",
     "text": [
      "              precision    recall  f1-score   support\n",
      "\n",
      "     Class 0       1.00      1.00      1.00       175\n",
      "     Class 1       1.00      1.00      1.00       505\n",
      "\n",
      "    accuracy                           1.00       680\n",
      "   macro avg       1.00      1.00      1.00       680\n",
      "weighted avg       1.00      1.00      1.00       680\n",
      "\n"
     ]
    }
   ],
   "source": [
    "y_pred = elm.predict(X_Train)\n",
    "print(metrics.classification_report(Y_Train, y_pred, target_names=['Class 0','Class 1']))"
   ]
  },
  {
   "cell_type": "code",
   "execution_count": 572,
   "id": "b333c1cf",
   "metadata": {},
   "outputs": [
    {
     "name": "stdout",
     "output_type": "stream",
     "text": [
      "              precision    recall  f1-score   support\n",
      "\n",
      "     Class 0       0.76      0.76      0.76        17\n",
      "     Class 1       0.93      0.93      0.93        59\n",
      "\n",
      "    accuracy                           0.89        76\n",
      "   macro avg       0.85      0.85      0.85        76\n",
      "weighted avg       0.89      0.89      0.89        76\n",
      "\n"
     ]
    }
   ],
   "source": [
    "y_pred = elm.predict(X_Test)\n",
    "print(metrics.classification_report(Y_Test, y_pred, target_names=['Class 0','Class 1']))"
   ]
  },
  {
   "cell_type": "code",
   "execution_count": 573,
   "id": "70d6f5b3",
   "metadata": {},
   "outputs": [
    {
     "data": {
      "image/png": "[encoded data removed]",
      "text/plain": [
       "<Figure size 432x288 with 2 Axes>"
      ]
     },
     "metadata": {
      "needs_background": "light"
     },
     "output_type": "display_data"
    }
   ],
   "source": [
    "pred_list = elm.predict(X_Test)\n",
    "cm = metrics.confusion_matrix(Y_Test, pred_list, labels=[0,1])\n",
    "disp = metrics.ConfusionMatrixDisplay(confusion_matrix=cm,display_labels=['Class 0','Class 1'])\n",
    "disp.plot()\n",
    "plt.show()"
   ]
  },
  {
   "cell_type": "markdown",
   "id": "8e8b0a94",
   "metadata": {},
   "source": [
    "#### Test 5 - Elm with 10000 neurons"
   ]
  },
  {
   "cell_type": "code",
   "execution_count": 578,
   "id": "1ac7f303",
   "metadata": {},
   "outputs": [
    {
     "name": "stdout",
     "output_type": "stream",
     "text": [
      "Accuracy On Training Data  = 1.0\n",
      "Accuracy On Test Data  = 0.9342105263157895\n"
     ]
    }
   ],
   "source": [
    "elm = ELM(X_Train,Y_Train,10000,random_state=0)\n",
    "print(f'Accuracy On Training Data  = {elm.accuracy(X_Train,Y_Train)}\\nAccuracy On Test Data  = {elm.accuracy(X_Test,Y_Test)}')\n"
   ]
  },
  {
   "cell_type": "code",
   "execution_count": 574,
   "id": "bb27a0f5",
   "metadata": {},
   "outputs": [
    {
     "data": {
      "text/plain": [
       "0.8588235294117647"
      ]
     },
     "execution_count": 574,
     "metadata": {},
     "output_type": "execute_result"
    }
   ],
   "source": [
    "# Splits dataset into k consecutive folds (without shuffling by default).\n",
    "accuracy_list=[]\n",
    "kfolds = KFold(n_splits=5, random_state=0, shuffle=True)   \n",
    "for train_index, test_index in kfolds.split(X_Train, Y_Train):\n",
    "    X_train_folds, X_test_folds = X_Train[train_index], X_Train[test_index]\n",
    "    y_train_folds, y_test_folds = Y_Train[train_index], Y_Train[test_index]\n",
    "    elmk = ELM(X_train_folds,y_train_folds,10000,random_state=0)\n",
    "    # put all code in the for loop so that for every set of (X_train_folds, y_train_folds), the model is fitted.\n",
    "    # call predict() for corresponding set of X_test_folds\n",
    "    accuracy = elmk.accuracy(X_test_folds,y_test_folds)\n",
    "    accuracy_list.append(accuracy)\n",
    "np.mean(accuracy_list)"
   ]
  },
  {
   "cell_type": "code",
   "execution_count": 579,
   "id": "4f8c93c9",
   "metadata": {},
   "outputs": [
    {
     "name": "stdout",
     "output_type": "stream",
     "text": [
      "              precision    recall  f1-score   support\n",
      "\n",
      "     Class 0       1.00      1.00      1.00       175\n",
      "     Class 1       1.00      1.00      1.00       505\n",
      "\n",
      "    accuracy                           1.00       680\n",
      "   macro avg       1.00      1.00      1.00       680\n",
      "weighted avg       1.00      1.00      1.00       680\n",
      "\n"
     ]
    }
   ],
   "source": [
    "y_pred = elm.predict(X_Train)\n",
    "print(metrics.classification_report(Y_Train, y_pred, target_names=['Class 0','Class 1']))"
   ]
  },
  {
   "cell_type": "code",
   "execution_count": 580,
   "id": "d35aa22c",
   "metadata": {},
   "outputs": [
    {
     "name": "stdout",
     "output_type": "stream",
     "text": [
      "              precision    recall  f1-score   support\n",
      "\n",
      "     Class 0       0.83      0.88      0.86        17\n",
      "     Class 1       0.97      0.95      0.96        59\n",
      "\n",
      "    accuracy                           0.93        76\n",
      "   macro avg       0.90      0.92      0.91        76\n",
      "weighted avg       0.94      0.93      0.93        76\n",
      "\n"
     ]
    }
   ],
   "source": [
    "y_pred = elm.predict(X_Test)\n",
    "print(metrics.classification_report(Y_Test, y_pred, target_names=['Class 0','Class 1']))"
   ]
  },
  {
   "cell_type": "code",
   "execution_count": 577,
   "id": "bcb01767",
   "metadata": {},
   "outputs": [
    {
     "data": {
      "image/png": "[encoded data removed]",
      "text/plain": [
       "<Figure size 432x288 with 2 Axes>"
      ]
     },
     "metadata": {
      "needs_background": "light"
     },
     "output_type": "display_data"
    }
   ],
   "source": [
    "pred_list = elm.predict(X_Test)\n",
    "cm = metrics.confusion_matrix(Y_Test, pred_list, labels=[0,1])\n",
    "disp = metrics.ConfusionMatrixDisplay(confusion_matrix=cm,display_labels=['Class 0','Class 1'])\n",
    "disp.plot()\n",
    "plt.show()"
   ]
  },
  {
   "cell_type": "markdown",
   "id": "efa8d7a2",
   "metadata": {},
   "source": [
    "#### Test 6 -  ELM with 50000 neurons"
   ]
  },
  {
   "cell_type": "code",
   "execution_count": 581,
   "id": "f663fa69",
   "metadata": {},
   "outputs": [
    {
     "name": "stdout",
     "output_type": "stream",
     "text": [
      "Accuracy On Training Data  = 1.0\n",
      "Accuracy On Test Data  = 0.9473684210526315\n"
     ]
    }
   ],
   "source": [
    "elm = ELM(X_Train,Y_Train,50000,random_state=0)\n",
    "print(f'Accuracy On Training Data  = {elm.accuracy(X_Train,Y_Train)}\\nAccuracy On Test Data  = {elm.accuracy(X_Test,Y_Test)}')\n"
   ]
  },
  {
   "cell_type": "code",
   "execution_count": 583,
   "id": "1c0bf491",
   "metadata": {},
   "outputs": [
    {
     "data": {
      "text/plain": [
       "0.8661764705882353"
      ]
     },
     "execution_count": 583,
     "metadata": {},
     "output_type": "execute_result"
    }
   ],
   "source": [
    "# Splits dataset into k consecutive folds (without shuffling by default).\n",
    "accuracy_list=[]\n",
    "kfolds = KFold(n_splits=5, random_state=0, shuffle=True)   \n",
    "for train_index, test_index in kfolds.split(X_Train, Y_Train):\n",
    "    X_train_folds, X_test_folds = X_Train[train_index], X_Train[test_index]\n",
    "    y_train_folds, y_test_folds = Y_Train[train_index], Y_Train[test_index]\n",
    "    elmk = ELM(X_train_folds,y_train_folds,50000,random_state=0)\n",
    "    # put all code in the for loop so that for every set of (X_train_folds, y_train_folds), the model is fitted.\n",
    "    # call predict() for corresponding set of X_test_folds\n",
    "    accuracy = elmk.accuracy(X_test_folds,y_test_folds)\n",
    "    accuracy_list.append(accuracy)\n",
    "np.mean(accuracy_list)"
   ]
  },
  {
   "cell_type": "code",
   "execution_count": 585,
   "id": "b99b2a8d",
   "metadata": {},
   "outputs": [
    {
     "name": "stdout",
     "output_type": "stream",
     "text": [
      "              precision    recall  f1-score   support\n",
      "\n",
      "     Class 0       1.00      1.00      1.00       175\n",
      "     Class 1       1.00      1.00      1.00       505\n",
      "\n",
      "    accuracy                           1.00       680\n",
      "   macro avg       1.00      1.00      1.00       680\n",
      "weighted avg       1.00      1.00      1.00       680\n",
      "\n"
     ]
    }
   ],
   "source": [
    "y_pred = elm.predict(X_Train)\n",
    "print(metrics.classification_report(Y_Train, y_pred, target_names=['Class 0','Class 1']))"
   ]
  },
  {
   "cell_type": "code",
   "execution_count": 586,
   "id": "bfcf868d",
   "metadata": {},
   "outputs": [
    {
     "name": "stdout",
     "output_type": "stream",
     "text": [
      "              precision    recall  f1-score   support\n",
      "\n",
      "     Class 0       0.81      1.00      0.89        17\n",
      "     Class 1       1.00      0.93      0.96        59\n",
      "\n",
      "    accuracy                           0.95        76\n",
      "   macro avg       0.90      0.97      0.93        76\n",
      "weighted avg       0.96      0.95      0.95        76\n",
      "\n"
     ]
    }
   ],
   "source": [
    "y_pred = elm.predict(X_Test)\n",
    "print(metrics.classification_report(Y_Test, y_pred, target_names=['Class 0','Class 1']))"
   ]
  },
  {
   "cell_type": "markdown",
   "id": "102565f6",
   "metadata": {},
   "source": [
    "#### Test 7 - apply PCA to data"
   ]
  },
  {
   "cell_type": "code",
   "execution_count": 597,
   "id": "35a19c85",
   "metadata": {},
   "outputs": [
    {
     "name": "stdout",
     "output_type": "stream",
     "text": [
      "Accuracy On Training Data  = 1.0\n",
      "Accuracy On Test Data  = 0.9736842105263158\n"
     ]
    }
   ],
   "source": [
    "pca = PCA(n_components=70,random_state=0)   # Number of PCs = 100\n",
    "pca.fit(X_Train)\n",
    "elm = ELM(pca.transform(X_Train),Y_Train,2000,random_state=0)\n",
    "print(f'Accuracy On Training Data  = {elm.accuracy(pca.transform(X_Train),Y_Train)}\\nAccuracy On Test Data  = {elm.accuracy(pca.transform(X_Test),Y_Test)}')"
   ]
  },
  {
   "cell_type": "code",
   "execution_count": 599,
   "id": "511eafa0",
   "metadata": {},
   "outputs": [
    {
     "data": {
      "text/plain": [
       "0.9102941176470587"
      ]
     },
     "execution_count": 599,
     "metadata": {},
     "output_type": "execute_result"
    }
   ],
   "source": [
    "# Splits dataset into k consecutive folds (without shuffling by default).\n",
    "accuracy_list=[]\n",
    "kfolds = KFold(n_splits=5, random_state=0, shuffle=True)\n",
    "\n",
    "for train_index, test_index in kfolds.split(pca.transform(X_Train), Y_Train):\n",
    "    X_train_folds, X_test_folds = pca.transform(X_Train)[train_index], pca.transform(X_Train)[test_index]\n",
    "    y_train_folds, y_test_folds = Y_Train[train_index], Y_Train[test_index]\n",
    "    elmk = ELM(X_train_folds,y_train_folds,2000,random_state=0)\n",
    "    # put all code in the for loop so that for every set of (X_train_folds, y_train_folds), the model is fitted.\n",
    "    # call predict() for corresponding set of X_test_folds\n",
    "    accuracy = elmk.accuracy(X_test_folds,y_test_folds)\n",
    "    accuracy_list.append(accuracy)\n",
    "np.mean(accuracy_list)"
   ]
  },
  {
   "cell_type": "code",
   "execution_count": 596,
   "id": "f43bff7a",
   "metadata": {},
   "outputs": [
    {
     "name": "stdout",
     "output_type": "stream",
     "text": [
      "              precision    recall  f1-score   support\n",
      "\n",
      "     Class 0       1.00      1.00      1.00       175\n",
      "     Class 1       1.00      1.00      1.00       505\n",
      "\n",
      "    accuracy                           1.00       680\n",
      "   macro avg       1.00      1.00      1.00       680\n",
      "weighted avg       1.00      1.00      1.00       680\n",
      "\n"
     ]
    }
   ],
   "source": [
    "y_pred = elm.predict(pca.transform(X_Train))\n",
    "print(metrics.classification_report(Y_Train, y_pred, target_names=['Class 0','Class 1']))"
   ]
  },
  {
   "cell_type": "code",
   "execution_count": 598,
   "id": "c4513b96",
   "metadata": {},
   "outputs": [
    {
     "name": "stdout",
     "output_type": "stream",
     "text": [
      "              precision    recall  f1-score   support\n",
      "\n",
      "     Class 0       0.94      0.94      0.94        17\n",
      "     Class 1       0.98      0.98      0.98        59\n",
      "\n",
      "    accuracy                           0.97        76\n",
      "   macro avg       0.96      0.96      0.96        76\n",
      "weighted avg       0.97      0.97      0.97        76\n",
      "\n"
     ]
    }
   ],
   "source": [
    "y_pred = elm.predict(pca.transform(X_Test))\n",
    "print(metrics.classification_report(Y_Test, y_pred, target_names=['Class 0','Class 1']))"
   ]
  },
  {
   "cell_type": "code",
   "execution_count": 600,
   "id": "e148c787",
   "metadata": {},
   "outputs": [
    {
     "data": {
      "image/png": "[encoded data removed]",
      "text/plain": [
       "<Figure size 432x288 with 2 Axes>"
      ]
     },
     "metadata": {
      "needs_background": "light"
     },
     "output_type": "display_data"
    }
   ],
   "source": [
    "pred_list = elm.predict(pca.transform(X_Test))\n",
    "cm = metrics.confusion_matrix(Y_Test, pred_list, labels=[0,1])\n",
    "disp = metrics.ConfusionMatrixDisplay(confusion_matrix=cm,display_labels=['Class 0','Class 1'])\n",
    "disp.plot()\n",
    "plt.show()"
   ]
  },
  {
   "cell_type": "markdown",
   "id": "961c2fcc",
   "metadata": {},
   "source": [
    "### Dimensionality Reduction Using AutoEncoder"
   ]
  },
  {
   "cell_type": "markdown",
   "id": "1b8d24cb",
   "metadata": {},
   "source": [
    "#### Test 1"
   ]
  },
  {
   "cell_type": "code",
   "execution_count": 720,
   "id": "49a2342b",
   "metadata": {
    "scrolled": true
   },
   "outputs": [
    {
     "name": "stdout",
     "output_type": "stream",
     "text": [
      "Model: \"model_24\"\n",
      "_________________________________________________________________\n",
      " Layer (type)                Output Shape              Param #   \n",
      "=================================================================\n",
      " input_19 (InputLayer)       [(None, 753)]             0         \n",
      "                                                                 \n",
      " dense_105 (Dense)           (None, 600)               452400    \n",
      "                                                                 \n",
      " dense_106 (Dense)           (None, 400)               240400    \n",
      "                                                                 \n",
      " dense_107 (Dense)           (None, 600)               240600    \n",
      "                                                                 \n",
      " dense_108 (Dense)           (None, 753)               452553    \n",
      "                                                                 \n",
      "=================================================================\n",
      "Total params: 1,385,953\n",
      "Trainable params: 1,385,953\n",
      "Non-trainable params: 0\n",
      "_________________________________________________________________\n"
     ]
    }
   ],
   "source": [
    "ncol = X_Train.shape[1]\n",
    "### Define the encoder dimension\n",
    "input_dim = Input(shape = (ncol, ))\n",
    "\n",
    "\n",
    "\n",
    "encoding_dim = 400\n",
    "# Encoder Layers\n",
    "encoded1 = Dense(600, activation = 'relu')(input_dim)\n",
    "encoded2 = Dense(encoding_dim, activation = 'relu')(encoded1)\n",
    "\n",
    "# Decoder Layers\n",
    "decoded1 = Dense(600, activation = 'relu')(encoded2)\n",
    "decoded2 = Dense(ncol, activation = 'sigmoid')(decoded1)\n",
    "\n",
    "# Combine Encoder and Deocder layers\n",
    "autoencoder = Model(input_dim,decoded2)\n",
    "\n",
    "# Compile the Model\n",
    "autoencoder.compile(optimizer = 'adam', loss = 'mse')\n",
    "autoencoder.summary()"
   ]
  },
  {
   "cell_type": "code",
   "execution_count": 721,
   "id": "7f9fe747",
   "metadata": {
    "scrolled": true
   },
   "outputs": [
    {
     "name": "stdout",
     "output_type": "stream",
     "text": [
      "Epoch 1/100\n",
      "22/22 [==============================] - 1s 15ms/step - loss: 0.0384 - val_loss: 0.0164\n",
      "Epoch 2/100\n",
      "22/22 [==============================] - 0s 11ms/step - loss: 0.0152 - val_loss: 0.0143\n",
      "Epoch 3/100\n",
      "22/22 [==============================] - 0s 11ms/step - loss: 0.0132 - val_loss: 0.0117\n",
      "Epoch 4/100\n",
      "22/22 [==============================] - 0s 10ms/step - loss: 0.0106 - val_loss: 0.0098\n",
      "Epoch 5/100\n",
      "22/22 [==============================] - 0s 10ms/step - loss: 0.0091 - val_loss: 0.0091\n",
      "Epoch 6/100\n",
      "22/22 [==============================] - 0s 11ms/step - loss: 0.0083 - val_loss: 0.0085\n",
      "Epoch 7/100\n",
      "22/22 [==============================] - 0s 11ms/step - loss: 0.0075 - val_loss: 0.0079\n",
      "Epoch 8/100\n",
      "22/22 [==============================] - 0s 11ms/step - loss: 0.0069 - val_loss: 0.0074\n",
      "Epoch 9/100\n",
      "22/22 [==============================] - 0s 10ms/step - loss: 0.0065 - val_loss: 0.0070\n",
      "Epoch 10/100\n",
      "22/22 [==============================] - 0s 11ms/step - loss: 0.0061 - val_loss: 0.0068\n",
      "Epoch 11/100\n",
      "22/22 [==============================] - 0s 10ms/step - loss: 0.0058 - val_loss: 0.0065\n",
      "Epoch 12/100\n",
      "22/22 [==============================] - 0s 10ms/step - loss: 0.0055 - val_loss: 0.0063\n",
      "Epoch 13/100\n",
      "22/22 [==============================] - 0s 10ms/step - loss: 0.0053 - val_loss: 0.0063\n",
      "Epoch 14/100\n",
      "22/22 [==============================] - 0s 10ms/step - loss: 0.0051 - val_loss: 0.0059\n",
      "Epoch 15/100\n",
      "22/22 [==============================] - 0s 11ms/step - loss: 0.0049 - val_loss: 0.0058\n",
      "Epoch 16/100\n",
      "22/22 [==============================] - 0s 12ms/step - loss: 0.0046 - val_loss: 0.0056\n",
      "Epoch 17/100\n",
      "22/22 [==============================] - 0s 12ms/step - loss: 0.0044 - val_loss: 0.0054\n",
      "Epoch 18/100\n",
      "22/22 [==============================] - 0s 11ms/step - loss: 0.0042 - val_loss: 0.0054\n",
      "Epoch 19/100\n",
      "22/22 [==============================] - 0s 11ms/step - loss: 0.0041 - val_loss: 0.0053\n",
      "Epoch 20/100\n",
      "22/22 [==============================] - 0s 11ms/step - loss: 0.0039 - val_loss: 0.0053\n",
      "Epoch 21/100\n",
      "22/22 [==============================] - 0s 11ms/step - loss: 0.0039 - val_loss: 0.0053\n",
      "Epoch 22/100\n",
      "22/22 [==============================] - 0s 11ms/step - loss: 0.0038 - val_loss: 0.0053\n",
      "Epoch 23/100\n",
      "22/22 [==============================] - 0s 11ms/step - loss: 0.0038 - val_loss: 0.0053\n",
      "Epoch 24/100\n",
      "22/22 [==============================] - 0s 11ms/step - loss: 0.0037 - val_loss: 0.0050\n",
      "Epoch 25/100\n",
      "22/22 [==============================] - 0s 11ms/step - loss: 0.0035 - val_loss: 0.0050\n",
      "Epoch 26/100\n",
      "22/22 [==============================] - 0s 11ms/step - loss: 0.0034 - val_loss: 0.0048\n",
      "Epoch 27/100\n",
      "22/22 [==============================] - 0s 12ms/step - loss: 0.0033 - val_loss: 0.0048\n",
      "Epoch 28/100\n",
      "22/22 [==============================] - 0s 11ms/step - loss: 0.0032 - val_loss: 0.0049\n",
      "Epoch 29/100\n",
      "22/22 [==============================] - 0s 10ms/step - loss: 0.0032 - val_loss: 0.0048\n",
      "Epoch 30/100\n",
      "22/22 [==============================] - 0s 11ms/step - loss: 0.0031 - val_loss: 0.0047\n",
      "Epoch 31/100\n",
      "22/22 [==============================] - 0s 12ms/step - loss: 0.0031 - val_loss: 0.0046\n",
      "Epoch 32/100\n",
      "22/22 [==============================] - 0s 11ms/step - loss: 0.0030 - val_loss: 0.0046\n",
      "Epoch 33/100\n",
      "22/22 [==============================] - 0s 11ms/step - loss: 0.0029 - val_loss: 0.0045\n",
      "Epoch 34/100\n",
      "22/22 [==============================] - 0s 11ms/step - loss: 0.0029 - val_loss: 0.0045\n",
      "Epoch 35/100\n",
      "22/22 [==============================] - 0s 12ms/step - loss: 0.0028 - val_loss: 0.0045\n",
      "Epoch 36/100\n",
      "22/22 [==============================] - 0s 10ms/step - loss: 0.0028 - val_loss: 0.0044\n",
      "Epoch 37/100\n",
      "22/22 [==============================] - 0s 10ms/step - loss: 0.0027 - val_loss: 0.0044\n",
      "Epoch 38/100\n",
      "22/22 [==============================] - 0s 11ms/step - loss: 0.0026 - val_loss: 0.0045\n",
      "Epoch 39/100\n",
      "22/22 [==============================] - 0s 11ms/step - loss: 0.0026 - val_loss: 0.0044\n",
      "Epoch 40/100\n",
      "22/22 [==============================] - 0s 12ms/step - loss: 0.0026 - val_loss: 0.0044\n",
      "Epoch 41/100\n",
      "22/22 [==============================] - 0s 12ms/step - loss: 0.0026 - val_loss: 0.0045\n",
      "Epoch 42/100\n",
      "22/22 [==============================] - 0s 12ms/step - loss: 0.0026 - val_loss: 0.0045\n",
      "Epoch 43/100\n",
      "22/22 [==============================] - 0s 12ms/step - loss: 0.0027 - val_loss: 0.0047\n",
      "Epoch 44/100\n",
      "22/22 [==============================] - 0s 12ms/step - loss: 0.0026 - val_loss: 0.0045\n",
      "Epoch 45/100\n",
      "22/22 [==============================] - 0s 12ms/step - loss: 0.0027 - val_loss: 0.0045\n",
      "Epoch 46/100\n",
      "22/22 [==============================] - 0s 11ms/step - loss: 0.0025 - val_loss: 0.0043\n",
      "Epoch 47/100\n",
      "22/22 [==============================] - 0s 12ms/step - loss: 0.0024 - val_loss: 0.0042\n",
      "Epoch 48/100\n",
      "22/22 [==============================] - 0s 11ms/step - loss: 0.0023 - val_loss: 0.0042\n",
      "Epoch 49/100\n",
      "22/22 [==============================] - 0s 12ms/step - loss: 0.0023 - val_loss: 0.0042\n",
      "Epoch 50/100\n",
      "22/22 [==============================] - 0s 12ms/step - loss: 0.0022 - val_loss: 0.0042\n",
      "Epoch 51/100\n",
      "22/22 [==============================] - 0s 13ms/step - loss: 0.0022 - val_loss: 0.0042\n",
      "Epoch 52/100\n",
      "22/22 [==============================] - 0s 11ms/step - loss: 0.0022 - val_loss: 0.0042\n",
      "Epoch 53/100\n",
      "22/22 [==============================] - 0s 11ms/step - loss: 0.0022 - val_loss: 0.0041\n",
      "Epoch 54/100\n",
      "22/22 [==============================] - 0s 11ms/step - loss: 0.0021 - val_loss: 0.0041\n",
      "Epoch 55/100\n",
      "22/22 [==============================] - 0s 14ms/step - loss: 0.0021 - val_loss: 0.0041\n",
      "Epoch 56/100\n",
      "22/22 [==============================] - 0s 13ms/step - loss: 0.0021 - val_loss: 0.0040\n",
      "Epoch 57/100\n",
      "22/22 [==============================] - 0s 13ms/step - loss: 0.0020 - val_loss: 0.0040\n",
      "Epoch 58/100\n",
      "22/22 [==============================] - 0s 12ms/step - loss: 0.0020 - val_loss: 0.0040\n",
      "Epoch 59/100\n",
      "22/22 [==============================] - 0s 12ms/step - loss: 0.0020 - val_loss: 0.0040\n",
      "Epoch 60/100\n",
      "22/22 [==============================] - 0s 12ms/step - loss: 0.0020 - val_loss: 0.0041\n",
      "Epoch 61/100\n",
      "22/22 [==============================] - 0s 11ms/step - loss: 0.0020 - val_loss: 0.0041\n",
      "Epoch 62/100\n",
      "22/22 [==============================] - 0s 11ms/step - loss: 0.0020 - val_loss: 0.0040\n",
      "Epoch 63/100\n",
      "22/22 [==============================] - 0s 13ms/step - loss: 0.0019 - val_loss: 0.0040\n",
      "Epoch 64/100\n",
      "22/22 [==============================] - 0s 12ms/step - loss: 0.0019 - val_loss: 0.0041\n",
      "Epoch 65/100\n",
      "22/22 [==============================] - 0s 11ms/step - loss: 0.0020 - val_loss: 0.0041\n",
      "Epoch 66/100\n",
      "22/22 [==============================] - 0s 12ms/step - loss: 0.0021 - val_loss: 0.0043\n",
      "Epoch 67/100\n",
      "22/22 [==============================] - 0s 13ms/step - loss: 0.0021 - val_loss: 0.0043\n",
      "Epoch 68/100\n",
      "22/22 [==============================] - 0s 12ms/step - loss: 0.0020 - val_loss: 0.0041\n",
      "Epoch 69/100\n",
      "22/22 [==============================] - 0s 11ms/step - loss: 0.0019 - val_loss: 0.0040\n",
      "Epoch 70/100\n",
      "22/22 [==============================] - 0s 12ms/step - loss: 0.0018 - val_loss: 0.0040\n",
      "Epoch 71/100\n",
      "22/22 [==============================] - 0s 12ms/step - loss: 0.0018 - val_loss: 0.0040\n",
      "Epoch 72/100\n",
      "22/22 [==============================] - 0s 11ms/step - loss: 0.0017 - val_loss: 0.0041\n",
      "Epoch 73/100\n",
      "22/22 [==============================] - 0s 12ms/step - loss: 0.0017 - val_loss: 0.0040\n",
      "Epoch 74/100\n",
      "22/22 [==============================] - 0s 11ms/step - loss: 0.0018 - val_loss: 0.0039\n",
      "Epoch 75/100\n",
      "22/22 [==============================] - 0s 12ms/step - loss: 0.0018 - val_loss: 0.0040\n",
      "Epoch 76/100\n",
      "22/22 [==============================] - 0s 10ms/step - loss: 0.0018 - val_loss: 0.0040\n",
      "Epoch 77/100\n",
      "22/22 [==============================] - 0s 12ms/step - loss: 0.0018 - val_loss: 0.0041\n",
      "Epoch 78/100\n",
      "22/22 [==============================] - 0s 12ms/step - loss: 0.0018 - val_loss: 0.0040\n",
      "Epoch 79/100\n",
      "22/22 [==============================] - 0s 12ms/step - loss: 0.0018 - val_loss: 0.0040\n",
      "Epoch 80/100\n",
      "22/22 [==============================] - 0s 12ms/step - loss: 0.0017 - val_loss: 0.0041\n",
      "Epoch 81/100\n",
      "22/22 [==============================] - 0s 12ms/step - loss: 0.0017 - val_loss: 0.0039\n",
      "Epoch 82/100\n",
      "22/22 [==============================] - 0s 12ms/step - loss: 0.0017 - val_loss: 0.0039\n",
      "Epoch 83/100\n",
      "22/22 [==============================] - 0s 13ms/step - loss: 0.0017 - val_loss: 0.0039\n",
      "Epoch 84/100\n",
      "22/22 [==============================] - 0s 11ms/step - loss: 0.0017 - val_loss: 0.0040\n",
      "Epoch 85/100\n",
      "22/22 [==============================] - 0s 11ms/step - loss: 0.0017 - val_loss: 0.0040\n",
      "Epoch 86/100\n",
      "22/22 [==============================] - 0s 11ms/step - loss: 0.0017 - val_loss: 0.0040\n",
      "Epoch 87/100\n",
      "22/22 [==============================] - 0s 13ms/step - loss: 0.0017 - val_loss: 0.0039\n",
      "Epoch 88/100\n",
      "22/22 [==============================] - 0s 11ms/step - loss: 0.0016 - val_loss: 0.0039\n",
      "Epoch 89/100\n",
      "22/22 [==============================] - 0s 13ms/step - loss: 0.0016 - val_loss: 0.0039\n",
      "Epoch 90/100\n",
      "22/22 [==============================] - 0s 11ms/step - loss: 0.0016 - val_loss: 0.0040\n",
      "Epoch 91/100\n",
      "22/22 [==============================] - 0s 11ms/step - loss: 0.0016 - val_loss: 0.0040\n",
      "Epoch 92/100\n",
      "22/22 [==============================] - 0s 12ms/step - loss: 0.0016 - val_loss: 0.0039\n",
      "Epoch 93/100\n",
      "22/22 [==============================] - 0s 13ms/step - loss: 0.0016 - val_loss: 0.0039\n",
      "Epoch 94/100\n",
      "22/22 [==============================] - 0s 12ms/step - loss: 0.0016 - val_loss: 0.0039\n",
      "Epoch 95/100\n",
      "22/22 [==============================] - 0s 12ms/step - loss: 0.0016 - val_loss: 0.0039\n",
      "Epoch 96/100\n",
      "22/22 [==============================] - 0s 11ms/step - loss: 0.0016 - val_loss: 0.0040\n",
      "Epoch 97/100\n",
      "22/22 [==============================] - 0s 12ms/step - loss: 0.0016 - val_loss: 0.0040\n",
      "Epoch 98/100\n",
      "22/22 [==============================] - 0s 12ms/step - loss: 0.0016 - val_loss: 0.0039\n",
      "Epoch 99/100\n",
      "22/22 [==============================] - 0s 11ms/step - loss: 0.0016 - val_loss: 0.0040\n",
      "Epoch 100/100\n",
      "22/22 [==============================] - 0s 11ms/step - loss: 0.0016 - val_loss: 0.0039\n"
     ]
    },
    {
     "data": {
      "text/plain": [
       "<keras.callbacks.History at 0x28701c1e8b0>"
      ]
     },
     "execution_count": 721,
     "metadata": {},
     "output_type": "execute_result"
    }
   ],
   "source": [
    "autoencoder.fit(X_Train, X_Train, epochs = 100, batch_size = 32, shuffle = False, validation_data = (X_Test, X_Test))"
   ]
  },
  {
   "cell_type": "code",
   "execution_count": 722,
   "id": "ebdde19f",
   "metadata": {},
   "outputs": [],
   "source": [
    "encoder = Model(input_dim , encoded2)\n",
    "encoded_input = Input(shape = (encoding_dim, ))\n",
    "encoded_train = pd.DataFrame(encoder.predict(X_Train))\n",
    "encoded_train = encoded_train.add_prefix('feature_')\n",
    "\n",
    "encoded_test = pd.DataFrame(encoder.predict(X_Test))\n",
    "encoded_test = encoded_test.add_prefix('feature_')\n",
    "#encoded_train['target'] = Y_Train"
   ]
  },
  {
   "cell_type": "code",
   "execution_count": 723,
   "id": "14ea9000",
   "metadata": {},
   "outputs": [
    {
     "data": {
      "text/html": [
       "<div>\n",
       "<style scoped>\n",
       "    .dataframe tbody tr th:only-of-type {\n",
       "        vertical-align: middle;\n",
       "    }\n",
       "\n",
       "    .dataframe tbody tr th {\n",
       "        vertical-align: top;\n",
       "    }\n",
       "\n",
       "    .dataframe thead th {\n",
       "        text-align: right;\n",
       "    }\n",
       "</style>\n",
       "<table border=\"1\" class=\"dataframe\">\n",
       "  <thead>\n",
       "    <tr style=\"text-align: right;\">\n",
       "      <th></th>\n",
       "      <th>feature_0</th>\n",
       "      <th>feature_1</th>\n",
       "      <th>feature_2</th>\n",
       "      <th>feature_3</th>\n",
       "      <th>feature_4</th>\n",
       "      <th>feature_5</th>\n",
       "      <th>feature_6</th>\n",
       "      <th>feature_7</th>\n",
       "      <th>feature_8</th>\n",
       "      <th>feature_9</th>\n",
       "      <th>...</th>\n",
       "      <th>feature_390</th>\n",
       "      <th>feature_391</th>\n",
       "      <th>feature_392</th>\n",
       "      <th>feature_393</th>\n",
       "      <th>feature_394</th>\n",
       "      <th>feature_395</th>\n",
       "      <th>feature_396</th>\n",
       "      <th>feature_397</th>\n",
       "      <th>feature_398</th>\n",
       "      <th>feature_399</th>\n",
       "    </tr>\n",
       "  </thead>\n",
       "  <tbody>\n",
       "    <tr>\n",
       "      <th>0</th>\n",
       "      <td>0.0</td>\n",
       "      <td>0.0</td>\n",
       "      <td>0.238906</td>\n",
       "      <td>2.129395</td>\n",
       "      <td>0.000000</td>\n",
       "      <td>0.0</td>\n",
       "      <td>0.319918</td>\n",
       "      <td>0.979786</td>\n",
       "      <td>0.448514</td>\n",
       "      <td>0.0</td>\n",
       "      <td>...</td>\n",
       "      <td>0.0</td>\n",
       "      <td>0.0</td>\n",
       "      <td>0.0</td>\n",
       "      <td>0.0</td>\n",
       "      <td>0.726747</td>\n",
       "      <td>0.0</td>\n",
       "      <td>0.0</td>\n",
       "      <td>0.0</td>\n",
       "      <td>0.0</td>\n",
       "      <td>0.0</td>\n",
       "    </tr>\n",
       "    <tr>\n",
       "      <th>1</th>\n",
       "      <td>0.0</td>\n",
       "      <td>0.0</td>\n",
       "      <td>0.000000</td>\n",
       "      <td>1.998780</td>\n",
       "      <td>1.638527</td>\n",
       "      <td>0.0</td>\n",
       "      <td>0.000000</td>\n",
       "      <td>0.000000</td>\n",
       "      <td>2.461142</td>\n",
       "      <td>0.0</td>\n",
       "      <td>...</td>\n",
       "      <td>0.0</td>\n",
       "      <td>0.0</td>\n",
       "      <td>0.0</td>\n",
       "      <td>0.0</td>\n",
       "      <td>0.103323</td>\n",
       "      <td>0.0</td>\n",
       "      <td>0.0</td>\n",
       "      <td>0.0</td>\n",
       "      <td>0.0</td>\n",
       "      <td>0.0</td>\n",
       "    </tr>\n",
       "    <tr>\n",
       "      <th>2</th>\n",
       "      <td>0.0</td>\n",
       "      <td>0.0</td>\n",
       "      <td>0.865556</td>\n",
       "      <td>0.263875</td>\n",
       "      <td>0.000000</td>\n",
       "      <td>0.0</td>\n",
       "      <td>0.502774</td>\n",
       "      <td>1.128805</td>\n",
       "      <td>0.082236</td>\n",
       "      <td>0.0</td>\n",
       "      <td>...</td>\n",
       "      <td>0.0</td>\n",
       "      <td>0.0</td>\n",
       "      <td>0.0</td>\n",
       "      <td>0.0</td>\n",
       "      <td>0.705941</td>\n",
       "      <td>0.0</td>\n",
       "      <td>0.0</td>\n",
       "      <td>0.0</td>\n",
       "      <td>0.0</td>\n",
       "      <td>0.0</td>\n",
       "    </tr>\n",
       "    <tr>\n",
       "      <th>3</th>\n",
       "      <td>0.0</td>\n",
       "      <td>0.0</td>\n",
       "      <td>0.047969</td>\n",
       "      <td>0.367522</td>\n",
       "      <td>0.000000</td>\n",
       "      <td>0.0</td>\n",
       "      <td>0.146503</td>\n",
       "      <td>0.392930</td>\n",
       "      <td>0.116348</td>\n",
       "      <td>0.0</td>\n",
       "      <td>...</td>\n",
       "      <td>0.0</td>\n",
       "      <td>0.0</td>\n",
       "      <td>0.0</td>\n",
       "      <td>0.0</td>\n",
       "      <td>0.090106</td>\n",
       "      <td>0.0</td>\n",
       "      <td>0.0</td>\n",
       "      <td>0.0</td>\n",
       "      <td>0.0</td>\n",
       "      <td>0.0</td>\n",
       "    </tr>\n",
       "    <tr>\n",
       "      <th>4</th>\n",
       "      <td>0.0</td>\n",
       "      <td>0.0</td>\n",
       "      <td>0.618434</td>\n",
       "      <td>1.919748</td>\n",
       "      <td>0.000000</td>\n",
       "      <td>0.0</td>\n",
       "      <td>1.187063</td>\n",
       "      <td>0.838080</td>\n",
       "      <td>0.907250</td>\n",
       "      <td>0.0</td>\n",
       "      <td>...</td>\n",
       "      <td>0.0</td>\n",
       "      <td>0.0</td>\n",
       "      <td>0.0</td>\n",
       "      <td>0.0</td>\n",
       "      <td>0.702305</td>\n",
       "      <td>0.0</td>\n",
       "      <td>0.0</td>\n",
       "      <td>0.0</td>\n",
       "      <td>0.0</td>\n",
       "      <td>0.0</td>\n",
       "    </tr>\n",
       "    <tr>\n",
       "      <th>...</th>\n",
       "      <td>...</td>\n",
       "      <td>...</td>\n",
       "      <td>...</td>\n",
       "      <td>...</td>\n",
       "      <td>...</td>\n",
       "      <td>...</td>\n",
       "      <td>...</td>\n",
       "      <td>...</td>\n",
       "      <td>...</td>\n",
       "      <td>...</td>\n",
       "      <td>...</td>\n",
       "      <td>...</td>\n",
       "      <td>...</td>\n",
       "      <td>...</td>\n",
       "      <td>...</td>\n",
       "      <td>...</td>\n",
       "      <td>...</td>\n",
       "      <td>...</td>\n",
       "      <td>...</td>\n",
       "      <td>...</td>\n",
       "      <td>...</td>\n",
       "    </tr>\n",
       "    <tr>\n",
       "      <th>675</th>\n",
       "      <td>0.0</td>\n",
       "      <td>0.0</td>\n",
       "      <td>0.000000</td>\n",
       "      <td>0.000000</td>\n",
       "      <td>0.000000</td>\n",
       "      <td>0.0</td>\n",
       "      <td>0.184023</td>\n",
       "      <td>0.000000</td>\n",
       "      <td>0.058868</td>\n",
       "      <td>0.0</td>\n",
       "      <td>...</td>\n",
       "      <td>0.0</td>\n",
       "      <td>0.0</td>\n",
       "      <td>0.0</td>\n",
       "      <td>0.0</td>\n",
       "      <td>0.326278</td>\n",
       "      <td>0.0</td>\n",
       "      <td>0.0</td>\n",
       "      <td>0.0</td>\n",
       "      <td>0.0</td>\n",
       "      <td>0.0</td>\n",
       "    </tr>\n",
       "    <tr>\n",
       "      <th>676</th>\n",
       "      <td>0.0</td>\n",
       "      <td>0.0</td>\n",
       "      <td>0.031479</td>\n",
       "      <td>1.479275</td>\n",
       "      <td>0.000000</td>\n",
       "      <td>0.0</td>\n",
       "      <td>0.769857</td>\n",
       "      <td>1.371375</td>\n",
       "      <td>0.458507</td>\n",
       "      <td>0.0</td>\n",
       "      <td>...</td>\n",
       "      <td>0.0</td>\n",
       "      <td>0.0</td>\n",
       "      <td>0.0</td>\n",
       "      <td>0.0</td>\n",
       "      <td>0.326583</td>\n",
       "      <td>0.0</td>\n",
       "      <td>0.0</td>\n",
       "      <td>0.0</td>\n",
       "      <td>0.0</td>\n",
       "      <td>0.0</td>\n",
       "    </tr>\n",
       "    <tr>\n",
       "      <th>677</th>\n",
       "      <td>0.0</td>\n",
       "      <td>0.0</td>\n",
       "      <td>0.377215</td>\n",
       "      <td>1.799627</td>\n",
       "      <td>0.000000</td>\n",
       "      <td>0.0</td>\n",
       "      <td>0.000000</td>\n",
       "      <td>0.000000</td>\n",
       "      <td>0.117410</td>\n",
       "      <td>0.0</td>\n",
       "      <td>...</td>\n",
       "      <td>0.0</td>\n",
       "      <td>0.0</td>\n",
       "      <td>0.0</td>\n",
       "      <td>0.0</td>\n",
       "      <td>0.000000</td>\n",
       "      <td>0.0</td>\n",
       "      <td>0.0</td>\n",
       "      <td>0.0</td>\n",
       "      <td>0.0</td>\n",
       "      <td>0.0</td>\n",
       "    </tr>\n",
       "    <tr>\n",
       "      <th>678</th>\n",
       "      <td>0.0</td>\n",
       "      <td>0.0</td>\n",
       "      <td>0.278638</td>\n",
       "      <td>2.097063</td>\n",
       "      <td>0.000000</td>\n",
       "      <td>0.0</td>\n",
       "      <td>1.142855</td>\n",
       "      <td>1.657634</td>\n",
       "      <td>0.707468</td>\n",
       "      <td>0.0</td>\n",
       "      <td>...</td>\n",
       "      <td>0.0</td>\n",
       "      <td>0.0</td>\n",
       "      <td>0.0</td>\n",
       "      <td>0.0</td>\n",
       "      <td>0.651815</td>\n",
       "      <td>0.0</td>\n",
       "      <td>0.0</td>\n",
       "      <td>0.0</td>\n",
       "      <td>0.0</td>\n",
       "      <td>0.0</td>\n",
       "    </tr>\n",
       "    <tr>\n",
       "      <th>679</th>\n",
       "      <td>0.0</td>\n",
       "      <td>0.0</td>\n",
       "      <td>0.000000</td>\n",
       "      <td>2.294073</td>\n",
       "      <td>0.000000</td>\n",
       "      <td>0.0</td>\n",
       "      <td>0.000000</td>\n",
       "      <td>1.764825</td>\n",
       "      <td>0.457953</td>\n",
       "      <td>0.0</td>\n",
       "      <td>...</td>\n",
       "      <td>0.0</td>\n",
       "      <td>0.0</td>\n",
       "      <td>0.0</td>\n",
       "      <td>0.0</td>\n",
       "      <td>0.299423</td>\n",
       "      <td>0.0</td>\n",
       "      <td>0.0</td>\n",
       "      <td>0.0</td>\n",
       "      <td>0.0</td>\n",
       "      <td>0.0</td>\n",
       "    </tr>\n",
       "  </tbody>\n",
       "</table>\n",
       "<p>680 rows × 400 columns</p>\n",
       "</div>"
      ],
      "text/plain": [
       "     feature_0  feature_1  feature_2  feature_3  feature_4  feature_5  \\\n",
       "0          0.0        0.0   0.238906   2.129395   0.000000        0.0   \n",
       "1          0.0        0.0   0.000000   1.998780   1.638527        0.0   \n",
       "2          0.0        0.0   0.865556   0.263875   0.000000        0.0   \n",
       "3          0.0        0.0   0.047969   0.367522   0.000000        0.0   \n",
       "4          0.0        0.0   0.618434   1.919748   0.000000        0.0   \n",
       "..         ...        ...        ...        ...        ...        ...   \n",
       "675        0.0        0.0   0.000000   0.000000   0.000000        0.0   \n",
       "676        0.0        0.0   0.031479   1.479275   0.000000        0.0   \n",
       "677        0.0        0.0   0.377215   1.799627   0.000000        0.0   \n",
       "678        0.0        0.0   0.278638   2.097063   0.000000        0.0   \n",
       "679        0.0        0.0   0.000000   2.294073   0.000000        0.0   \n",
       "\n",
       "     feature_6  feature_7  feature_8  feature_9  ...  feature_390  \\\n",
       "0     0.319918   0.979786   0.448514        0.0  ...          0.0   \n",
       "1     0.000000   0.000000   2.461142        0.0  ...          0.0   \n",
       "2     0.502774   1.128805   0.082236        0.0  ...          0.0   \n",
       "3     0.146503   0.392930   0.116348        0.0  ...          0.0   \n",
       "4     1.187063   0.838080   0.907250        0.0  ...          0.0   \n",
       "..         ...        ...        ...        ...  ...          ...   \n",
       "675   0.184023   0.000000   0.058868        0.0  ...          0.0   \n",
       "676   0.769857   1.371375   0.458507        0.0  ...          0.0   \n",
       "677   0.000000   0.000000   0.117410        0.0  ...          0.0   \n",
       "678   1.142855   1.657634   0.707468        0.0  ...          0.0   \n",
       "679   0.000000   1.764825   0.457953        0.0  ...          0.0   \n",
       "\n",
       "     feature_391  feature_392  feature_393  feature_394  feature_395  \\\n",
       "0            0.0          0.0          0.0     0.726747          0.0   \n",
       "1            0.0          0.0          0.0     0.103323          0.0   \n",
       "2            0.0          0.0          0.0     0.705941          0.0   \n",
       "3            0.0          0.0          0.0     0.090106          0.0   \n",
       "4            0.0          0.0          0.0     0.702305          0.0   \n",
       "..           ...          ...          ...          ...          ...   \n",
       "675          0.0          0.0          0.0     0.326278          0.0   \n",
       "676          0.0          0.0          0.0     0.326583          0.0   \n",
       "677          0.0          0.0          0.0     0.000000          0.0   \n",
       "678          0.0          0.0          0.0     0.651815          0.0   \n",
       "679          0.0          0.0          0.0     0.299423          0.0   \n",
       "\n",
       "     feature_396  feature_397  feature_398  feature_399  \n",
       "0            0.0          0.0          0.0          0.0  \n",
       "1            0.0          0.0          0.0          0.0  \n",
       "2            0.0          0.0          0.0          0.0  \n",
       "3            0.0          0.0          0.0          0.0  \n",
       "4            0.0          0.0          0.0          0.0  \n",
       "..           ...          ...          ...          ...  \n",
       "675          0.0          0.0          0.0          0.0  \n",
       "676          0.0          0.0          0.0          0.0  \n",
       "677          0.0          0.0          0.0          0.0  \n",
       "678          0.0          0.0          0.0          0.0  \n",
       "679          0.0          0.0          0.0          0.0  \n",
       "\n",
       "[680 rows x 400 columns]"
      ]
     },
     "execution_count": 723,
     "metadata": {},
     "output_type": "execute_result"
    }
   ],
   "source": [
    "encoded_train"
   ]
  },
  {
   "cell_type": "code",
   "execution_count": 724,
   "id": "515df08f",
   "metadata": {},
   "outputs": [],
   "source": [
    "encoded_train = encoded_train.to_numpy()\n",
    "encoded_test = encoded_test.to_numpy()"
   ]
  },
  {
   "cell_type": "code",
   "execution_count": 728,
   "id": "31215a72",
   "metadata": {},
   "outputs": [
    {
     "name": "stdout",
     "output_type": "stream",
     "text": [
      "Accuracy On Training Data  = 1.0\n",
      "Accuracy On Test Data  = 0.9736842105263158\n"
     ]
    }
   ],
   "source": [
    "elm = ELM(encoded_train,Y_Train,20000,random_state=0)\n",
    "print(f'Accuracy On Training Data  = {elm.accuracy(encoded_train,Y_Train)}\\nAccuracy On Test Data  = {elm.accuracy(encoded_test,Y_Test)}')\n"
   ]
  },
  {
   "cell_type": "code",
   "execution_count": 729,
   "id": "812220ab",
   "metadata": {},
   "outputs": [
    {
     "data": {
      "text/plain": [
       "0.9161764705882351"
      ]
     },
     "execution_count": 729,
     "metadata": {},
     "output_type": "execute_result"
    }
   ],
   "source": [
    "# Splits dataset into k consecutive folds (without shuffling by default).\n",
    "accuracy_list=[]\n",
    "kfolds = KFold(n_splits=5, random_state=0, shuffle=True)\n",
    "\n",
    "for train_index, test_index in kfolds.split(encoded_train, Y_Train):\n",
    "    X_train_folds, X_test_folds = encoded_train[train_index], encoded_train[test_index]\n",
    "    y_train_folds, y_test_folds = Y_Train[train_index], Y_Train[test_index]\n",
    "    elmk = ELM(X_train_folds,y_train_folds,20000,random_state=0)\n",
    "    # put all code in the for loop so that for every set of (X_train_folds, y_train_folds), the model is fitted.\n",
    "    # call predict() for corresponding set of X_test_folds\n",
    "    accuracy = elmk.accuracy(X_test_folds,y_test_folds)\n",
    "    accuracy_list.append(accuracy)\n",
    "np.mean(accuracy_list)"
   ]
  },
  {
   "cell_type": "code",
   "execution_count": 730,
   "id": "1a4224f1",
   "metadata": {},
   "outputs": [
    {
     "name": "stdout",
     "output_type": "stream",
     "text": [
      "              precision    recall  f1-score   support\n",
      "\n",
      "     Class 0       1.00      1.00      1.00       175\n",
      "     Class 1       1.00      1.00      1.00       505\n",
      "\n",
      "    accuracy                           1.00       680\n",
      "   macro avg       1.00      1.00      1.00       680\n",
      "weighted avg       1.00      1.00      1.00       680\n",
      "\n"
     ]
    }
   ],
   "source": [
    "y_pred = elm.predict(encoded_train)\n",
    "print(metrics.classification_report(Y_Train, y_pred, target_names=['Class 0','Class 1']))"
   ]
  },
  {
   "cell_type": "code",
   "execution_count": 731,
   "id": "a1f1b675",
   "metadata": {},
   "outputs": [
    {
     "name": "stdout",
     "output_type": "stream",
     "text": [
      "              precision    recall  f1-score   support\n",
      "\n",
      "     Class 0       1.00      0.88      0.94        17\n",
      "     Class 1       0.97      1.00      0.98        59\n",
      "\n",
      "    accuracy                           0.97        76\n",
      "   macro avg       0.98      0.94      0.96        76\n",
      "weighted avg       0.97      0.97      0.97        76\n",
      "\n"
     ]
    }
   ],
   "source": [
    "y_pred = elm.predict(encoded_test)\n",
    "print(metrics.classification_report(Y_Test, y_pred, target_names=['Class 0','Class 1']))"
   ]
  },
  {
   "cell_type": "code",
   "execution_count": 732,
   "id": "2ce602d0",
   "metadata": {},
   "outputs": [
    {
     "data": {
      "image/png": "[encoded data removed]",
      "text/plain": [
       "<Figure size 432x288 with 2 Axes>"
      ]
     },
     "metadata": {
      "needs_background": "light"
     },
     "output_type": "display_data"
    }
   ],
   "source": [
    "pred_list = elm.predict(encoded_test)\n",
    "cm = metrics.confusion_matrix(Y_Test, pred_list, labels=[0,1])\n",
    "disp = metrics.ConfusionMatrixDisplay(confusion_matrix=cm,display_labels=['Class 0','Class 1'])\n",
    "disp.plot()\n",
    "plt.show()"
   ]
  },
  {
   "cell_type": "markdown",
   "id": "006f3ae4",
   "metadata": {},
   "source": [
    "#### Test 2 - New AutoEncoder"
   ]
  },
  {
   "cell_type": "code",
   "execution_count": 771,
   "id": "586f643b",
   "metadata": {},
   "outputs": [
    {
     "name": "stdout",
     "output_type": "stream",
     "text": [
      "Model: \"model_40\"\n",
      "_________________________________________________________________\n",
      " Layer (type)                Output Shape              Param #   \n",
      "=================================================================\n",
      " input_19 (InputLayer)       [(None, 753)]             0         \n",
      "                                                                 \n",
      " dense_184 (Dense)           (None, 700)               527800    \n",
      "                                                                 \n",
      " dense_185 (Dense)           (None, 600)               420600    \n",
      "                                                                 \n",
      " dense_186 (Dense)           (None, 500)               300500    \n",
      "                                                                 \n",
      " dense_187 (Dense)           (None, 400)               200400    \n",
      "                                                                 \n",
      " dense_188 (Dense)           (None, 300)               120300    \n",
      "                                                                 \n",
      " dense_189 (Dense)           (None, 200)               60200     \n",
      "                                                                 \n",
      " dense_190 (Dense)           (None, 100)               20100     \n",
      "                                                                 \n",
      " dense_191 (Dense)           (None, 50)                5050      \n",
      "                                                                 \n",
      " dense_192 (Dense)           (None, 100)               5100      \n",
      "                                                                 \n",
      " dense_193 (Dense)           (None, 200)               20200     \n",
      "                                                                 \n",
      " dense_194 (Dense)           (None, 300)               60300     \n",
      "                                                                 \n",
      " dense_195 (Dense)           (None, 400)               120400    \n",
      "                                                                 \n",
      " dense_196 (Dense)           (None, 500)               200500    \n",
      "                                                                 \n",
      " dense_197 (Dense)           (None, 600)               300600    \n",
      "                                                                 \n",
      " dense_198 (Dense)           (None, 700)               420700    \n",
      "                                                                 \n",
      " dense_199 (Dense)           (None, 753)               527853    \n",
      "                                                                 \n",
      "=================================================================\n",
      "Total params: 3,310,603\n",
      "Trainable params: 3,310,603\n",
      "Non-trainable params: 0\n",
      "_________________________________________________________________\n"
     ]
    }
   ],
   "source": [
    "encoding_dim = 50\n",
    "# Encoder Layers\n",
    "encoded1 = Dense(700, activation = 'relu')(input_dim)\n",
    "encoded2 = Dense(600, activation = 'relu')(encoded1)\n",
    "encoded3 = Dense(500, activation = 'relu')(encoded2)\n",
    "encoded4 = Dense(400, activation = 'relu')(encoded3)\n",
    "encoded5 = Dense(300, activation = 'relu')(encoded4)\n",
    "encoded6 = Dense(200, activation = 'relu')(encoded5)\n",
    "encoded7 = Dense(100, activation = 'relu')(encoded6)\n",
    "encoded8 = Dense(encoding_dim, activation = 'relu')(encoded7)\n",
    "\n",
    "# Decoder Layers\n",
    "decoded1 = Dense(100, activation = 'relu')(encoded8)\n",
    "decoded2 = Dense(200, activation = 'relu')(decoded1)\n",
    "decoded3 = Dense(300, activation = 'relu')(decoded2)\n",
    "decoded4 = Dense(400, activation = 'relu')(decoded3)\n",
    "decoded5 = Dense(500, activation = 'relu')(decoded4)\n",
    "decoded6 = Dense(600, activation = 'relu')(decoded5)\n",
    "decoded7 = Dense(700, activation = 'relu')(decoded6)\n",
    "decoded8 = Dense(ncol, activation = 'sigmoid')(decoded7)\n",
    "\n",
    "# Combine Encoder and Deocder layers\n",
    "autoencoder = Model(input_dim,decoded8)\n",
    "\n",
    "# Compile the Model\n",
    "autoencoder.compile(optimizer = 'adam', loss = 'mse')\n",
    "autoencoder.summary()"
   ]
  },
  {
   "cell_type": "code",
   "execution_count": 772,
   "id": "4454157d",
   "metadata": {},
   "outputs": [
    {
     "name": "stdout",
     "output_type": "stream",
     "text": [
      "Epoch 1/100\n",
      "7/7 [==============================] - 1s 57ms/step - loss: 0.1077 - val_loss: 0.0484\n",
      "Epoch 2/100\n",
      "7/7 [==============================] - 0s 31ms/step - loss: 0.0289 - val_loss: 0.0213\n",
      "Epoch 3/100\n",
      "7/7 [==============================] - 0s 33ms/step - loss: 0.0180 - val_loss: 0.0167\n",
      "Epoch 4/100\n",
      "7/7 [==============================] - 0s 32ms/step - loss: 0.0160 - val_loss: 0.0156\n",
      "Epoch 5/100\n",
      "7/7 [==============================] - 0s 33ms/step - loss: 0.0152 - val_loss: 0.0150\n",
      "Epoch 6/100\n",
      "7/7 [==============================] - 0s 29ms/step - loss: 0.0148 - val_loss: 0.0147\n",
      "Epoch 7/100\n",
      "7/7 [==============================] - 0s 29ms/step - loss: 0.0146 - val_loss: 0.0145\n",
      "Epoch 8/100\n",
      "7/7 [==============================] - 0s 31ms/step - loss: 0.0145 - val_loss: 0.0143\n",
      "Epoch 9/100\n",
      "7/7 [==============================] - 0s 30ms/step - loss: 0.0144 - val_loss: 0.0143\n",
      "Epoch 10/100\n",
      "7/7 [==============================] - 0s 29ms/step - loss: 0.0143 - val_loss: 0.0143\n",
      "Epoch 11/100\n",
      "7/7 [==============================] - 0s 32ms/step - loss: 0.0143 - val_loss: 0.0142\n",
      "Epoch 12/100\n",
      "7/7 [==============================] - 0s 33ms/step - loss: 0.0143 - val_loss: 0.0142\n",
      "Epoch 13/100\n",
      "7/7 [==============================] - 0s 31ms/step - loss: 0.0142 - val_loss: 0.0142\n",
      "Epoch 14/100\n",
      "7/7 [==============================] - 0s 30ms/step - loss: 0.0142 - val_loss: 0.0142\n",
      "Epoch 15/100\n",
      "7/7 [==============================] - 0s 30ms/step - loss: 0.0142 - val_loss: 0.0142\n",
      "Epoch 16/100\n",
      "7/7 [==============================] - 0s 29ms/step - loss: 0.0142 - val_loss: 0.0142\n",
      "Epoch 17/100\n",
      "7/7 [==============================] - 0s 30ms/step - loss: 0.0142 - val_loss: 0.0142\n",
      "Epoch 18/100\n",
      "7/7 [==============================] - 0s 31ms/step - loss: 0.0142 - val_loss: 0.0142\n",
      "Epoch 19/100\n",
      "7/7 [==============================] - 0s 33ms/step - loss: 0.0142 - val_loss: 0.0142\n",
      "Epoch 20/100\n",
      "7/7 [==============================] - 0s 35ms/step - loss: 0.0142 - val_loss: 0.0142\n",
      "Epoch 21/100\n",
      "7/7 [==============================] - 0s 35ms/step - loss: 0.0142 - val_loss: 0.0142\n",
      "Epoch 22/100\n",
      "7/7 [==============================] - 0s 31ms/step - loss: 0.0142 - val_loss: 0.0142\n",
      "Epoch 23/100\n",
      "7/7 [==============================] - 0s 33ms/step - loss: 0.0142 - val_loss: 0.0142\n",
      "Epoch 24/100\n",
      "7/7 [==============================] - 0s 31ms/step - loss: 0.0142 - val_loss: 0.0142\n",
      "Epoch 25/100\n",
      "7/7 [==============================] - 0s 31ms/step - loss: 0.0142 - val_loss: 0.0142\n",
      "Epoch 26/100\n",
      "7/7 [==============================] - 0s 30ms/step - loss: 0.0142 - val_loss: 0.0142\n",
      "Epoch 27/100\n",
      "7/7 [==============================] - 0s 31ms/step - loss: 0.0142 - val_loss: 0.0142\n",
      "Epoch 28/100\n",
      "7/7 [==============================] - 0s 33ms/step - loss: 0.0142 - val_loss: 0.0142\n",
      "Epoch 29/100\n",
      "7/7 [==============================] - 0s 35ms/step - loss: 0.0142 - val_loss: 0.0142\n",
      "Epoch 30/100\n",
      "7/7 [==============================] - 0s 36ms/step - loss: 0.0142 - val_loss: 0.0142\n",
      "Epoch 31/100\n",
      "7/7 [==============================] - 0s 31ms/step - loss: 0.0142 - val_loss: 0.0142\n",
      "Epoch 32/100\n",
      "7/7 [==============================] - 0s 30ms/step - loss: 0.0142 - val_loss: 0.0142\n",
      "Epoch 33/100\n",
      "7/7 [==============================] - 0s 33ms/step - loss: 0.0142 - val_loss: 0.0142\n",
      "Epoch 34/100\n",
      "7/7 [==============================] - 0s 35ms/step - loss: 0.0142 - val_loss: 0.0142\n",
      "Epoch 35/100\n",
      "7/7 [==============================] - 0s 35ms/step - loss: 0.0142 - val_loss: 0.0142\n",
      "Epoch 36/100\n",
      "7/7 [==============================] - 0s 35ms/step - loss: 0.0142 - val_loss: 0.0142\n",
      "Epoch 37/100\n",
      "7/7 [==============================] - 0s 32ms/step - loss: 0.0142 - val_loss: 0.0141\n",
      "Epoch 38/100\n",
      "7/7 [==============================] - 0s 30ms/step - loss: 0.0142 - val_loss: 0.0141\n",
      "Epoch 39/100\n",
      "7/7 [==============================] - 0s 31ms/step - loss: 0.0142 - val_loss: 0.0141\n",
      "Epoch 40/100\n",
      "7/7 [==============================] - 0s 34ms/step - loss: 0.0142 - val_loss: 0.0141\n",
      "Epoch 41/100\n",
      "7/7 [==============================] - 0s 37ms/step - loss: 0.0142 - val_loss: 0.0141\n",
      "Epoch 42/100\n",
      "7/7 [==============================] - 0s 35ms/step - loss: 0.0142 - val_loss: 0.0141\n",
      "Epoch 43/100\n",
      "7/7 [==============================] - 0s 32ms/step - loss: 0.0141 - val_loss: 0.0141\n",
      "Epoch 44/100\n",
      "7/7 [==============================] - 0s 35ms/step - loss: 0.0141 - val_loss: 0.0141\n",
      "Epoch 45/100\n",
      "7/7 [==============================] - 0s 33ms/step - loss: 0.0141 - val_loss: 0.0140\n",
      "Epoch 46/100\n",
      "7/7 [==============================] - 0s 33ms/step - loss: 0.0140 - val_loss: 0.0139\n",
      "Epoch 47/100\n",
      "7/7 [==============================] - 0s 41ms/step - loss: 0.0137 - val_loss: 0.0132\n",
      "Epoch 48/100\n",
      "7/7 [==============================] - 0s 40ms/step - loss: 0.0138 - val_loss: 0.0143\n",
      "Epoch 49/100\n",
      "7/7 [==============================] - 0s 35ms/step - loss: 0.0134 - val_loss: 0.0128\n",
      "Epoch 50/100\n",
      "7/7 [==============================] - 0s 30ms/step - loss: 0.0127 - val_loss: 0.0123\n",
      "Epoch 51/100\n",
      "7/7 [==============================] - 0s 32ms/step - loss: 0.0122 - val_loss: 0.0119\n",
      "Epoch 52/100\n",
      "7/7 [==============================] - 0s 33ms/step - loss: 0.0119 - val_loss: 0.0130\n",
      "Epoch 53/100\n",
      "7/7 [==============================] - 0s 32ms/step - loss: 0.0121 - val_loss: 0.0119\n",
      "Epoch 54/100\n",
      "7/7 [==============================] - 0s 32ms/step - loss: 0.0117 - val_loss: 0.0117\n",
      "Epoch 55/100\n",
      "7/7 [==============================] - 0s 29ms/step - loss: 0.0115 - val_loss: 0.0117\n",
      "Epoch 56/100\n",
      "7/7 [==============================] - 0s 31ms/step - loss: 0.0113 - val_loss: 0.0114\n",
      "Epoch 57/100\n",
      "7/7 [==============================] - 0s 33ms/step - loss: 0.0112 - val_loss: 0.0122\n",
      "Epoch 58/100\n",
      "7/7 [==============================] - 0s 32ms/step - loss: 0.0115 - val_loss: 0.0114\n",
      "Epoch 59/100\n",
      "7/7 [==============================] - 0s 30ms/step - loss: 0.0112 - val_loss: 0.0117\n",
      "Epoch 60/100\n",
      "7/7 [==============================] - 0s 32ms/step - loss: 0.0111 - val_loss: 0.0113\n",
      "Epoch 61/100\n",
      "7/7 [==============================] - 0s 31ms/step - loss: 0.0109 - val_loss: 0.0112\n",
      "Epoch 62/100\n",
      "7/7 [==============================] - 0s 38ms/step - loss: 0.0107 - val_loss: 0.0110\n",
      "Epoch 63/100\n",
      "7/7 [==============================] - 0s 40ms/step - loss: 0.0106 - val_loss: 0.0112\n",
      "Epoch 64/100\n",
      "7/7 [==============================] - 0s 39ms/step - loss: 0.0106 - val_loss: 0.0110\n",
      "Epoch 65/100\n",
      "7/7 [==============================] - 0s 39ms/step - loss: 0.0106 - val_loss: 0.0109\n",
      "Epoch 66/100\n",
      "7/7 [==============================] - 0s 40ms/step - loss: 0.0105 - val_loss: 0.0110\n",
      "Epoch 67/100\n",
      "7/7 [==============================] - 0s 38ms/step - loss: 0.0103 - val_loss: 0.0108\n",
      "Epoch 68/100\n",
      "7/7 [==============================] - 0s 40ms/step - loss: 0.0104 - val_loss: 0.0108\n",
      "Epoch 69/100\n",
      "7/7 [==============================] - 0s 42ms/step - loss: 0.0104 - val_loss: 0.0109\n",
      "Epoch 70/100\n",
      "7/7 [==============================] - 0s 39ms/step - loss: 0.0103 - val_loss: 0.0108\n",
      "Epoch 71/100\n",
      "7/7 [==============================] - 0s 35ms/step - loss: 0.0102 - val_loss: 0.0107\n",
      "Epoch 72/100\n",
      "7/7 [==============================] - 0s 34ms/step - loss: 0.0101 - val_loss: 0.0106\n",
      "Epoch 73/100\n",
      "7/7 [==============================] - 0s 39ms/step - loss: 0.0101 - val_loss: 0.0108\n",
      "Epoch 74/100\n",
      "7/7 [==============================] - 0s 39ms/step - loss: 0.0101 - val_loss: 0.0106\n",
      "Epoch 75/100\n",
      "7/7 [==============================] - 0s 39ms/step - loss: 0.0100 - val_loss: 0.0104\n",
      "Epoch 76/100\n",
      "7/7 [==============================] - 0s 34ms/step - loss: 0.0101 - val_loss: 0.0105\n",
      "Epoch 77/100\n",
      "7/7 [==============================] - 0s 37ms/step - loss: 0.0103 - val_loss: 0.0110\n",
      "Epoch 78/100\n",
      "7/7 [==============================] - 0s 38ms/step - loss: 0.0101 - val_loss: 0.0108\n",
      "Epoch 79/100\n",
      "7/7 [==============================] - 0s 34ms/step - loss: 0.0099 - val_loss: 0.0108\n",
      "Epoch 80/100\n",
      "7/7 [==============================] - 0s 35ms/step - loss: 0.0098 - val_loss: 0.0103\n",
      "Epoch 81/100\n",
      "7/7 [==============================] - 0s 34ms/step - loss: 0.0096 - val_loss: 0.0101\n",
      "Epoch 82/100\n",
      "7/7 [==============================] - 0s 30ms/step - loss: 0.0094 - val_loss: 0.0100\n",
      "Epoch 83/100\n",
      "7/7 [==============================] - 0s 31ms/step - loss: 0.0092 - val_loss: 0.0098\n"
     ]
    },
    {
     "name": "stdout",
     "output_type": "stream",
     "text": [
      "Epoch 84/100\n",
      "7/7 [==============================] - 0s 30ms/step - loss: 0.0092 - val_loss: 0.0099\n",
      "Epoch 85/100\n",
      "7/7 [==============================] - 0s 36ms/step - loss: 0.0090 - val_loss: 0.0098\n",
      "Epoch 86/100\n",
      "7/7 [==============================] - 0s 33ms/step - loss: 0.0089 - val_loss: 0.0096\n",
      "Epoch 87/100\n",
      "7/7 [==============================] - 0s 33ms/step - loss: 0.0088 - val_loss: 0.0095\n",
      "Epoch 88/100\n",
      "7/7 [==============================] - 0s 34ms/step - loss: 0.0087 - val_loss: 0.0094\n",
      "Epoch 89/100\n",
      "7/7 [==============================] - 0s 32ms/step - loss: 0.0088 - val_loss: 0.0092\n",
      "Epoch 90/100\n",
      "7/7 [==============================] - 0s 30ms/step - loss: 0.0086 - val_loss: 0.0093\n",
      "Epoch 91/100\n",
      "7/7 [==============================] - 0s 29ms/step - loss: 0.0084 - val_loss: 0.0093\n",
      "Epoch 92/100\n",
      "7/7 [==============================] - 0s 32ms/step - loss: 0.0085 - val_loss: 0.0091\n",
      "Epoch 93/100\n",
      "7/7 [==============================] - 0s 34ms/step - loss: 0.0083 - val_loss: 0.0090\n",
      "Epoch 94/100\n",
      "7/7 [==============================] - 0s 36ms/step - loss: 0.0082 - val_loss: 0.0089\n",
      "Epoch 95/100\n",
      "7/7 [==============================] - 0s 35ms/step - loss: 0.0080 - val_loss: 0.0089\n",
      "Epoch 96/100\n",
      "7/7 [==============================] - 0s 31ms/step - loss: 0.0080 - val_loss: 0.0089\n",
      "Epoch 97/100\n",
      "7/7 [==============================] - 0s 35ms/step - loss: 0.0080 - val_loss: 0.0088\n",
      "Epoch 98/100\n",
      "7/7 [==============================] - 0s 33ms/step - loss: 0.0079 - val_loss: 0.0087\n",
      "Epoch 99/100\n",
      "7/7 [==============================] - 0s 30ms/step - loss: 0.0080 - val_loss: 0.0086\n",
      "Epoch 100/100\n",
      "7/7 [==============================] - 0s 36ms/step - loss: 0.0079 - val_loss: 0.0089\n"
     ]
    },
    {
     "data": {
      "text/plain": [
       "<keras.callbacks.History at 0x2872b838520>"
      ]
     },
     "execution_count": 772,
     "metadata": {},
     "output_type": "execute_result"
    }
   ],
   "source": [
    "autoencoder.fit(X_Train, X_Train, epochs = 100, batch_size = 100, shuffle = False,validation_data = (X_Test, X_Test) )"
   ]
  },
  {
   "cell_type": "code",
   "execution_count": 773,
   "id": "0311cd0e",
   "metadata": {},
   "outputs": [],
   "source": [
    "encoder = Model(input_dim , encoded2)\n",
    "encoded_input = Input(shape = (encoding_dim, ))\n",
    "encoded_train = pd.DataFrame(encoder.predict(X_Train))\n",
    "encoded_train = encoded_train.add_prefix('feature_')\n",
    "\n",
    "encoded_test = pd.DataFrame(encoder.predict(X_Test))\n",
    "encoded_test = encoded_test.add_prefix('feature_')"
   ]
  },
  {
   "cell_type": "code",
   "execution_count": 777,
   "id": "20ac665b",
   "metadata": {},
   "outputs": [
    {
     "name": "stdout",
     "output_type": "stream",
     "text": [
      "Accuracy On Training Data  = 1.0\n",
      "Accuracy On Test Data  = 0.9210526315789473\n"
     ]
    }
   ],
   "source": [
    "elm = ELM(encoded_train,Y_Train,10000,random_state=0)\n",
    "print(f'Accuracy On Training Data  = {elm.accuracy(encoded_train,Y_Train)}\\nAccuracy On Test Data  = {elm.accuracy(encoded_test,Y_Test)}')\n"
   ]
  },
  {
   "cell_type": "code",
   "execution_count": 778,
   "id": "f0991ce5",
   "metadata": {},
   "outputs": [
    {
     "data": {
      "text/plain": [
       "0.8382352941176471"
      ]
     },
     "execution_count": 778,
     "metadata": {},
     "output_type": "execute_result"
    }
   ],
   "source": [
    "encoded_train = encoded_train.to_numpy()\n",
    "encoded_test = encoded_test.to_numpy()\n",
    "# Splits dataset into k consecutive folds (without shuffling by default).\n",
    "\n",
    "accuracy_list=[]\n",
    "kfolds = KFold(n_splits=5, random_state=0, shuffle=True)\n",
    "\n",
    "for train_index, test_index in kfolds.split(encoded_train, Y_Train):\n",
    "    X_train_folds, X_test_folds = encoded_train[train_index], encoded_train[test_index]\n",
    "    y_train_folds, y_test_folds = Y_Train[train_index], Y_Train[test_index]\n",
    "    elmk = ELM(X_train_folds,y_train_folds,10000,random_state=0)\n",
    "    # put all code in the for loop so that for every set of (X_train_folds, y_train_folds), the model is fitted.\n",
    "    # call predict() for corresponding set of X_test_folds\n",
    "    accuracy = elmk.accuracy(X_test_folds,y_test_folds)\n",
    "    accuracy_list.append(accuracy)\n",
    "np.mean(accuracy_list)"
   ]
  },
  {
   "cell_type": "code",
   "execution_count": 779,
   "id": "0262148b",
   "metadata": {},
   "outputs": [
    {
     "name": "stdout",
     "output_type": "stream",
     "text": [
      "              precision    recall  f1-score   support\n",
      "\n",
      "     Class 0       1.00      1.00      1.00       175\n",
      "     Class 1       1.00      1.00      1.00       505\n",
      "\n",
      "    accuracy                           1.00       680\n",
      "   macro avg       1.00      1.00      1.00       680\n",
      "weighted avg       1.00      1.00      1.00       680\n",
      "\n"
     ]
    }
   ],
   "source": [
    "y_pred = elm.predict(encoded_train)\n",
    "print(metrics.classification_report(Y_Train, y_pred, target_names=['Class 0','Class 1']))"
   ]
  },
  {
   "cell_type": "code",
   "execution_count": 780,
   "id": "52ce37bf",
   "metadata": {},
   "outputs": [
    {
     "name": "stdout",
     "output_type": "stream",
     "text": [
      "              precision    recall  f1-score   support\n",
      "\n",
      "     Class 0       0.79      0.88      0.83        17\n",
      "     Class 1       0.96      0.93      0.95        59\n",
      "\n",
      "    accuracy                           0.92        76\n",
      "   macro avg       0.88      0.91      0.89        76\n",
      "weighted avg       0.93      0.92      0.92        76\n",
      "\n"
     ]
    }
   ],
   "source": [
    "y_pred = elm.predict(encoded_test)\n",
    "print(metrics.classification_report(Y_Test, y_pred, target_names=['Class 0','Class 1']))"
   ]
  },
  {
   "cell_type": "code",
   "execution_count": 750,
   "id": "81a396ba",
   "metadata": {},
   "outputs": [
    {
     "data": {
      "image/png": "[encoded data removed]",
      "text/plain": [
       "<Figure size 432x288 with 2 Axes>"
      ]
     },
     "metadata": {
      "needs_background": "light"
     },
     "output_type": "display_data"
    }
   ],
   "source": [
    "pred_list = elm.predict(encoded_test)\n",
    "cm = metrics.confusion_matrix(Y_Test, pred_list, labels=[0,1])\n",
    "disp = metrics.ConfusionMatrixDisplay(confusion_matrix=cm,display_labels=['Class 0','Class 1'])\n",
    "disp.plot()\n",
    "plt.show()"
   ]
  },
  {
   "cell_type": "markdown",
   "id": "29903586",
   "metadata": {},
   "source": [
    "#### Test 3"
   ]
  },
  {
   "cell_type": "code",
   "execution_count": 781,
   "id": "eeb79228",
   "metadata": {},
   "outputs": [
    {
     "name": "stdout",
     "output_type": "stream",
     "text": [
      "Model: \"model_42\"\n",
      "_________________________________________________________________\n",
      " Layer (type)                Output Shape              Param #   \n",
      "=================================================================\n",
      " input_19 (InputLayer)       [(None, 753)]             0         \n",
      "                                                                 \n",
      " dense_200 (Dense)           (None, 500)               377000    \n",
      "                                                                 \n",
      " dense_201 (Dense)           (None, 300)               150300    \n",
      "                                                                 \n",
      " dense_202 (Dense)           (None, 200)               60200     \n",
      "                                                                 \n",
      " dense_203 (Dense)           (None, 300)               60300     \n",
      "                                                                 \n",
      " dense_204 (Dense)           (None, 500)               150500    \n",
      "                                                                 \n",
      " dense_205 (Dense)           (None, 753)               377253    \n",
      "                                                                 \n",
      "=================================================================\n",
      "Total params: 1,175,553\n",
      "Trainable params: 1,175,553\n",
      "Non-trainable params: 0\n",
      "_________________________________________________________________\n"
     ]
    }
   ],
   "source": [
    "encoding_dim = 200\n",
    "# Encoder Layers\n",
    "encoded1 = Dense(500, activation = 'relu')(input_dim)\n",
    "encoded2 = Dense(300, activation = 'relu')(encoded1)\n",
    "encoded3 = Dense(encoding_dim, activation = 'relu')(encoded2)\n",
    "\n",
    "# Decoder Layers\n",
    "decoded1 = Dense(300, activation = 'relu')(encoded3)\n",
    "decoded2 = Dense(500, activation = 'relu')(decoded1)\n",
    "decoded3 = Dense(ncol, activation = 'sigmoid')(decoded2)\n",
    "\n",
    "# Combine Encoder and Deocder layers\n",
    "autoencoder = Model(input_dim,decoded3)\n",
    "\n",
    "# Compile the Model\n",
    "autoencoder.compile(optimizer = 'adam', loss = 'mse')\n",
    "autoencoder.summary()"
   ]
  },
  {
   "cell_type": "code",
   "execution_count": 782,
   "id": "e0816b8c",
   "metadata": {},
   "outputs": [
    {
     "name": "stdout",
     "output_type": "stream",
     "text": [
      "Epoch 1/100\n",
      "22/22 [==============================] - 1s 14ms/step - loss: 0.0426 - val_loss: 0.0164\n",
      "Epoch 2/100\n",
      "22/22 [==============================] - 0s 9ms/step - loss: 0.0155 - val_loss: 0.0148\n",
      "Epoch 3/100\n",
      "22/22 [==============================] - 0s 10ms/step - loss: 0.0145 - val_loss: 0.0141\n",
      "Epoch 4/100\n",
      "22/22 [==============================] - 0s 9ms/step - loss: 0.0135 - val_loss: 0.0123\n",
      "Epoch 5/100\n",
      "22/22 [==============================] - 0s 9ms/step - loss: 0.0114 - val_loss: 0.0106\n",
      "Epoch 6/100\n",
      "22/22 [==============================] - 0s 9ms/step - loss: 0.0100 - val_loss: 0.0099\n",
      "Epoch 7/100\n",
      "22/22 [==============================] - 0s 9ms/step - loss: 0.0091 - val_loss: 0.0092\n",
      "Epoch 8/100\n",
      "22/22 [==============================] - 0s 9ms/step - loss: 0.0084 - val_loss: 0.0088\n",
      "Epoch 9/100\n",
      "22/22 [==============================] - 0s 9ms/step - loss: 0.0079 - val_loss: 0.0083\n",
      "Epoch 10/100\n",
      "22/22 [==============================] - 0s 10ms/step - loss: 0.0075 - val_loss: 0.0081\n",
      "Epoch 11/100\n",
      "22/22 [==============================] - 0s 9ms/step - loss: 0.0071 - val_loss: 0.0078\n",
      "Epoch 12/100\n",
      "22/22 [==============================] - 0s 9ms/step - loss: 0.0068 - val_loss: 0.0076\n",
      "Epoch 13/100\n",
      "22/22 [==============================] - 0s 9ms/step - loss: 0.0066 - val_loss: 0.0073\n",
      "Epoch 14/100\n",
      "22/22 [==============================] - 0s 8ms/step - loss: 0.0063 - val_loss: 0.0071\n",
      "Epoch 15/100\n",
      "22/22 [==============================] - 0s 8ms/step - loss: 0.0061 - val_loss: 0.0070\n",
      "Epoch 16/100\n",
      "22/22 [==============================] - 0s 8ms/step - loss: 0.0060 - val_loss: 0.0067\n",
      "Epoch 17/100\n",
      "22/22 [==============================] - 0s 9ms/step - loss: 0.0058 - val_loss: 0.0068\n",
      "Epoch 18/100\n",
      "22/22 [==============================] - 0s 9ms/step - loss: 0.0057 - val_loss: 0.0065\n",
      "Epoch 19/100\n",
      "22/22 [==============================] - 0s 9ms/step - loss: 0.0054 - val_loss: 0.0063\n",
      "Epoch 20/100\n",
      "22/22 [==============================] - 0s 8ms/step - loss: 0.0053 - val_loss: 0.0062\n",
      "Epoch 21/100\n",
      "22/22 [==============================] - 0s 8ms/step - loss: 0.0052 - val_loss: 0.0064\n",
      "Epoch 22/100\n",
      "22/22 [==============================] - 0s 8ms/step - loss: 0.0051 - val_loss: 0.0062\n",
      "Epoch 23/100\n",
      "22/22 [==============================] - 0s 9ms/step - loss: 0.0049 - val_loss: 0.0061\n",
      "Epoch 24/100\n",
      "22/22 [==============================] - 0s 10ms/step - loss: 0.0048 - val_loss: 0.0059\n",
      "Epoch 25/100\n",
      "22/22 [==============================] - 0s 8ms/step - loss: 0.0048 - val_loss: 0.0060\n",
      "Epoch 26/100\n",
      "22/22 [==============================] - 0s 8ms/step - loss: 0.0046 - val_loss: 0.0059\n",
      "Epoch 27/100\n",
      "22/22 [==============================] - 0s 8ms/step - loss: 0.0045 - val_loss: 0.0058\n",
      "Epoch 28/100\n",
      "22/22 [==============================] - 0s 9ms/step - loss: 0.0044 - val_loss: 0.0056\n",
      "Epoch 29/100\n",
      "22/22 [==============================] - 0s 9ms/step - loss: 0.0044 - val_loss: 0.0057\n",
      "Epoch 30/100\n",
      "22/22 [==============================] - 0s 9ms/step - loss: 0.0044 - val_loss: 0.0059\n",
      "Epoch 31/100\n",
      "22/22 [==============================] - 0s 9ms/step - loss: 0.0043 - val_loss: 0.0057\n",
      "Epoch 32/100\n",
      "22/22 [==============================] - 0s 9ms/step - loss: 0.0042 - val_loss: 0.0056\n",
      "Epoch 33/100\n",
      "22/22 [==============================] - 0s 9ms/step - loss: 0.0040 - val_loss: 0.0056\n",
      "Epoch 34/100\n",
      "22/22 [==============================] - 0s 10ms/step - loss: 0.0040 - val_loss: 0.0055\n",
      "Epoch 35/100\n",
      "22/22 [==============================] - 0s 8ms/step - loss: 0.0039 - val_loss: 0.0055\n",
      "Epoch 36/100\n",
      "22/22 [==============================] - 0s 8ms/step - loss: 0.0038 - val_loss: 0.0053\n",
      "Epoch 37/100\n",
      "22/22 [==============================] - 0s 9ms/step - loss: 0.0038 - val_loss: 0.0054\n",
      "Epoch 38/100\n",
      "22/22 [==============================] - 0s 9ms/step - loss: 0.0038 - val_loss: 0.0056\n",
      "Epoch 39/100\n",
      "22/22 [==============================] - 0s 9ms/step - loss: 0.0038 - val_loss: 0.0055\n",
      "Epoch 40/100\n",
      "22/22 [==============================] - 0s 9ms/step - loss: 0.0038 - val_loss: 0.0055\n",
      "Epoch 41/100\n",
      "22/22 [==============================] - 0s 9ms/step - loss: 0.0038 - val_loss: 0.0056\n",
      "Epoch 42/100\n",
      "22/22 [==============================] - 0s 8ms/step - loss: 0.0038 - val_loss: 0.0056\n",
      "Epoch 43/100\n",
      "22/22 [==============================] - 0s 8ms/step - loss: 0.0038 - val_loss: 0.0056\n",
      "Epoch 44/100\n",
      "22/22 [==============================] - 0s 9ms/step - loss: 0.0036 - val_loss: 0.0054\n",
      "Epoch 45/100\n",
      "22/22 [==============================] - 0s 10ms/step - loss: 0.0034 - val_loss: 0.0052\n",
      "Epoch 46/100\n",
      "22/22 [==============================] - 0s 9ms/step - loss: 0.0034 - val_loss: 0.0053\n",
      "Epoch 47/100\n",
      "22/22 [==============================] - 0s 9ms/step - loss: 0.0034 - val_loss: 0.0054\n",
      "Epoch 48/100\n",
      "22/22 [==============================] - 0s 8ms/step - loss: 0.0033 - val_loss: 0.0053\n",
      "Epoch 49/100\n",
      "22/22 [==============================] - 0s 11ms/step - loss: 0.0032 - val_loss: 0.0053\n",
      "Epoch 50/100\n",
      "22/22 [==============================] - 0s 9ms/step - loss: 0.0031 - val_loss: 0.0052\n",
      "Epoch 51/100\n",
      "22/22 [==============================] - 0s 9ms/step - loss: 0.0031 - val_loss: 0.0051\n",
      "Epoch 52/100\n",
      "22/22 [==============================] - 0s 9ms/step - loss: 0.0031 - val_loss: 0.0052\n",
      "Epoch 53/100\n",
      "22/22 [==============================] - 0s 9ms/step - loss: 0.0033 - val_loss: 0.0052\n",
      "Epoch 54/100\n",
      "22/22 [==============================] - 0s 9ms/step - loss: 0.0032 - val_loss: 0.0052\n",
      "Epoch 55/100\n",
      "22/22 [==============================] - 0s 8ms/step - loss: 0.0030 - val_loss: 0.0052\n",
      "Epoch 56/100\n",
      "22/22 [==============================] - 0s 9ms/step - loss: 0.0030 - val_loss: 0.0050\n",
      "Epoch 57/100\n",
      "22/22 [==============================] - 0s 9ms/step - loss: 0.0029 - val_loss: 0.0049\n",
      "Epoch 58/100\n",
      "22/22 [==============================] - 0s 9ms/step - loss: 0.0030 - val_loss: 0.0051\n",
      "Epoch 59/100\n",
      "22/22 [==============================] - 0s 10ms/step - loss: 0.0029 - val_loss: 0.0050\n",
      "Epoch 60/100\n",
      "22/22 [==============================] - 0s 9ms/step - loss: 0.0029 - val_loss: 0.0053\n",
      "Epoch 61/100\n",
      "22/22 [==============================] - 0s 10ms/step - loss: 0.0030 - val_loss: 0.0050\n",
      "Epoch 62/100\n",
      "22/22 [==============================] - 0s 10ms/step - loss: 0.0029 - val_loss: 0.0050\n",
      "Epoch 63/100\n",
      "22/22 [==============================] - 0s 9ms/step - loss: 0.0028 - val_loss: 0.0050\n",
      "Epoch 64/100\n",
      "22/22 [==============================] - 0s 10ms/step - loss: 0.0028 - val_loss: 0.0049\n",
      "Epoch 65/100\n",
      "22/22 [==============================] - 0s 10ms/step - loss: 0.0028 - val_loss: 0.0050\n",
      "Epoch 66/100\n",
      "22/22 [==============================] - 0s 10ms/step - loss: 0.0027 - val_loss: 0.0049\n",
      "Epoch 67/100\n",
      "22/22 [==============================] - 0s 11ms/step - loss: 0.0026 - val_loss: 0.0050\n",
      "Epoch 68/100\n",
      "22/22 [==============================] - 0s 10ms/step - loss: 0.0026 - val_loss: 0.0050\n",
      "Epoch 69/100\n",
      "22/22 [==============================] - 0s 9ms/step - loss: 0.0026 - val_loss: 0.0051\n",
      "Epoch 70/100\n",
      "22/22 [==============================] - 0s 9ms/step - loss: 0.0026 - val_loss: 0.0049\n",
      "Epoch 71/100\n",
      "22/22 [==============================] - 0s 9ms/step - loss: 0.0026 - val_loss: 0.0051\n",
      "Epoch 72/100\n",
      "22/22 [==============================] - 0s 9ms/step - loss: 0.0026 - val_loss: 0.0050\n",
      "Epoch 73/100\n",
      "22/22 [==============================] - 0s 10ms/step - loss: 0.0026 - val_loss: 0.0051\n",
      "Epoch 74/100\n",
      "22/22 [==============================] - 0s 10ms/step - loss: 0.0026 - val_loss: 0.0050\n",
      "Epoch 75/100\n",
      "22/22 [==============================] - 0s 9ms/step - loss: 0.0026 - val_loss: 0.0050\n",
      "Epoch 76/100\n",
      "22/22 [==============================] - 0s 8ms/step - loss: 0.0026 - val_loss: 0.0052\n",
      "Epoch 77/100\n",
      "22/22 [==============================] - 0s 9ms/step - loss: 0.0025 - val_loss: 0.0051\n",
      "Epoch 78/100\n",
      "22/22 [==============================] - 0s 9ms/step - loss: 0.0024 - val_loss: 0.0049\n",
      "Epoch 79/100\n",
      "22/22 [==============================] - 0s 8ms/step - loss: 0.0024 - val_loss: 0.0048\n",
      "Epoch 80/100\n",
      "22/22 [==============================] - 0s 8ms/step - loss: 0.0024 - val_loss: 0.0048\n",
      "Epoch 81/100\n",
      "22/22 [==============================] - 0s 8ms/step - loss: 0.0024 - val_loss: 0.0050\n",
      "Epoch 82/100\n",
      "22/22 [==============================] - 0s 9ms/step - loss: 0.0024 - val_loss: 0.0049\n"
     ]
    },
    {
     "name": "stdout",
     "output_type": "stream",
     "text": [
      "Epoch 83/100\n",
      "22/22 [==============================] - 0s 8ms/step - loss: 0.0024 - val_loss: 0.0049\n",
      "Epoch 84/100\n",
      "22/22 [==============================] - 0s 9ms/step - loss: 0.0024 - val_loss: 0.0051\n",
      "Epoch 85/100\n",
      "22/22 [==============================] - 0s 8ms/step - loss: 0.0025 - val_loss: 0.0051\n",
      "Epoch 86/100\n",
      "22/22 [==============================] - 0s 8ms/step - loss: 0.0024 - val_loss: 0.0051\n",
      "Epoch 87/100\n",
      "22/22 [==============================] - 0s 9ms/step - loss: 0.0024 - val_loss: 0.0049\n",
      "Epoch 88/100\n",
      "22/22 [==============================] - 0s 9ms/step - loss: 0.0024 - val_loss: 0.0049\n",
      "Epoch 89/100\n",
      "22/22 [==============================] - 0s 9ms/step - loss: 0.0024 - val_loss: 0.0049\n",
      "Epoch 90/100\n",
      "22/22 [==============================] - 0s 9ms/step - loss: 0.0023 - val_loss: 0.0050\n",
      "Epoch 91/100\n",
      "22/22 [==============================] - 0s 10ms/step - loss: 0.0024 - val_loss: 0.0050\n",
      "Epoch 92/100\n",
      "22/22 [==============================] - 0s 9ms/step - loss: 0.0024 - val_loss: 0.0051\n",
      "Epoch 93/100\n",
      "22/22 [==============================] - 0s 9ms/step - loss: 0.0023 - val_loss: 0.0050\n",
      "Epoch 94/100\n",
      "22/22 [==============================] - 0s 9ms/step - loss: 0.0022 - val_loss: 0.0049\n",
      "Epoch 95/100\n",
      "22/22 [==============================] - 0s 8ms/step - loss: 0.0023 - val_loss: 0.0050\n",
      "Epoch 96/100\n",
      "22/22 [==============================] - 0s 8ms/step - loss: 0.0023 - val_loss: 0.0051\n",
      "Epoch 97/100\n",
      "22/22 [==============================] - 0s 8ms/step - loss: 0.0024 - val_loss: 0.0051\n",
      "Epoch 98/100\n",
      "22/22 [==============================] - 0s 8ms/step - loss: 0.0024 - val_loss: 0.0053\n",
      "Epoch 99/100\n",
      "22/22 [==============================] - 0s 8ms/step - loss: 0.0025 - val_loss: 0.0050\n",
      "Epoch 100/100\n",
      "22/22 [==============================] - 0s 8ms/step - loss: 0.0025 - val_loss: 0.0051\n"
     ]
    },
    {
     "data": {
      "text/plain": [
       "<keras.callbacks.History at 0x287726ad430>"
      ]
     },
     "execution_count": 782,
     "metadata": {},
     "output_type": "execute_result"
    }
   ],
   "source": [
    "autoencoder.fit(X_Train, X_Train, epochs = 100, batch_size = 32, shuffle = False, validation_data = (X_Test, X_Test))"
   ]
  },
  {
   "cell_type": "code",
   "execution_count": 783,
   "id": "76bdec30",
   "metadata": {},
   "outputs": [],
   "source": [
    "encoder = Model(input_dim , encoded3)\n",
    "encoded_input = Input(shape = (encoding_dim, ))\n",
    "encoded_train = pd.DataFrame(encoder.predict(X_Train))\n",
    "encoded_train = encoded_train.add_prefix('feature_')\n",
    "\n",
    "encoded_test = pd.DataFrame(encoder.predict(X_Test))\n",
    "encoded_test = encoded_test.add_prefix('feature_')"
   ]
  },
  {
   "cell_type": "code",
   "execution_count": 784,
   "id": "010245b0",
   "metadata": {},
   "outputs": [
    {
     "name": "stdout",
     "output_type": "stream",
     "text": [
      "Accuracy On Training Data  = 1.0\n",
      "Accuracy On Test Data  = 0.9078947368421053\n"
     ]
    }
   ],
   "source": [
    "elm = ELM(encoded_train,Y_Train,10000,random_state=0)\n",
    "print(f'Accuracy On Training Data  = {elm.accuracy(encoded_train,Y_Train)}\\nAccuracy On Test Data  = {elm.accuracy(encoded_test,Y_Test)}')\n"
   ]
  },
  {
   "cell_type": "code",
   "execution_count": 785,
   "id": "de22cc40",
   "metadata": {},
   "outputs": [
    {
     "data": {
      "text/plain": [
       "0.876470588235294"
      ]
     },
     "execution_count": 785,
     "metadata": {},
     "output_type": "execute_result"
    }
   ],
   "source": [
    "encoded_train = encoded_train.to_numpy()\n",
    "encoded_test = encoded_test.to_numpy()\n",
    "# Splits dataset into k consecutive folds (without shuffling by default).\n",
    "\n",
    "accuracy_list=[]\n",
    "kfolds = KFold(n_splits=5, random_state=0, shuffle=True)\n",
    "\n",
    "for train_index, test_index in kfolds.split(encoded_train, Y_Train):\n",
    "    X_train_folds, X_test_folds = encoded_train[train_index], encoded_train[test_index]\n",
    "    y_train_folds, y_test_folds = Y_Train[train_index], Y_Train[test_index]\n",
    "    elmk = ELM(X_train_folds,y_train_folds,10000,random_state=0)\n",
    "    # put all code in the for loop so that for every set of (X_train_folds, y_train_folds), the model is fitted.\n",
    "    # call predict() for corresponding set of X_test_folds\n",
    "    accuracy = elmk.accuracy(X_test_folds,y_test_folds)\n",
    "    accuracy_list.append(accuracy)\n",
    "np.mean(accuracy_list)"
   ]
  },
  {
   "cell_type": "code",
   "execution_count": 786,
   "id": "839fcec7",
   "metadata": {},
   "outputs": [
    {
     "name": "stdout",
     "output_type": "stream",
     "text": [
      "              precision    recall  f1-score   support\n",
      "\n",
      "     Class 0       1.00      1.00      1.00       175\n",
      "     Class 1       1.00      1.00      1.00       505\n",
      "\n",
      "    accuracy                           1.00       680\n",
      "   macro avg       1.00      1.00      1.00       680\n",
      "weighted avg       1.00      1.00      1.00       680\n",
      "\n"
     ]
    }
   ],
   "source": [
    "y_pred = elm.predict(encoded_train)\n",
    "print(metrics.classification_report(Y_Train, y_pred, target_names=['Class 0','Class 1']))"
   ]
  },
  {
   "cell_type": "code",
   "execution_count": 787,
   "id": "4d54cfca",
   "metadata": {},
   "outputs": [
    {
     "name": "stdout",
     "output_type": "stream",
     "text": [
      "              precision    recall  f1-score   support\n",
      "\n",
      "     Class 0       0.81      0.76      0.79        17\n",
      "     Class 1       0.93      0.95      0.94        59\n",
      "\n",
      "    accuracy                           0.91        76\n",
      "   macro avg       0.87      0.86      0.86        76\n",
      "weighted avg       0.91      0.91      0.91        76\n",
      "\n"
     ]
    }
   ],
   "source": [
    "y_pred = elm.predict(encoded_test)\n",
    "print(metrics.classification_report(Y_Test, y_pred, target_names=['Class 0','Class 1']))"
   ]
  },
  {
   "cell_type": "code",
   "execution_count": 788,
   "id": "02359a25",
   "metadata": {},
   "outputs": [
    {
     "data": {
      "image/png": "[encoded data removed]",
      "text/plain": [
       "<Figure size 432x288 with 2 Axes>"
      ]
     },
     "metadata": {
      "needs_background": "light"
     },
     "output_type": "display_data"
    }
   ],
   "source": [
    "pred_list = elm.predict(encoded_test)\n",
    "cm = metrics.confusion_matrix(Y_Test, pred_list, labels=[0,1])\n",
    "disp = metrics.ConfusionMatrixDisplay(confusion_matrix=cm,display_labels=['Class 0','Class 1'])\n",
    "disp.plot()\n",
    "plt.show()"
   ]
  },
  {
   "cell_type": "markdown",
   "id": "f244d56a",
   "metadata": {},
   "source": [
    "# END."
   ]
  }
 ],
 "metadata": {
  "kernelspec": {
   "display_name": "Python 3",
   "language": "python",
   "name": "python3"
  },
  "language_info": {
   "codemirror_mode": {
    "name": "ipython",
    "version": 3
   },
   "file_extension": ".py",
   "mimetype": "text/x-python",
   "name": "python",
   "nbconvert_exporter": "python",
   "pygments_lexer": "ipython3",
   "version": "3.8.8"
  }
 },
 "nbformat": 4,
 "nbformat_minor": 5
}
